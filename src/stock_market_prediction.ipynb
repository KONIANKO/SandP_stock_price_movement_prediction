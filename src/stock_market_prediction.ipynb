{
 "cells": [
  {
   "cell_type": "markdown",
   "id": "b748ac4f",
   "metadata": {},
   "source": [
    "# Forecasting the Stock Market using News Sentiment Analysis"
   ]
  },
  {
   "cell_type": "code",
   "execution_count": 1,
   "id": "72af8c0b",
   "metadata": {},
   "outputs": [],
   "source": [
    "import pandas as pd\n",
    "import numpy as np\n",
    "from textblob import TextBlob"
   ]
  },
  {
   "cell_type": "markdown",
   "id": "f78f84aa",
   "metadata": {},
   "source": [
    "### 1.A. News articles preprocessing (all-the-news-2-1.csv):\n",
    "* keep date, title, section, and publication. \n",
    "* all the rows without a title are filtered to assure that each entry has a filled title column\n",
    "* Some publishers do not have a filled section column; these entries are replaced with “unknown”. However, this study is mainly focused on financial and business news articles and with an “unknown” section column it is impossible to decide whether it belongs to a financial and business article or not. \n",
    "* Therefore, this study uses two news article datasets, (1) with all the news articles with a financial or business-related section, and (2) all the news articles with unknown sections combined with dataset 1."
   ]
  },
  {
   "cell_type": "markdown",
   "id": "bcb5163f",
   "metadata": {},
   "source": [
    "**keep 'date', 'title', 'section', and 'publication' columns**"
   ]
  },
  {
   "cell_type": "code",
   "execution_count": 2,
   "id": "e7e2e8ce",
   "metadata": {},
   "outputs": [],
   "source": [
    "news_fields = ['date', 'title', 'section', 'publication']\n",
    "news_df = pd.read_csv('../data/all-the-news-2-1.csv', usecols=news_fields)"
   ]
  },
  {
   "cell_type": "code",
   "execution_count": 3,
   "id": "3f44a8a8",
   "metadata": {},
   "outputs": [
    {
     "data": {
      "text/html": [
       "<div>\n",
       "<style scoped>\n",
       "    .dataframe tbody tr th:only-of-type {\n",
       "        vertical-align: middle;\n",
       "    }\n",
       "\n",
       "    .dataframe tbody tr th {\n",
       "        vertical-align: top;\n",
       "    }\n",
       "\n",
       "    .dataframe thead th {\n",
       "        text-align: right;\n",
       "    }\n",
       "</style>\n",
       "<table border=\"1\" class=\"dataframe\">\n",
       "  <thead>\n",
       "    <tr style=\"text-align: right;\">\n",
       "      <th></th>\n",
       "      <th>date</th>\n",
       "      <th>title</th>\n",
       "      <th>section</th>\n",
       "      <th>publication</th>\n",
       "    </tr>\n",
       "  </thead>\n",
       "  <tbody>\n",
       "    <tr>\n",
       "      <th>0</th>\n",
       "      <td>2016-12-09 18:31:00</td>\n",
       "      <td>We should take concerns about the health of li...</td>\n",
       "      <td>NaN</td>\n",
       "      <td>Vox</td>\n",
       "    </tr>\n",
       "    <tr>\n",
       "      <th>1</th>\n",
       "      <td>2016-10-07 21:26:46</td>\n",
       "      <td>Colts GM Ryan Grigson says Andrew Luck's contr...</td>\n",
       "      <td>NaN</td>\n",
       "      <td>Business Insider</td>\n",
       "    </tr>\n",
       "    <tr>\n",
       "      <th>2</th>\n",
       "      <td>2018-01-26 00:00:00</td>\n",
       "      <td>Trump denies report he ordered Mueller fired</td>\n",
       "      <td>Davos</td>\n",
       "      <td>Reuters</td>\n",
       "    </tr>\n",
       "  </tbody>\n",
       "</table>\n",
       "</div>"
      ],
      "text/plain": [
       "                  date                                              title  \\\n",
       "0  2016-12-09 18:31:00  We should take concerns about the health of li...   \n",
       "1  2016-10-07 21:26:46  Colts GM Ryan Grigson says Andrew Luck's contr...   \n",
       "2  2018-01-26 00:00:00       Trump denies report he ordered Mueller fired   \n",
       "\n",
       "  section       publication  \n",
       "0     NaN               Vox  \n",
       "1     NaN  Business Insider  \n",
       "2   Davos           Reuters  "
      ]
     },
     "execution_count": 3,
     "metadata": {},
     "output_type": "execute_result"
    }
   ],
   "source": [
    "news_df.head(3)"
   ]
  },
  {
   "cell_type": "code",
   "execution_count": 4,
   "id": "b15dfef2",
   "metadata": {},
   "outputs": [
    {
     "data": {
      "text/plain": [
       "Index(['date', 'title', 'section', 'publication'], dtype='object')"
      ]
     },
     "execution_count": 4,
     "metadata": {},
     "output_type": "execute_result"
    }
   ],
   "source": [
    "news_df.keys()"
   ]
  },
  {
   "cell_type": "code",
   "execution_count": 5,
   "id": "9d98f22d",
   "metadata": {
    "scrolled": true
   },
   "outputs": [
    {
     "data": {
      "text/plain": [
       "2688878"
      ]
     },
     "execution_count": 5,
     "metadata": {},
     "output_type": "execute_result"
    }
   ],
   "source": [
    "len(news_df)"
   ]
  },
  {
   "cell_type": "markdown",
   "id": "2f48ffa8",
   "metadata": {},
   "source": [
    "**all the rows without a title are filtered to assure that each entry has a filled title column**"
   ]
  },
  {
   "cell_type": "code",
   "execution_count": 6,
   "id": "85647020",
   "metadata": {},
   "outputs": [],
   "source": [
    "news_df = news_df[news_df['title'].notna()]"
   ]
  },
  {
   "cell_type": "code",
   "execution_count": 7,
   "id": "ece971f7",
   "metadata": {},
   "outputs": [
    {
     "data": {
      "text/plain": [
       "2688841"
      ]
     },
     "execution_count": 7,
     "metadata": {},
     "output_type": "execute_result"
    }
   ],
   "source": [
    "len(news_df)"
   ]
  },
  {
   "cell_type": "code",
   "execution_count": 8,
   "id": "914cfc56",
   "metadata": {
    "scrolled": true
   },
   "outputs": [
    {
     "data": {
      "text/plain": [
       "Market News                                                                  108724\n",
       "World News                                                                   108651\n",
       "Business News                                                                 96395\n",
       "Wires                                                                         67352\n",
       "Financials                                                                    57845\n",
       "                                                                              ...  \n",
       "news-qs-2015-was-hottest-year-in-recorded-history-scientists-say                  1\n",
       "news-qs-tzi-the-icemans-stomach-bacteria-offers-clues-on-human-migration          1\n",
       "news-qs-el-chapo-captured-a-secret-interview-comes-to-light-one-day-later         1\n",
       "news-qs-a-rare-chance-to-pursue-a-new-path-for-u-s-and-iran                       1\n",
       "Manufacturing the Future                                                          1\n",
       "Name: section, Length: 7509, dtype: int64"
      ]
     },
     "execution_count": 8,
     "metadata": {},
     "output_type": "execute_result"
    }
   ],
   "source": [
    "news_df['section'].value_counts()"
   ]
  },
  {
   "cell_type": "markdown",
   "id": "536c1087",
   "metadata": {},
   "source": [
    "**Some publishers do not have a filled section column; these entries are replaced with “unknown”.**\n",
    "\n",
    "* here, it is unclear, if NaN schould be renamed to 'unknown' or if only the existing 7 'unknown' entries should be taken into account"
   ]
  },
  {
   "cell_type": "code",
   "execution_count": 9,
   "id": "41c6f494",
   "metadata": {},
   "outputs": [],
   "source": [
    "news_df['section'] = news_df['section'].replace(np.nan, 'unknown')"
   ]
  },
  {
   "cell_type": "markdown",
   "id": "5ef44d2b",
   "metadata": {},
   "source": [
    "**this study uses two news article datasets, (1) with all the news articles with a financial or business-related section...**"
   ]
  },
  {
   "cell_type": "code",
   "execution_count": 10,
   "id": "14b494be",
   "metadata": {
    "scrolled": true
   },
   "outputs": [],
   "source": [
    "valid_section_values_1 = ['Financials', 'Business News']\n",
    "news_df_1 = news_df[news_df['section'].isin(valid_section_values_1)]\n",
    "news_df_1 = news_df_1.reset_index(drop=True)"
   ]
  },
  {
   "cell_type": "code",
   "execution_count": 11,
   "id": "3619cc92",
   "metadata": {},
   "outputs": [
    {
     "data": {
      "text/html": [
       "<div>\n",
       "<style scoped>\n",
       "    .dataframe tbody tr th:only-of-type {\n",
       "        vertical-align: middle;\n",
       "    }\n",
       "\n",
       "    .dataframe tbody tr th {\n",
       "        vertical-align: top;\n",
       "    }\n",
       "\n",
       "    .dataframe thead th {\n",
       "        text-align: right;\n",
       "    }\n",
       "</style>\n",
       "<table border=\"1\" class=\"dataframe\">\n",
       "  <thead>\n",
       "    <tr style=\"text-align: right;\">\n",
       "      <th></th>\n",
       "      <th>date</th>\n",
       "      <th>title</th>\n",
       "      <th>section</th>\n",
       "      <th>publication</th>\n",
       "    </tr>\n",
       "  </thead>\n",
       "  <tbody>\n",
       "    <tr>\n",
       "      <th>0</th>\n",
       "      <td>2019-06-17 00:00:00</td>\n",
       "      <td>ECB's Coeure: If we decide to cut rates, we'd ...</td>\n",
       "      <td>Financials</td>\n",
       "      <td>Reuters</td>\n",
       "    </tr>\n",
       "    <tr>\n",
       "      <th>1</th>\n",
       "      <td>2019-06-23 00:00:00</td>\n",
       "      <td>Hudson's Bay's chairman's buyout bid pits reta...</td>\n",
       "      <td>Business News</td>\n",
       "      <td>Reuters</td>\n",
       "    </tr>\n",
       "    <tr>\n",
       "      <th>2</th>\n",
       "      <td>2018-12-28 00:00:00</td>\n",
       "      <td>Wells Fargo to pay $575 million in settlement ...</td>\n",
       "      <td>Business News</td>\n",
       "      <td>Reuters</td>\n",
       "    </tr>\n",
       "    <tr>\n",
       "      <th>3</th>\n",
       "      <td>2019-05-21 00:00:00</td>\n",
       "      <td>Factbox: Investments by automakers in the U.S....</td>\n",
       "      <td>Business News</td>\n",
       "      <td>Reuters</td>\n",
       "    </tr>\n",
       "    <tr>\n",
       "      <th>4</th>\n",
       "      <td>2019-02-05 00:00:00</td>\n",
       "      <td>Exclusive: Britain's financial heartland unbow...</td>\n",
       "      <td>Business News</td>\n",
       "      <td>Reuters</td>\n",
       "    </tr>\n",
       "    <tr>\n",
       "      <th>...</th>\n",
       "      <td>...</td>\n",
       "      <td>...</td>\n",
       "      <td>...</td>\n",
       "      <td>...</td>\n",
       "    </tr>\n",
       "    <tr>\n",
       "      <th>154235</th>\n",
       "      <td>2020-03-26</td>\n",
       "      <td>BlackRock says 'rebalancing into risky assets'...</td>\n",
       "      <td>Business News</td>\n",
       "      <td>Reuters</td>\n",
       "    </tr>\n",
       "    <tr>\n",
       "      <th>154236</th>\n",
       "      <td>2020-03-23</td>\n",
       "      <td>Croatia cenbank rolls over liquidity boost, in...</td>\n",
       "      <td>Financials</td>\n",
       "      <td>Reuters</td>\n",
       "    </tr>\n",
       "    <tr>\n",
       "      <th>154237</th>\n",
       "      <td>2020-03-26</td>\n",
       "      <td>Putin, at G20 summit, proposes lifting sanctio...</td>\n",
       "      <td>Business News</td>\n",
       "      <td>Reuters</td>\n",
       "    </tr>\n",
       "    <tr>\n",
       "      <th>154238</th>\n",
       "      <td>2020-03-23</td>\n",
       "      <td>Most North Sea oil output \"in the money\", but ...</td>\n",
       "      <td>Financials</td>\n",
       "      <td>Reuters</td>\n",
       "    </tr>\n",
       "    <tr>\n",
       "      <th>154239</th>\n",
       "      <td>2020-03-28 00:00:00</td>\n",
       "      <td>Trump considering 'enforceable' quarantine in ...</td>\n",
       "      <td>Business News</td>\n",
       "      <td>CNBC</td>\n",
       "    </tr>\n",
       "  </tbody>\n",
       "</table>\n",
       "<p>154240 rows × 4 columns</p>\n",
       "</div>"
      ],
      "text/plain": [
       "                       date  \\\n",
       "0       2019-06-17 00:00:00   \n",
       "1       2019-06-23 00:00:00   \n",
       "2       2018-12-28 00:00:00   \n",
       "3       2019-05-21 00:00:00   \n",
       "4       2019-02-05 00:00:00   \n",
       "...                     ...   \n",
       "154235           2020-03-26   \n",
       "154236           2020-03-23   \n",
       "154237           2020-03-26   \n",
       "154238           2020-03-23   \n",
       "154239  2020-03-28 00:00:00   \n",
       "\n",
       "                                                    title        section  \\\n",
       "0       ECB's Coeure: If we decide to cut rates, we'd ...     Financials   \n",
       "1       Hudson's Bay's chairman's buyout bid pits reta...  Business News   \n",
       "2       Wells Fargo to pay $575 million in settlement ...  Business News   \n",
       "3       Factbox: Investments by automakers in the U.S....  Business News   \n",
       "4       Exclusive: Britain's financial heartland unbow...  Business News   \n",
       "...                                                   ...            ...   \n",
       "154235  BlackRock says 'rebalancing into risky assets'...  Business News   \n",
       "154236  Croatia cenbank rolls over liquidity boost, in...     Financials   \n",
       "154237  Putin, at G20 summit, proposes lifting sanctio...  Business News   \n",
       "154238  Most North Sea oil output \"in the money\", but ...     Financials   \n",
       "154239  Trump considering 'enforceable' quarantine in ...  Business News   \n",
       "\n",
       "       publication  \n",
       "0          Reuters  \n",
       "1          Reuters  \n",
       "2          Reuters  \n",
       "3          Reuters  \n",
       "4          Reuters  \n",
       "...            ...  \n",
       "154235     Reuters  \n",
       "154236     Reuters  \n",
       "154237     Reuters  \n",
       "154238     Reuters  \n",
       "154239        CNBC  \n",
       "\n",
       "[154240 rows x 4 columns]"
      ]
     },
     "execution_count": 11,
     "metadata": {},
     "output_type": "execute_result"
    }
   ],
   "source": [
    "news_df_1"
   ]
  },
  {
   "cell_type": "markdown",
   "id": "c1fe68a1",
   "metadata": {},
   "source": [
    "**...and (2) all the news articles with unknown sections combined with dataset 1**"
   ]
  },
  {
   "cell_type": "code",
   "execution_count": 12,
   "id": "5a693899",
   "metadata": {},
   "outputs": [],
   "source": [
    "valid_section_values_2 = ['unknown', 'Financials', 'Business News']\n",
    "news_df_2 = news_df[news_df['section'].isin(valid_section_values_2)]\n",
    "news_df_2 = news_df_2.reset_index(drop=True)"
   ]
  },
  {
   "cell_type": "code",
   "execution_count": 13,
   "id": "f36ee960",
   "metadata": {},
   "outputs": [
    {
     "data": {
      "text/html": [
       "<div>\n",
       "<style scoped>\n",
       "    .dataframe tbody tr th:only-of-type {\n",
       "        vertical-align: middle;\n",
       "    }\n",
       "\n",
       "    .dataframe tbody tr th {\n",
       "        vertical-align: top;\n",
       "    }\n",
       "\n",
       "    .dataframe thead th {\n",
       "        text-align: right;\n",
       "    }\n",
       "</style>\n",
       "<table border=\"1\" class=\"dataframe\">\n",
       "  <thead>\n",
       "    <tr style=\"text-align: right;\">\n",
       "      <th></th>\n",
       "      <th>date</th>\n",
       "      <th>title</th>\n",
       "      <th>section</th>\n",
       "      <th>publication</th>\n",
       "    </tr>\n",
       "  </thead>\n",
       "  <tbody>\n",
       "    <tr>\n",
       "      <th>0</th>\n",
       "      <td>2016-12-09 18:31:00</td>\n",
       "      <td>We should take concerns about the health of li...</td>\n",
       "      <td>unknown</td>\n",
       "      <td>Vox</td>\n",
       "    </tr>\n",
       "    <tr>\n",
       "      <th>1</th>\n",
       "      <td>2016-10-07 21:26:46</td>\n",
       "      <td>Colts GM Ryan Grigson says Andrew Luck's contr...</td>\n",
       "      <td>unknown</td>\n",
       "      <td>Business Insider</td>\n",
       "    </tr>\n",
       "    <tr>\n",
       "      <th>2</th>\n",
       "      <td>2016-01-27 00:00:00</td>\n",
       "      <td>Paris Hilton: Woman In Black For Uncle Monty's...</td>\n",
       "      <td>unknown</td>\n",
       "      <td>TMZ</td>\n",
       "    </tr>\n",
       "    <tr>\n",
       "      <th>3</th>\n",
       "      <td>2019-06-17 00:00:00</td>\n",
       "      <td>ECB's Coeure: If we decide to cut rates, we'd ...</td>\n",
       "      <td>Financials</td>\n",
       "      <td>Reuters</td>\n",
       "    </tr>\n",
       "    <tr>\n",
       "      <th>4</th>\n",
       "      <td>2016-05-18 13:00:06</td>\n",
       "      <td>How to watch the Google I/O keynote live</td>\n",
       "      <td>unknown</td>\n",
       "      <td>Vox</td>\n",
       "    </tr>\n",
       "    <tr>\n",
       "      <th>...</th>\n",
       "      <td>...</td>\n",
       "      <td>...</td>\n",
       "      <td>...</td>\n",
       "      <td>...</td>\n",
       "    </tr>\n",
       "    <tr>\n",
       "      <th>1066483</th>\n",
       "      <td>2020-04-01 00:00:00</td>\n",
       "      <td>Florida Ammo Selling Out On Heels of Stay-At-H...</td>\n",
       "      <td>unknown</td>\n",
       "      <td>TMZ</td>\n",
       "    </tr>\n",
       "    <tr>\n",
       "      <th>1066484</th>\n",
       "      <td>2020-04-01 00:00:00</td>\n",
       "      <td>Disney Forcing Annual Pass Holders to Continue...</td>\n",
       "      <td>unknown</td>\n",
       "      <td>TMZ</td>\n",
       "    </tr>\n",
       "    <tr>\n",
       "      <th>1066485</th>\n",
       "      <td>2020-04-01 00:00:00</td>\n",
       "      <td>Nick Cannon Pimps Out His Impala with Custom N...</td>\n",
       "      <td>unknown</td>\n",
       "      <td>TMZ</td>\n",
       "    </tr>\n",
       "    <tr>\n",
       "      <th>1066486</th>\n",
       "      <td>2020-04-01 00:00:00</td>\n",
       "      <td>Pete Buttigieg Says Governors Showing More Lea...</td>\n",
       "      <td>unknown</td>\n",
       "      <td>TMZ</td>\n",
       "    </tr>\n",
       "    <tr>\n",
       "      <th>1066487</th>\n",
       "      <td>2020-04-01 00:00:00</td>\n",
       "      <td>Ruth Bader Ginsburg Still Working Out with Tra...</td>\n",
       "      <td>unknown</td>\n",
       "      <td>TMZ</td>\n",
       "    </tr>\n",
       "  </tbody>\n",
       "</table>\n",
       "<p>1066488 rows × 4 columns</p>\n",
       "</div>"
      ],
      "text/plain": [
       "                        date  \\\n",
       "0        2016-12-09 18:31:00   \n",
       "1        2016-10-07 21:26:46   \n",
       "2        2016-01-27 00:00:00   \n",
       "3        2019-06-17 00:00:00   \n",
       "4        2016-05-18 13:00:06   \n",
       "...                      ...   \n",
       "1066483  2020-04-01 00:00:00   \n",
       "1066484  2020-04-01 00:00:00   \n",
       "1066485  2020-04-01 00:00:00   \n",
       "1066486  2020-04-01 00:00:00   \n",
       "1066487  2020-04-01 00:00:00   \n",
       "\n",
       "                                                     title     section  \\\n",
       "0        We should take concerns about the health of li...     unknown   \n",
       "1        Colts GM Ryan Grigson says Andrew Luck's contr...     unknown   \n",
       "2        Paris Hilton: Woman In Black For Uncle Monty's...     unknown   \n",
       "3        ECB's Coeure: If we decide to cut rates, we'd ...  Financials   \n",
       "4                 How to watch the Google I/O keynote live     unknown   \n",
       "...                                                    ...         ...   \n",
       "1066483  Florida Ammo Selling Out On Heels of Stay-At-H...     unknown   \n",
       "1066484  Disney Forcing Annual Pass Holders to Continue...     unknown   \n",
       "1066485  Nick Cannon Pimps Out His Impala with Custom N...     unknown   \n",
       "1066486  Pete Buttigieg Says Governors Showing More Lea...     unknown   \n",
       "1066487  Ruth Bader Ginsburg Still Working Out with Tra...     unknown   \n",
       "\n",
       "              publication  \n",
       "0                     Vox  \n",
       "1        Business Insider  \n",
       "2                     TMZ  \n",
       "3                 Reuters  \n",
       "4                     Vox  \n",
       "...                   ...  \n",
       "1066483               TMZ  \n",
       "1066484               TMZ  \n",
       "1066485               TMZ  \n",
       "1066486               TMZ  \n",
       "1066487               TMZ  \n",
       "\n",
       "[1066488 rows x 4 columns]"
      ]
     },
     "execution_count": 13,
     "metadata": {},
     "output_type": "execute_result"
    }
   ],
   "source": [
    "news_df_2"
   ]
  },
  {
   "cell_type": "code",
   "execution_count": null,
   "id": "8a54cf23",
   "metadata": {},
   "outputs": [],
   "source": []
  },
  {
   "cell_type": "code",
   "execution_count": null,
   "id": "d859049d",
   "metadata": {},
   "outputs": [],
   "source": []
  },
  {
   "cell_type": "markdown",
   "id": "ab034514",
   "metadata": {},
   "source": [
    "### 1.B. News Articles Sentiment Scores\n",
    "* After preprocessing the news article dataset, some code should be executed to gather the different sentiment score features. As mentioned in Section 3.2 the following sentiment scores are calculated and added to the two news articles datasets: VADER, **TextBlob**, and LM. Hence, each row (news article) has several sentiment score columns. Since the news article and price datasets will be merged on the date columns, a group by date function has been executed. While grouping the rows by the date column, the sentiment scores will be averaged."
   ]
  },
  {
   "cell_type": "code",
   "execution_count": 14,
   "id": "82b54095",
   "metadata": {},
   "outputs": [],
   "source": [
    "def text_blob_sentiment(some_df):\n",
    "    scores = []\n",
    "    sentences = list(some_df['title'])\n",
    "    \n",
    "    for sent in sentences:\n",
    "        testimonial = TextBlob(sent)\n",
    "        scores.append(testimonial.sentiment.polarity)\n",
    "        \n",
    "    some_df['TextBlob_Sentiment'] = scores\n",
    "    return some_df"
   ]
  },
  {
   "cell_type": "code",
   "execution_count": 15,
   "id": "b77b7188",
   "metadata": {},
   "outputs": [],
   "source": [
    "news_df_1 = text_blob_sentiment(news_df_1)"
   ]
  },
  {
   "cell_type": "code",
   "execution_count": 16,
   "id": "10b4939d",
   "metadata": {},
   "outputs": [],
   "source": [
    "news_df_2 = text_blob_sentiment(news_df_2)"
   ]
  },
  {
   "cell_type": "code",
   "execution_count": 17,
   "id": "1bb2fe4a",
   "metadata": {},
   "outputs": [
    {
     "data": {
      "text/html": [
       "<div>\n",
       "<style scoped>\n",
       "    .dataframe tbody tr th:only-of-type {\n",
       "        vertical-align: middle;\n",
       "    }\n",
       "\n",
       "    .dataframe tbody tr th {\n",
       "        vertical-align: top;\n",
       "    }\n",
       "\n",
       "    .dataframe thead th {\n",
       "        text-align: right;\n",
       "    }\n",
       "</style>\n",
       "<table border=\"1\" class=\"dataframe\">\n",
       "  <thead>\n",
       "    <tr style=\"text-align: right;\">\n",
       "      <th></th>\n",
       "      <th>date</th>\n",
       "      <th>title</th>\n",
       "      <th>section</th>\n",
       "      <th>publication</th>\n",
       "      <th>TextBlob_Sentiment</th>\n",
       "    </tr>\n",
       "  </thead>\n",
       "  <tbody>\n",
       "    <tr>\n",
       "      <th>0</th>\n",
       "      <td>2019-06-17 00:00:00</td>\n",
       "      <td>ECB's Coeure: If we decide to cut rates, we'd ...</td>\n",
       "      <td>Financials</td>\n",
       "      <td>Reuters</td>\n",
       "      <td>0.0</td>\n",
       "    </tr>\n",
       "    <tr>\n",
       "      <th>1</th>\n",
       "      <td>2019-06-23 00:00:00</td>\n",
       "      <td>Hudson's Bay's chairman's buyout bid pits reta...</td>\n",
       "      <td>Business News</td>\n",
       "      <td>Reuters</td>\n",
       "      <td>0.2</td>\n",
       "    </tr>\n",
       "    <tr>\n",
       "      <th>2</th>\n",
       "      <td>2018-12-28 00:00:00</td>\n",
       "      <td>Wells Fargo to pay $575 million in settlement ...</td>\n",
       "      <td>Business News</td>\n",
       "      <td>Reuters</td>\n",
       "      <td>0.0</td>\n",
       "    </tr>\n",
       "  </tbody>\n",
       "</table>\n",
       "</div>"
      ],
      "text/plain": [
       "                  date                                              title  \\\n",
       "0  2019-06-17 00:00:00  ECB's Coeure: If we decide to cut rates, we'd ...   \n",
       "1  2019-06-23 00:00:00  Hudson's Bay's chairman's buyout bid pits reta...   \n",
       "2  2018-12-28 00:00:00  Wells Fargo to pay $575 million in settlement ...   \n",
       "\n",
       "         section publication  TextBlob_Sentiment  \n",
       "0     Financials     Reuters                 0.0  \n",
       "1  Business News     Reuters                 0.2  \n",
       "2  Business News     Reuters                 0.0  "
      ]
     },
     "execution_count": 17,
     "metadata": {},
     "output_type": "execute_result"
    }
   ],
   "source": [
    "news_df_1.head(3)"
   ]
  },
  {
   "cell_type": "code",
   "execution_count": 18,
   "id": "d2f76b13",
   "metadata": {},
   "outputs": [
    {
     "data": {
      "text/html": [
       "<div>\n",
       "<style scoped>\n",
       "    .dataframe tbody tr th:only-of-type {\n",
       "        vertical-align: middle;\n",
       "    }\n",
       "\n",
       "    .dataframe tbody tr th {\n",
       "        vertical-align: top;\n",
       "    }\n",
       "\n",
       "    .dataframe thead th {\n",
       "        text-align: right;\n",
       "    }\n",
       "</style>\n",
       "<table border=\"1\" class=\"dataframe\">\n",
       "  <thead>\n",
       "    <tr style=\"text-align: right;\">\n",
       "      <th></th>\n",
       "      <th>date</th>\n",
       "      <th>title</th>\n",
       "      <th>section</th>\n",
       "      <th>publication</th>\n",
       "      <th>TextBlob_Sentiment</th>\n",
       "    </tr>\n",
       "  </thead>\n",
       "  <tbody>\n",
       "    <tr>\n",
       "      <th>0</th>\n",
       "      <td>2016-12-09 18:31:00</td>\n",
       "      <td>We should take concerns about the health of li...</td>\n",
       "      <td>unknown</td>\n",
       "      <td>Vox</td>\n",
       "      <td>-0.333333</td>\n",
       "    </tr>\n",
       "    <tr>\n",
       "      <th>1</th>\n",
       "      <td>2016-10-07 21:26:46</td>\n",
       "      <td>Colts GM Ryan Grigson says Andrew Luck's contr...</td>\n",
       "      <td>unknown</td>\n",
       "      <td>Business Insider</td>\n",
       "      <td>-0.500000</td>\n",
       "    </tr>\n",
       "    <tr>\n",
       "      <th>2</th>\n",
       "      <td>2016-01-27 00:00:00</td>\n",
       "      <td>Paris Hilton: Woman In Black For Uncle Monty's...</td>\n",
       "      <td>unknown</td>\n",
       "      <td>TMZ</td>\n",
       "      <td>-0.166667</td>\n",
       "    </tr>\n",
       "  </tbody>\n",
       "</table>\n",
       "</div>"
      ],
      "text/plain": [
       "                  date                                              title  \\\n",
       "0  2016-12-09 18:31:00  We should take concerns about the health of li...   \n",
       "1  2016-10-07 21:26:46  Colts GM Ryan Grigson says Andrew Luck's contr...   \n",
       "2  2016-01-27 00:00:00  Paris Hilton: Woman In Black For Uncle Monty's...   \n",
       "\n",
       "   section       publication  TextBlob_Sentiment  \n",
       "0  unknown               Vox           -0.333333  \n",
       "1  unknown  Business Insider           -0.500000  \n",
       "2  unknown               TMZ           -0.166667  "
      ]
     },
     "execution_count": 18,
     "metadata": {},
     "output_type": "execute_result"
    }
   ],
   "source": [
    "news_df_2.head(3)"
   ]
  },
  {
   "cell_type": "markdown",
   "id": "f19b3e6a",
   "metadata": {},
   "source": [
    "**a group by date function has been executed. While grouping the rows by the date column, the sentiment scores will be averaged.**"
   ]
  },
  {
   "cell_type": "code",
   "execution_count": 19,
   "id": "b94d1b9d",
   "metadata": {},
   "outputs": [],
   "source": [
    "news_df_1 = news_df_1.groupby(['date'])\n",
    "news_df_2 = news_df_2.groupby(['date'])"
   ]
  },
  {
   "cell_type": "code",
   "execution_count": 20,
   "id": "74ae3d19",
   "metadata": {},
   "outputs": [],
   "source": [
    "news_df_1 = pd.DataFrame(news_df_1)\n",
    "news_df_2 = pd.DataFrame(news_df_2)"
   ]
  },
  {
   "cell_type": "code",
   "execution_count": 21,
   "id": "eff14260",
   "metadata": {},
   "outputs": [
    {
     "name": "stdout",
     "output_type": "stream",
     "text": [
      "<class 'pandas.core.frame.DataFrame'>\n"
     ]
    }
   ],
   "source": [
    "print(type(news_df_1))"
   ]
  },
  {
   "cell_type": "code",
   "execution_count": 22,
   "id": "79db6df5",
   "metadata": {},
   "outputs": [
    {
     "data": {
      "text/html": [
       "<div>\n",
       "<style scoped>\n",
       "    .dataframe tbody tr th:only-of-type {\n",
       "        vertical-align: middle;\n",
       "    }\n",
       "\n",
       "    .dataframe tbody tr th {\n",
       "        vertical-align: top;\n",
       "    }\n",
       "\n",
       "    .dataframe thead th {\n",
       "        text-align: right;\n",
       "    }\n",
       "</style>\n",
       "<table border=\"1\" class=\"dataframe\">\n",
       "  <thead>\n",
       "    <tr style=\"text-align: right;\">\n",
       "      <th></th>\n",
       "      <th>0</th>\n",
       "      <th>1</th>\n",
       "    </tr>\n",
       "  </thead>\n",
       "  <tbody>\n",
       "    <tr>\n",
       "      <th>0</th>\n",
       "      <td>2016-01-01</td>\n",
       "      <td>date                             ...</td>\n",
       "    </tr>\n",
       "    <tr>\n",
       "      <th>1</th>\n",
       "      <td>2016-01-01 00:00:00</td>\n",
       "      <td>date                    ...</td>\n",
       "    </tr>\n",
       "    <tr>\n",
       "      <th>2</th>\n",
       "      <td>2016-01-02</td>\n",
       "      <td>date                             ...</td>\n",
       "    </tr>\n",
       "  </tbody>\n",
       "</table>\n",
       "</div>"
      ],
      "text/plain": [
       "                     0                                                  1\n",
       "0           2016-01-01               date                             ...\n",
       "1  2016-01-01 00:00:00                        date                    ...\n",
       "2           2016-01-02               date                             ..."
      ]
     },
     "execution_count": 22,
     "metadata": {},
     "output_type": "execute_result"
    }
   ],
   "source": [
    "news_df_1.head(3)"
   ]
  },
  {
   "cell_type": "code",
   "execution_count": 23,
   "id": "8d93cc13",
   "metadata": {},
   "outputs": [
    {
     "data": {
      "text/html": [
       "<div>\n",
       "<style scoped>\n",
       "    .dataframe tbody tr th:only-of-type {\n",
       "        vertical-align: middle;\n",
       "    }\n",
       "\n",
       "    .dataframe tbody tr th {\n",
       "        vertical-align: top;\n",
       "    }\n",
       "\n",
       "    .dataframe thead th {\n",
       "        text-align: right;\n",
       "    }\n",
       "</style>\n",
       "<table border=\"1\" class=\"dataframe\">\n",
       "  <thead>\n",
       "    <tr style=\"text-align: right;\">\n",
       "      <th></th>\n",
       "      <th>0</th>\n",
       "      <th>1</th>\n",
       "    </tr>\n",
       "  </thead>\n",
       "  <tbody>\n",
       "    <tr>\n",
       "      <th>0</th>\n",
       "      <td>2016-01-01</td>\n",
       "      <td>date                            ...</td>\n",
       "    </tr>\n",
       "    <tr>\n",
       "      <th>1</th>\n",
       "      <td>2016-01-01 00:00:00</td>\n",
       "      <td>date  \\\n",
       "7212    2016-01...</td>\n",
       "    </tr>\n",
       "    <tr>\n",
       "      <th>2</th>\n",
       "      <td>2016-01-01 01:41:26</td>\n",
       "      <td>date                    ...</td>\n",
       "    </tr>\n",
       "  </tbody>\n",
       "</table>\n",
       "</div>"
      ],
      "text/plain": [
       "                     0                                                  1\n",
       "0           2016-01-01                date                            ...\n",
       "1  2016-01-01 00:00:00                         date  \\\n",
       "7212    2016-01...\n",
       "2  2016-01-01 01:41:26                        date                    ..."
      ]
     },
     "execution_count": 23,
     "metadata": {},
     "output_type": "execute_result"
    }
   ],
   "source": [
    "news_df_2.head(3)"
   ]
  },
  {
   "cell_type": "code",
   "execution_count": null,
   "id": "5274a1e1",
   "metadata": {},
   "outputs": [],
   "source": []
  },
  {
   "cell_type": "markdown",
   "id": "fc58fc70",
   "metadata": {},
   "source": [
    "### 2. S&P 500 preprocessing (YahooFinancials package.xls) (1785 entries before preprocessing, includig keys row)\n",
    "* keep columns: close price, volume, and date\n",
    "* Another column has been added with the movement, this is the binary dependent variable in this study. A 1 is assigned if the stock market value went up or remained the same compared to the day before and 0 if the stock market values went down.\n",
    "* Since it has been decided to use fundamental as well as technical analysis, a column has been added with a technical indicator. Although there are many technical indicators which can be calculated with the features in the S&P 500 dataset, the most common one has been chosen, which is the simple moving average (SMA). To calculate the SMA, all the closing prices are summed up over a given period and divided by the number of periods\n",
    "SMA = (A1 + A2 + ... + An) / n\n",
    "* Since the prediction of a stock for the following day is considered as a short-term prediction, the period should is set on 10 days"
   ]
  },
  {
   "cell_type": "markdown",
   "id": "8fd86ee7",
   "metadata": {},
   "source": [
    "**keep columns: close price, volume, and date**"
   ]
  },
  {
   "cell_type": "code",
   "execution_count": 23,
   "id": "5ceedb2a",
   "metadata": {},
   "outputs": [],
   "source": [
    "fields = ['Date', 'Close*', 'Volume']\n",
    "\n",
    "sandp_df = pd.read_excel('../data/YahooFinancials package.xls', usecols=fields)\n",
    "sandp_df.rename(columns = {'Date':'date'}, inplace = True)"
   ]
  },
  {
   "cell_type": "code",
   "execution_count": 24,
   "id": "73d7e5c6",
   "metadata": {
    "scrolled": true
   },
   "outputs": [
    {
     "data": {
      "text/html": [
       "<div>\n",
       "<style scoped>\n",
       "    .dataframe tbody tr th:only-of-type {\n",
       "        vertical-align: middle;\n",
       "    }\n",
       "\n",
       "    .dataframe tbody tr th {\n",
       "        vertical-align: top;\n",
       "    }\n",
       "\n",
       "    .dataframe thead th {\n",
       "        text-align: right;\n",
       "    }\n",
       "</style>\n",
       "<table border=\"1\" class=\"dataframe\">\n",
       "  <thead>\n",
       "    <tr style=\"text-align: right;\">\n",
       "      <th></th>\n",
       "      <th>date</th>\n",
       "      <th>Close*</th>\n",
       "      <th>Volume</th>\n",
       "    </tr>\n",
       "  </thead>\n",
       "  <tbody>\n",
       "    <tr>\n",
       "      <th>0</th>\n",
       "      <td>Jan 31, 2020</td>\n",
       "      <td>3225.52</td>\n",
       "      <td>4527830000</td>\n",
       "    </tr>\n",
       "    <tr>\n",
       "      <th>1</th>\n",
       "      <td>Jan 30, 2020</td>\n",
       "      <td>3283.66</td>\n",
       "      <td>3787250000</td>\n",
       "    </tr>\n",
       "    <tr>\n",
       "      <th>2</th>\n",
       "      <td>Jan 29, 2020</td>\n",
       "      <td>3273.40</td>\n",
       "      <td>3584500000</td>\n",
       "    </tr>\n",
       "  </tbody>\n",
       "</table>\n",
       "</div>"
      ],
      "text/plain": [
       "           date   Close*      Volume\n",
       "0  Jan 31, 2020  3225.52  4527830000\n",
       "1  Jan 30, 2020  3283.66  3787250000\n",
       "2  Jan 29, 2020  3273.40  3584500000"
      ]
     },
     "execution_count": 24,
     "metadata": {},
     "output_type": "execute_result"
    }
   ],
   "source": [
    "sandp_df.head(3)"
   ]
  },
  {
   "cell_type": "markdown",
   "id": "a8d2a692",
   "metadata": {},
   "source": [
    "**Another column has been added with the movement, this is the binary dependent variable in this study. A 1 is assigned if the stock market value went up or remained the same compared to the day before and 0 if the stock market values went down.**"
   ]
  },
  {
   "cell_type": "code",
   "execution_count": 25,
   "id": "20d6b863",
   "metadata": {},
   "outputs": [],
   "source": [
    "def calculate_movement(some_df):\n",
    "    \n",
    "    close_list = list(some_df['Close*'])\n",
    "    \n",
    "    movement = []  \n",
    "    for i in range(len(close_list)-1):\n",
    "        if close_list[i] < close_list[i+1]:\n",
    "            movement.append(0)\n",
    "        else:\n",
    "            movement.append(1)\n",
    "    movement.append(1)   # there is nothing to compare for the first day, set to 1 (remained the same)\n",
    "    some_df['movement'] = movement\n",
    "    return some_df"
   ]
  },
  {
   "cell_type": "code",
   "execution_count": 26,
   "id": "60c43a8a",
   "metadata": {},
   "outputs": [],
   "source": [
    "sandp_df = calculate_movement(sandp_df)"
   ]
  },
  {
   "cell_type": "code",
   "execution_count": 27,
   "id": "d2a5f714",
   "metadata": {},
   "outputs": [
    {
     "data": {
      "text/html": [
       "<div>\n",
       "<style scoped>\n",
       "    .dataframe tbody tr th:only-of-type {\n",
       "        vertical-align: middle;\n",
       "    }\n",
       "\n",
       "    .dataframe tbody tr th {\n",
       "        vertical-align: top;\n",
       "    }\n",
       "\n",
       "    .dataframe thead th {\n",
       "        text-align: right;\n",
       "    }\n",
       "</style>\n",
       "<table border=\"1\" class=\"dataframe\">\n",
       "  <thead>\n",
       "    <tr style=\"text-align: right;\">\n",
       "      <th></th>\n",
       "      <th>date</th>\n",
       "      <th>Close*</th>\n",
       "      <th>Volume</th>\n",
       "      <th>movement</th>\n",
       "    </tr>\n",
       "  </thead>\n",
       "  <tbody>\n",
       "    <tr>\n",
       "      <th>1781</th>\n",
       "      <td>Jan 03, 2013</td>\n",
       "      <td>1459.37</td>\n",
       "      <td>3829730000</td>\n",
       "      <td>0</td>\n",
       "    </tr>\n",
       "    <tr>\n",
       "      <th>1782</th>\n",
       "      <td>Jan 02, 2013</td>\n",
       "      <td>1462.42</td>\n",
       "      <td>4202600000</td>\n",
       "      <td>1</td>\n",
       "    </tr>\n",
       "    <tr>\n",
       "      <th>1783</th>\n",
       "      <td>Dec 31, 2012</td>\n",
       "      <td>1426.19</td>\n",
       "      <td>3204330000</td>\n",
       "      <td>1</td>\n",
       "    </tr>\n",
       "  </tbody>\n",
       "</table>\n",
       "</div>"
      ],
      "text/plain": [
       "              date   Close*      Volume  movement\n",
       "1781  Jan 03, 2013  1459.37  3829730000         0\n",
       "1782  Jan 02, 2013  1462.42  4202600000         1\n",
       "1783  Dec 31, 2012  1426.19  3204330000         1"
      ]
     },
     "execution_count": 27,
     "metadata": {},
     "output_type": "execute_result"
    }
   ],
   "source": [
    "sandp_df.tail(3)"
   ]
  },
  {
   "cell_type": "code",
   "execution_count": 28,
   "id": "d8ea13fc",
   "metadata": {},
   "outputs": [
    {
     "data": {
      "text/html": [
       "<div>\n",
       "<style scoped>\n",
       "    .dataframe tbody tr th:only-of-type {\n",
       "        vertical-align: middle;\n",
       "    }\n",
       "\n",
       "    .dataframe tbody tr th {\n",
       "        vertical-align: top;\n",
       "    }\n",
       "\n",
       "    .dataframe thead th {\n",
       "        text-align: right;\n",
       "    }\n",
       "</style>\n",
       "<table border=\"1\" class=\"dataframe\">\n",
       "  <thead>\n",
       "    <tr style=\"text-align: right;\">\n",
       "      <th></th>\n",
       "      <th>date</th>\n",
       "      <th>Close*</th>\n",
       "      <th>Volume</th>\n",
       "      <th>movement</th>\n",
       "    </tr>\n",
       "  </thead>\n",
       "  <tbody>\n",
       "    <tr>\n",
       "      <th>0</th>\n",
       "      <td>Jan 31, 2020</td>\n",
       "      <td>3225.52</td>\n",
       "      <td>4527830000</td>\n",
       "      <td>0</td>\n",
       "    </tr>\n",
       "    <tr>\n",
       "      <th>1</th>\n",
       "      <td>Jan 30, 2020</td>\n",
       "      <td>3283.66</td>\n",
       "      <td>3787250000</td>\n",
       "      <td>1</td>\n",
       "    </tr>\n",
       "    <tr>\n",
       "      <th>2</th>\n",
       "      <td>Jan 29, 2020</td>\n",
       "      <td>3273.40</td>\n",
       "      <td>3584500000</td>\n",
       "      <td>0</td>\n",
       "    </tr>\n",
       "    <tr>\n",
       "      <th>3</th>\n",
       "      <td>Jan 28, 2020</td>\n",
       "      <td>3276.24</td>\n",
       "      <td>3526720000</td>\n",
       "      <td>1</td>\n",
       "    </tr>\n",
       "    <tr>\n",
       "      <th>4</th>\n",
       "      <td>Jan 27, 2020</td>\n",
       "      <td>3243.63</td>\n",
       "      <td>3823100000</td>\n",
       "      <td>0</td>\n",
       "    </tr>\n",
       "    <tr>\n",
       "      <th>5</th>\n",
       "      <td>Jan 24, 2020</td>\n",
       "      <td>3295.47</td>\n",
       "      <td>3707130000</td>\n",
       "      <td>0</td>\n",
       "    </tr>\n",
       "    <tr>\n",
       "      <th>6</th>\n",
       "      <td>Jan 23, 2020</td>\n",
       "      <td>3325.54</td>\n",
       "      <td>3764860000</td>\n",
       "      <td>1</td>\n",
       "    </tr>\n",
       "    <tr>\n",
       "      <th>7</th>\n",
       "      <td>Jan 22, 2020</td>\n",
       "      <td>3321.75</td>\n",
       "      <td>3619850000</td>\n",
       "      <td>1</td>\n",
       "    </tr>\n",
       "    <tr>\n",
       "      <th>8</th>\n",
       "      <td>Jan 21, 2020</td>\n",
       "      <td>3320.79</td>\n",
       "      <td>4105340000</td>\n",
       "      <td>0</td>\n",
       "    </tr>\n",
       "    <tr>\n",
       "      <th>9</th>\n",
       "      <td>Jan 17, 2020</td>\n",
       "      <td>3329.62</td>\n",
       "      <td>3698170000</td>\n",
       "      <td>1</td>\n",
       "    </tr>\n",
       "    <tr>\n",
       "      <th>10</th>\n",
       "      <td>Jan 16, 2020</td>\n",
       "      <td>3316.81</td>\n",
       "      <td>3535080000</td>\n",
       "      <td>1</td>\n",
       "    </tr>\n",
       "    <tr>\n",
       "      <th>11</th>\n",
       "      <td>Jan 15, 2020</td>\n",
       "      <td>3289.29</td>\n",
       "      <td>3716840000</td>\n",
       "      <td>1</td>\n",
       "    </tr>\n",
       "    <tr>\n",
       "      <th>12</th>\n",
       "      <td>Jan 14, 2020</td>\n",
       "      <td>3283.15</td>\n",
       "      <td>3665130000</td>\n",
       "      <td>0</td>\n",
       "    </tr>\n",
       "    <tr>\n",
       "      <th>13</th>\n",
       "      <td>Jan 13, 2020</td>\n",
       "      <td>3288.13</td>\n",
       "      <td>3456380000</td>\n",
       "      <td>1</td>\n",
       "    </tr>\n",
       "    <tr>\n",
       "      <th>14</th>\n",
       "      <td>Jan 10, 2020</td>\n",
       "      <td>3265.35</td>\n",
       "      <td>3212970000</td>\n",
       "      <td>0</td>\n",
       "    </tr>\n",
       "  </tbody>\n",
       "</table>\n",
       "</div>"
      ],
      "text/plain": [
       "            date   Close*      Volume  movement\n",
       "0   Jan 31, 2020  3225.52  4527830000         0\n",
       "1   Jan 30, 2020  3283.66  3787250000         1\n",
       "2   Jan 29, 2020  3273.40  3584500000         0\n",
       "3   Jan 28, 2020  3276.24  3526720000         1\n",
       "4   Jan 27, 2020  3243.63  3823100000         0\n",
       "5   Jan 24, 2020  3295.47  3707130000         0\n",
       "6   Jan 23, 2020  3325.54  3764860000         1\n",
       "7   Jan 22, 2020  3321.75  3619850000         1\n",
       "8   Jan 21, 2020  3320.79  4105340000         0\n",
       "9   Jan 17, 2020  3329.62  3698170000         1\n",
       "10  Jan 16, 2020  3316.81  3535080000         1\n",
       "11  Jan 15, 2020  3289.29  3716840000         1\n",
       "12  Jan 14, 2020  3283.15  3665130000         0\n",
       "13  Jan 13, 2020  3288.13  3456380000         1\n",
       "14  Jan 10, 2020  3265.35  3212970000         0"
      ]
     },
     "execution_count": 28,
     "metadata": {},
     "output_type": "execute_result"
    }
   ],
   "source": [
    "sandp_df.head(15)"
   ]
  },
  {
   "cell_type": "markdown",
   "id": "67a358fd",
   "metadata": {},
   "source": [
    "**To calculate the SMA, all the closing prices are summed up over a given period and divided by the number of periods SMA = (A1 + A2 + ... + An) / n.**\n",
    "\n",
    "**Since the prediction of a stock for the following day is considered as a short-term prediction, the period should is set on 10 days**"
   ]
  },
  {
   "cell_type": "code",
   "execution_count": 29,
   "id": "c33928ea",
   "metadata": {},
   "outputs": [],
   "source": [
    "def calculate_SMA(some_df):\n",
    "    \n",
    "    close_list = list(some_df['Close*'])\n",
    "   \n",
    "    sma = []\n",
    "    for i in range(len(close_list)-1):\n",
    "        previous = close_list[i+1:i+11]\n",
    "        sma.append( (sum(previous))/len(previous) )\n",
    "\n",
    "    sma.append(close_list[-1])  # there is nothing to compare for the first day, set to current day value  \n",
    "    some_df['SMA'] = sma\n",
    "    return some_df"
   ]
  },
  {
   "cell_type": "code",
   "execution_count": 30,
   "id": "29c13fdf",
   "metadata": {},
   "outputs": [],
   "source": [
    "sandp_df = calculate_SMA(sandp_df)"
   ]
  },
  {
   "cell_type": "code",
   "execution_count": 31,
   "id": "187cb667",
   "metadata": {},
   "outputs": [
    {
     "data": {
      "text/html": [
       "<div>\n",
       "<style scoped>\n",
       "    .dataframe tbody tr th:only-of-type {\n",
       "        vertical-align: middle;\n",
       "    }\n",
       "\n",
       "    .dataframe tbody tr th {\n",
       "        vertical-align: top;\n",
       "    }\n",
       "\n",
       "    .dataframe thead th {\n",
       "        text-align: right;\n",
       "    }\n",
       "</style>\n",
       "<table border=\"1\" class=\"dataframe\">\n",
       "  <thead>\n",
       "    <tr style=\"text-align: right;\">\n",
       "      <th></th>\n",
       "      <th>date</th>\n",
       "      <th>Close*</th>\n",
       "      <th>Volume</th>\n",
       "      <th>movement</th>\n",
       "      <th>SMA</th>\n",
       "    </tr>\n",
       "  </thead>\n",
       "  <tbody>\n",
       "    <tr>\n",
       "      <th>0</th>\n",
       "      <td>Jan 31, 2020</td>\n",
       "      <td>3225.52</td>\n",
       "      <td>4527830000</td>\n",
       "      <td>0</td>\n",
       "      <td>3298.691</td>\n",
       "    </tr>\n",
       "    <tr>\n",
       "      <th>1</th>\n",
       "      <td>Jan 30, 2020</td>\n",
       "      <td>3283.66</td>\n",
       "      <td>3787250000</td>\n",
       "      <td>1</td>\n",
       "      <td>3299.254</td>\n",
       "    </tr>\n",
       "    <tr>\n",
       "      <th>2</th>\n",
       "      <td>Jan 29, 2020</td>\n",
       "      <td>3273.40</td>\n",
       "      <td>3584500000</td>\n",
       "      <td>0</td>\n",
       "      <td>3300.229</td>\n",
       "    </tr>\n",
       "  </tbody>\n",
       "</table>\n",
       "</div>"
      ],
      "text/plain": [
       "           date   Close*      Volume  movement       SMA\n",
       "0  Jan 31, 2020  3225.52  4527830000         0  3298.691\n",
       "1  Jan 30, 2020  3283.66  3787250000         1  3299.254\n",
       "2  Jan 29, 2020  3273.40  3584500000         0  3300.229"
      ]
     },
     "execution_count": 31,
     "metadata": {},
     "output_type": "execute_result"
    }
   ],
   "source": [
    "sandp_df.head(3)"
   ]
  },
  {
   "cell_type": "code",
   "execution_count": 32,
   "id": "61f6894e",
   "metadata": {},
   "outputs": [
    {
     "data": {
      "text/html": [
       "<div>\n",
       "<style scoped>\n",
       "    .dataframe tbody tr th:only-of-type {\n",
       "        vertical-align: middle;\n",
       "    }\n",
       "\n",
       "    .dataframe tbody tr th {\n",
       "        vertical-align: top;\n",
       "    }\n",
       "\n",
       "    .dataframe thead th {\n",
       "        text-align: right;\n",
       "    }\n",
       "</style>\n",
       "<table border=\"1\" class=\"dataframe\">\n",
       "  <thead>\n",
       "    <tr style=\"text-align: right;\">\n",
       "      <th></th>\n",
       "      <th>date</th>\n",
       "      <th>Close*</th>\n",
       "      <th>Volume</th>\n",
       "      <th>movement</th>\n",
       "      <th>SMA</th>\n",
       "    </tr>\n",
       "  </thead>\n",
       "  <tbody>\n",
       "    <tr>\n",
       "      <th>1781</th>\n",
       "      <td>Jan 03, 2013</td>\n",
       "      <td>1459.37</td>\n",
       "      <td>3829730000</td>\n",
       "      <td>0</td>\n",
       "      <td>1444.305</td>\n",
       "    </tr>\n",
       "    <tr>\n",
       "      <th>1782</th>\n",
       "      <td>Jan 02, 2013</td>\n",
       "      <td>1462.42</td>\n",
       "      <td>4202600000</td>\n",
       "      <td>1</td>\n",
       "      <td>1426.190</td>\n",
       "    </tr>\n",
       "    <tr>\n",
       "      <th>1783</th>\n",
       "      <td>Dec 31, 2012</td>\n",
       "      <td>1426.19</td>\n",
       "      <td>3204330000</td>\n",
       "      <td>1</td>\n",
       "      <td>1426.190</td>\n",
       "    </tr>\n",
       "  </tbody>\n",
       "</table>\n",
       "</div>"
      ],
      "text/plain": [
       "              date   Close*      Volume  movement       SMA\n",
       "1781  Jan 03, 2013  1459.37  3829730000         0  1444.305\n",
       "1782  Jan 02, 2013  1462.42  4202600000         1  1426.190\n",
       "1783  Dec 31, 2012  1426.19  3204330000         1  1426.190"
      ]
     },
     "execution_count": 32,
     "metadata": {},
     "output_type": "execute_result"
    }
   ],
   "source": [
    "sandp_df.tail(3)"
   ]
  },
  {
   "cell_type": "code",
   "execution_count": 33,
   "id": "3f3b4d70",
   "metadata": {},
   "outputs": [
    {
     "name": "stdout",
     "output_type": "stream",
     "text": [
      "1784\n"
     ]
    }
   ],
   "source": [
    "print(len(sandp_df))"
   ]
  },
  {
   "cell_type": "code",
   "execution_count": 34,
   "id": "c9acac64",
   "metadata": {},
   "outputs": [],
   "source": [
    "# normalize datetime"
   ]
  },
  {
   "cell_type": "code",
   "execution_count": null,
   "id": "a83decd6",
   "metadata": {},
   "outputs": [],
   "source": []
  },
  {
   "cell_type": "markdown",
   "id": "aa59ba4c",
   "metadata": {},
   "source": [
    "### 3. Merge Datasets:\n",
    "* After the datasets are preprocessed, the price dataset has been left joined to the news article datasets to create two datasets that will be used as input and output for the machine and deep learning models. \n",
    "* The datasets are merged on the column date. Thus, the two dataset which will be used for this research are fully preprocessed and both contains 1,096 rows. Because both datasets consist of the same features only one table has been created to give an overview of all the features in the datasets.\n",
    "* The dependent variables have 589 entries that the stock market movement directionality went down, and 480 entries where the stock market price went up or remained the same.\n",
    "* One small adjustment has been made to the final datasets, which is known as standardization. This method may help to minimize dataset dissimilarities. Rescaling the features to give them the characteristics of a regular normal distribution is known as standardization (or Z-score normalization) (formula on page 20)"
   ]
  },
  {
   "cell_type": "code",
   "execution_count": 35,
   "id": "811474a6",
   "metadata": {},
   "outputs": [],
   "source": [
    "#merge_1 = news_df_1.merge(df,d, how='inner', left_index=True, right_index=True)"
   ]
  },
  {
   "cell_type": "code",
   "execution_count": 36,
   "id": "d9c23217",
   "metadata": {},
   "outputs": [
    {
     "ename": "KeyError",
     "evalue": "'date'",
     "output_type": "error",
     "traceback": [
      "\u001b[1;31m---------------------------------------------------------------------------\u001b[0m",
      "\u001b[1;31mKeyError\u001b[0m                                  Traceback (most recent call last)",
      "Input \u001b[1;32mIn [36]\u001b[0m, in \u001b[0;36m<cell line: 1>\u001b[1;34m()\u001b[0m\n\u001b[1;32m----> 1\u001b[0m merge_1 \u001b[38;5;241m=\u001b[39m \u001b[43mnews_df_1\u001b[49m\u001b[38;5;241;43m.\u001b[39;49m\u001b[43mmerge\u001b[49m\u001b[43m(\u001b[49m\u001b[43msandp_df\u001b[49m\u001b[43m,\u001b[49m\u001b[43m \u001b[49m\u001b[43mhow\u001b[49m\u001b[38;5;241;43m=\u001b[39;49m\u001b[38;5;124;43m'\u001b[39;49m\u001b[38;5;124;43mleft\u001b[39;49m\u001b[38;5;124;43m'\u001b[39;49m\u001b[43m,\u001b[49m\u001b[43m \u001b[49m\u001b[43mon\u001b[49m\u001b[38;5;241;43m=\u001b[39;49m\u001b[38;5;124;43m'\u001b[39;49m\u001b[38;5;124;43mdate\u001b[39;49m\u001b[38;5;124;43m'\u001b[39;49m\u001b[43m)\u001b[49m\n",
      "File \u001b[1;32mD:\\job_tests\\restadvisor\\venv\\lib\\site-packages\\pandas\\core\\frame.py:9351\u001b[0m, in \u001b[0;36mDataFrame.merge\u001b[1;34m(self, right, how, on, left_on, right_on, left_index, right_index, sort, suffixes, copy, indicator, validate)\u001b[0m\n\u001b[0;32m   9332\u001b[0m \u001b[38;5;129m@Substitution\u001b[39m(\u001b[38;5;124m\"\u001b[39m\u001b[38;5;124m\"\u001b[39m)\n\u001b[0;32m   9333\u001b[0m \u001b[38;5;129m@Appender\u001b[39m(_merge_doc, indents\u001b[38;5;241m=\u001b[39m\u001b[38;5;241m2\u001b[39m)\n\u001b[0;32m   9334\u001b[0m \u001b[38;5;28;01mdef\u001b[39;00m \u001b[38;5;21mmerge\u001b[39m(\n\u001b[1;32m   (...)\u001b[0m\n\u001b[0;32m   9347\u001b[0m     validate: \u001b[38;5;28mstr\u001b[39m \u001b[38;5;241m|\u001b[39m \u001b[38;5;28;01mNone\u001b[39;00m \u001b[38;5;241m=\u001b[39m \u001b[38;5;28;01mNone\u001b[39;00m,\n\u001b[0;32m   9348\u001b[0m ) \u001b[38;5;241m-\u001b[39m\u001b[38;5;241m>\u001b[39m DataFrame:\n\u001b[0;32m   9349\u001b[0m     \u001b[38;5;28;01mfrom\u001b[39;00m \u001b[38;5;21;01mpandas\u001b[39;00m\u001b[38;5;21;01m.\u001b[39;00m\u001b[38;5;21;01mcore\u001b[39;00m\u001b[38;5;21;01m.\u001b[39;00m\u001b[38;5;21;01mreshape\u001b[39;00m\u001b[38;5;21;01m.\u001b[39;00m\u001b[38;5;21;01mmerge\u001b[39;00m \u001b[38;5;28;01mimport\u001b[39;00m merge\n\u001b[1;32m-> 9351\u001b[0m     \u001b[38;5;28;01mreturn\u001b[39;00m \u001b[43mmerge\u001b[49m\u001b[43m(\u001b[49m\n\u001b[0;32m   9352\u001b[0m \u001b[43m        \u001b[49m\u001b[38;5;28;43mself\u001b[39;49m\u001b[43m,\u001b[49m\n\u001b[0;32m   9353\u001b[0m \u001b[43m        \u001b[49m\u001b[43mright\u001b[49m\u001b[43m,\u001b[49m\n\u001b[0;32m   9354\u001b[0m \u001b[43m        \u001b[49m\u001b[43mhow\u001b[49m\u001b[38;5;241;43m=\u001b[39;49m\u001b[43mhow\u001b[49m\u001b[43m,\u001b[49m\n\u001b[0;32m   9355\u001b[0m \u001b[43m        \u001b[49m\u001b[43mon\u001b[49m\u001b[38;5;241;43m=\u001b[39;49m\u001b[43mon\u001b[49m\u001b[43m,\u001b[49m\n\u001b[0;32m   9356\u001b[0m \u001b[43m        \u001b[49m\u001b[43mleft_on\u001b[49m\u001b[38;5;241;43m=\u001b[39;49m\u001b[43mleft_on\u001b[49m\u001b[43m,\u001b[49m\n\u001b[0;32m   9357\u001b[0m \u001b[43m        \u001b[49m\u001b[43mright_on\u001b[49m\u001b[38;5;241;43m=\u001b[39;49m\u001b[43mright_on\u001b[49m\u001b[43m,\u001b[49m\n\u001b[0;32m   9358\u001b[0m \u001b[43m        \u001b[49m\u001b[43mleft_index\u001b[49m\u001b[38;5;241;43m=\u001b[39;49m\u001b[43mleft_index\u001b[49m\u001b[43m,\u001b[49m\n\u001b[0;32m   9359\u001b[0m \u001b[43m        \u001b[49m\u001b[43mright_index\u001b[49m\u001b[38;5;241;43m=\u001b[39;49m\u001b[43mright_index\u001b[49m\u001b[43m,\u001b[49m\n\u001b[0;32m   9360\u001b[0m \u001b[43m        \u001b[49m\u001b[43msort\u001b[49m\u001b[38;5;241;43m=\u001b[39;49m\u001b[43msort\u001b[49m\u001b[43m,\u001b[49m\n\u001b[0;32m   9361\u001b[0m \u001b[43m        \u001b[49m\u001b[43msuffixes\u001b[49m\u001b[38;5;241;43m=\u001b[39;49m\u001b[43msuffixes\u001b[49m\u001b[43m,\u001b[49m\n\u001b[0;32m   9362\u001b[0m \u001b[43m        \u001b[49m\u001b[43mcopy\u001b[49m\u001b[38;5;241;43m=\u001b[39;49m\u001b[43mcopy\u001b[49m\u001b[43m,\u001b[49m\n\u001b[0;32m   9363\u001b[0m \u001b[43m        \u001b[49m\u001b[43mindicator\u001b[49m\u001b[38;5;241;43m=\u001b[39;49m\u001b[43mindicator\u001b[49m\u001b[43m,\u001b[49m\n\u001b[0;32m   9364\u001b[0m \u001b[43m        \u001b[49m\u001b[43mvalidate\u001b[49m\u001b[38;5;241;43m=\u001b[39;49m\u001b[43mvalidate\u001b[49m\u001b[43m,\u001b[49m\n\u001b[0;32m   9365\u001b[0m \u001b[43m    \u001b[49m\u001b[43m)\u001b[49m\n",
      "File \u001b[1;32mD:\\job_tests\\restadvisor\\venv\\lib\\site-packages\\pandas\\core\\reshape\\merge.py:107\u001b[0m, in \u001b[0;36mmerge\u001b[1;34m(left, right, how, on, left_on, right_on, left_index, right_index, sort, suffixes, copy, indicator, validate)\u001b[0m\n\u001b[0;32m     90\u001b[0m \u001b[38;5;129m@Substitution\u001b[39m(\u001b[38;5;124m\"\u001b[39m\u001b[38;5;130;01m\\n\u001b[39;00m\u001b[38;5;124mleft : DataFrame or named Series\u001b[39m\u001b[38;5;124m\"\u001b[39m)\n\u001b[0;32m     91\u001b[0m \u001b[38;5;129m@Appender\u001b[39m(_merge_doc, indents\u001b[38;5;241m=\u001b[39m\u001b[38;5;241m0\u001b[39m)\n\u001b[0;32m     92\u001b[0m \u001b[38;5;28;01mdef\u001b[39;00m \u001b[38;5;21mmerge\u001b[39m(\n\u001b[1;32m   (...)\u001b[0m\n\u001b[0;32m    105\u001b[0m     validate: \u001b[38;5;28mstr\u001b[39m \u001b[38;5;241m|\u001b[39m \u001b[38;5;28;01mNone\u001b[39;00m \u001b[38;5;241m=\u001b[39m \u001b[38;5;28;01mNone\u001b[39;00m,\n\u001b[0;32m    106\u001b[0m ) \u001b[38;5;241m-\u001b[39m\u001b[38;5;241m>\u001b[39m DataFrame:\n\u001b[1;32m--> 107\u001b[0m     op \u001b[38;5;241m=\u001b[39m \u001b[43m_MergeOperation\u001b[49m\u001b[43m(\u001b[49m\n\u001b[0;32m    108\u001b[0m \u001b[43m        \u001b[49m\u001b[43mleft\u001b[49m\u001b[43m,\u001b[49m\n\u001b[0;32m    109\u001b[0m \u001b[43m        \u001b[49m\u001b[43mright\u001b[49m\u001b[43m,\u001b[49m\n\u001b[0;32m    110\u001b[0m \u001b[43m        \u001b[49m\u001b[43mhow\u001b[49m\u001b[38;5;241;43m=\u001b[39;49m\u001b[43mhow\u001b[49m\u001b[43m,\u001b[49m\n\u001b[0;32m    111\u001b[0m \u001b[43m        \u001b[49m\u001b[43mon\u001b[49m\u001b[38;5;241;43m=\u001b[39;49m\u001b[43mon\u001b[49m\u001b[43m,\u001b[49m\n\u001b[0;32m    112\u001b[0m \u001b[43m        \u001b[49m\u001b[43mleft_on\u001b[49m\u001b[38;5;241;43m=\u001b[39;49m\u001b[43mleft_on\u001b[49m\u001b[43m,\u001b[49m\n\u001b[0;32m    113\u001b[0m \u001b[43m        \u001b[49m\u001b[43mright_on\u001b[49m\u001b[38;5;241;43m=\u001b[39;49m\u001b[43mright_on\u001b[49m\u001b[43m,\u001b[49m\n\u001b[0;32m    114\u001b[0m \u001b[43m        \u001b[49m\u001b[43mleft_index\u001b[49m\u001b[38;5;241;43m=\u001b[39;49m\u001b[43mleft_index\u001b[49m\u001b[43m,\u001b[49m\n\u001b[0;32m    115\u001b[0m \u001b[43m        \u001b[49m\u001b[43mright_index\u001b[49m\u001b[38;5;241;43m=\u001b[39;49m\u001b[43mright_index\u001b[49m\u001b[43m,\u001b[49m\n\u001b[0;32m    116\u001b[0m \u001b[43m        \u001b[49m\u001b[43msort\u001b[49m\u001b[38;5;241;43m=\u001b[39;49m\u001b[43msort\u001b[49m\u001b[43m,\u001b[49m\n\u001b[0;32m    117\u001b[0m \u001b[43m        \u001b[49m\u001b[43msuffixes\u001b[49m\u001b[38;5;241;43m=\u001b[39;49m\u001b[43msuffixes\u001b[49m\u001b[43m,\u001b[49m\n\u001b[0;32m    118\u001b[0m \u001b[43m        \u001b[49m\u001b[43mcopy\u001b[49m\u001b[38;5;241;43m=\u001b[39;49m\u001b[43mcopy\u001b[49m\u001b[43m,\u001b[49m\n\u001b[0;32m    119\u001b[0m \u001b[43m        \u001b[49m\u001b[43mindicator\u001b[49m\u001b[38;5;241;43m=\u001b[39;49m\u001b[43mindicator\u001b[49m\u001b[43m,\u001b[49m\n\u001b[0;32m    120\u001b[0m \u001b[43m        \u001b[49m\u001b[43mvalidate\u001b[49m\u001b[38;5;241;43m=\u001b[39;49m\u001b[43mvalidate\u001b[49m\u001b[43m,\u001b[49m\n\u001b[0;32m    121\u001b[0m \u001b[43m    \u001b[49m\u001b[43m)\u001b[49m\n\u001b[0;32m    122\u001b[0m     \u001b[38;5;28;01mreturn\u001b[39;00m op\u001b[38;5;241m.\u001b[39mget_result()\n",
      "File \u001b[1;32mD:\\job_tests\\restadvisor\\venv\\lib\\site-packages\\pandas\\core\\reshape\\merge.py:700\u001b[0m, in \u001b[0;36m_MergeOperation.__init__\u001b[1;34m(self, left, right, how, on, left_on, right_on, axis, left_index, right_index, sort, suffixes, copy, indicator, validate)\u001b[0m\n\u001b[0;32m    693\u001b[0m \u001b[38;5;28mself\u001b[39m\u001b[38;5;241m.\u001b[39m_cross \u001b[38;5;241m=\u001b[39m cross_col\n\u001b[0;32m    695\u001b[0m \u001b[38;5;66;03m# note this function has side effects\u001b[39;00m\n\u001b[0;32m    696\u001b[0m (\n\u001b[0;32m    697\u001b[0m     \u001b[38;5;28mself\u001b[39m\u001b[38;5;241m.\u001b[39mleft_join_keys,\n\u001b[0;32m    698\u001b[0m     \u001b[38;5;28mself\u001b[39m\u001b[38;5;241m.\u001b[39mright_join_keys,\n\u001b[0;32m    699\u001b[0m     \u001b[38;5;28mself\u001b[39m\u001b[38;5;241m.\u001b[39mjoin_names,\n\u001b[1;32m--> 700\u001b[0m ) \u001b[38;5;241m=\u001b[39m \u001b[38;5;28;43mself\u001b[39;49m\u001b[38;5;241;43m.\u001b[39;49m\u001b[43m_get_merge_keys\u001b[49m\u001b[43m(\u001b[49m\u001b[43m)\u001b[49m\n\u001b[0;32m    702\u001b[0m \u001b[38;5;66;03m# validate the merge keys dtypes. We may need to coerce\u001b[39;00m\n\u001b[0;32m    703\u001b[0m \u001b[38;5;66;03m# to avoid incompatible dtypes\u001b[39;00m\n\u001b[0;32m    704\u001b[0m \u001b[38;5;28mself\u001b[39m\u001b[38;5;241m.\u001b[39m_maybe_coerce_merge_keys()\n",
      "File \u001b[1;32mD:\\job_tests\\restadvisor\\venv\\lib\\site-packages\\pandas\\core\\reshape\\merge.py:1110\u001b[0m, in \u001b[0;36m_MergeOperation._get_merge_keys\u001b[1;34m(self)\u001b[0m\n\u001b[0;32m   1108\u001b[0m     right_keys\u001b[38;5;241m.\u001b[39mappend(rk)\n\u001b[0;32m   1109\u001b[0m \u001b[38;5;28;01mif\u001b[39;00m lk \u001b[38;5;129;01mis\u001b[39;00m \u001b[38;5;129;01mnot\u001b[39;00m \u001b[38;5;28;01mNone\u001b[39;00m:\n\u001b[1;32m-> 1110\u001b[0m     left_keys\u001b[38;5;241m.\u001b[39mappend(\u001b[43mleft\u001b[49m\u001b[38;5;241;43m.\u001b[39;49m\u001b[43m_get_label_or_level_values\u001b[49m\u001b[43m(\u001b[49m\u001b[43mlk\u001b[49m\u001b[43m)\u001b[49m)\n\u001b[0;32m   1111\u001b[0m     join_names\u001b[38;5;241m.\u001b[39mappend(lk)\n\u001b[0;32m   1112\u001b[0m \u001b[38;5;28;01melse\u001b[39;00m:\n\u001b[0;32m   1113\u001b[0m     \u001b[38;5;66;03m# work-around for merge_asof(left_index=True)\u001b[39;00m\n",
      "File \u001b[1;32mD:\\job_tests\\restadvisor\\venv\\lib\\site-packages\\pandas\\core\\generic.py:1840\u001b[0m, in \u001b[0;36mNDFrame._get_label_or_level_values\u001b[1;34m(self, key, axis)\u001b[0m\n\u001b[0;32m   1838\u001b[0m     values \u001b[38;5;241m=\u001b[39m \u001b[38;5;28mself\u001b[39m\u001b[38;5;241m.\u001b[39maxes[axis]\u001b[38;5;241m.\u001b[39mget_level_values(key)\u001b[38;5;241m.\u001b[39m_values\n\u001b[0;32m   1839\u001b[0m \u001b[38;5;28;01melse\u001b[39;00m:\n\u001b[1;32m-> 1840\u001b[0m     \u001b[38;5;28;01mraise\u001b[39;00m \u001b[38;5;167;01mKeyError\u001b[39;00m(key)\n\u001b[0;32m   1842\u001b[0m \u001b[38;5;66;03m# Check for duplicates\u001b[39;00m\n\u001b[0;32m   1843\u001b[0m \u001b[38;5;28;01mif\u001b[39;00m values\u001b[38;5;241m.\u001b[39mndim \u001b[38;5;241m>\u001b[39m \u001b[38;5;241m1\u001b[39m:\n",
      "\u001b[1;31mKeyError\u001b[0m: 'date'"
     ]
    }
   ],
   "source": [
    "merge_1 = news_df_1.merge(sandp_df, how='left', on='date')"
   ]
  },
  {
   "cell_type": "code",
   "execution_count": null,
   "id": "fd66c9dd",
   "metadata": {},
   "outputs": [],
   "source": [
    "# date, title, section, publication, TextBlob_Sentiment\n",
    "# Date, Close*, Volume, movement, SMA"
   ]
  },
  {
   "cell_type": "markdown",
   "id": "84871ba7",
   "metadata": {},
   "source": [
    "### 4/5. Training, Validation, and Test Set\n",
    "* dataset for this study has been divided into two parts, 80% for training and 20% for testing the models. \n",
    "* Hence, the training data contains 855 observations, and the test data consists of 214 observations.\n",
    "* Real-world datasets should use a stratified 10-fold cross-validation (Kohavi, 1995). The cross-validation method ensures that the training and test sets include the same proportions of both target groups, which are in this study the upwards and downwards movement of the S&P 500 index price. Cross-validation guarantees the model's validity and reliability; see Section 4.3 for a more comprehensive explanation. The validation set was used as part of a grid search, covered in more detail in Subsection 4.2.3.\n",
    "* Each of these algorithms was used to create models, and a grid search was applied to find the best model settings, as described in the following subsection. Subsequently, the models were evaluated, and the best performing model for predicting daily S&P 500 movements was selected.\n",
    "* automated hyperparameter optimization (HPO) has been used in this study. Grid search, also known as full factorial design, is a commonly used HPO tool which automatically finds the best hyperparameters for an algorithm"
   ]
  },
  {
   "cell_type": "code",
   "execution_count": null,
   "id": "7d4285e9",
   "metadata": {},
   "outputs": [],
   "source": []
  },
  {
   "cell_type": "code",
   "execution_count": null,
   "id": "8b8f0855",
   "metadata": {},
   "outputs": [],
   "source": []
  }
 ],
 "metadata": {
  "kernelspec": {
   "display_name": "venv",
   "language": "python",
   "name": "venv"
  },
  "language_info": {
   "codemirror_mode": {
    "name": "ipython",
    "version": 3
   },
   "file_extension": ".py",
   "mimetype": "text/x-python",
   "name": "python",
   "nbconvert_exporter": "python",
   "pygments_lexer": "ipython3",
   "version": "3.8.10"
  }
 },
 "nbformat": 4,
 "nbformat_minor": 5
}
