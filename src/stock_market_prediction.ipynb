{
 "cells": [
  {
   "cell_type": "markdown",
   "id": "b748ac4f",
   "metadata": {},
   "source": [
    "# Forecasting the Stock Market using News Sentiment Analysis\n",
    "\n",
    "### This project is a reproduction of the findings from the paper \"Forecasting the Stock Market using News Sentiment Analysis\":\n",
    "\n",
    "See here: http://arno.uvt.nl/show.cgi?fid=157031"
   ]
  },
  {
   "cell_type": "code",
   "execution_count": 1,
   "id": "72af8c0b",
   "metadata": {},
   "outputs": [],
   "source": [
    "import pandas as pd\n",
    "from datetime import datetime\n",
    "import numpy as np\n",
    "import seaborn as sn\n",
    "from sklearn import svm\n",
    "from textblob import TextBlob\n",
    "from scipy.stats import zscore\n",
    "import matplotlib.pyplot as plt\n",
    "from sklearn.datasets import make_classification\n",
    "from sklearn.metrics import plot_confusion_matrix\n",
    "from sklearn.model_selection import cross_val_score, cross_val_predict, GridSearchCV\n",
    "from sklearn.metrics import classification_report, accuracy_score, make_scorer, confusion_matrix"
   ]
  },
  {
   "cell_type": "markdown",
   "id": "f78f84aa",
   "metadata": {},
   "source": [
    "### 1.A. News articles preprocessing (all-the-news-2-1.csv):\n",
    "* keep date, title, section, and publication. \n",
    "* all the rows without a title are filtered to assure that each entry has a filled title column\n",
    "* Some publishers do not have a filled section column; these entries are replaced with “unknown”. However, this study is mainly focused on financial and business news articles and with an “unknown” section column it is impossible to decide whether it belongs to a financial and business article or not. \n",
    "* Therefore, this study uses two news article datasets, (1) with all the news articles with a financial or business-related section, and (2) all the news articles with unknown sections combined with dataset 1."
   ]
  },
  {
   "cell_type": "markdown",
   "id": "bcb5163f",
   "metadata": {},
   "source": [
    "**keep 'date', 'title', 'section', and 'publication' columns**"
   ]
  },
  {
   "cell_type": "code",
   "execution_count": 2,
   "id": "e7e2e8ce",
   "metadata": {},
   "outputs": [],
   "source": [
    "news_fields = ['date', 'title', 'section', 'publication']\n",
    "news_df_tmp = pd.read_csv('../data/all-the-news-2-1.csv', usecols=news_fields)\n",
    "news_df_tmp['date'] = news_df_tmp['date'].astype('datetime64[ns]')\n",
    "news_df_tmp['date'] = news_df_tmp['date'].dt.date\n",
    "news_df_tmp = news_df_tmp.sort_values(by='date')"
   ]
  },
  {
   "cell_type": "code",
   "execution_count": 3,
   "id": "3f44a8a8",
   "metadata": {},
   "outputs": [
    {
     "data": {
      "text/html": [
       "<div>\n",
       "<style scoped>\n",
       "    .dataframe tbody tr th:only-of-type {\n",
       "        vertical-align: middle;\n",
       "    }\n",
       "\n",
       "    .dataframe tbody tr th {\n",
       "        vertical-align: top;\n",
       "    }\n",
       "\n",
       "    .dataframe thead th {\n",
       "        text-align: right;\n",
       "    }\n",
       "</style>\n",
       "<table border=\"1\" class=\"dataframe\">\n",
       "  <thead>\n",
       "    <tr style=\"text-align: right;\">\n",
       "      <th></th>\n",
       "      <th>date</th>\n",
       "      <th>title</th>\n",
       "      <th>section</th>\n",
       "      <th>publication</th>\n",
       "    </tr>\n",
       "  </thead>\n",
       "  <tbody>\n",
       "    <tr>\n",
       "      <th>211292</th>\n",
       "      <td>2016-01-01</td>\n",
       "      <td>A Brief Overview of the NBA's Most Notable Hai...</td>\n",
       "      <td>Sports</td>\n",
       "      <td>Vice</td>\n",
       "    </tr>\n",
       "    <tr>\n",
       "      <th>606116</th>\n",
       "      <td>2016-01-01</td>\n",
       "      <td>Mark Salling: Glee Star Runs Errand After Post...</td>\n",
       "      <td>crime</td>\n",
       "      <td>People</td>\n",
       "    </tr>\n",
       "    <tr>\n",
       "      <th>243526</th>\n",
       "      <td>2016-01-01</td>\n",
       "      <td>Utah Jazz - PlayerWatch</td>\n",
       "      <td>US NBA</td>\n",
       "      <td>Reuters</td>\n",
       "    </tr>\n",
       "    <tr>\n",
       "      <th>1407889</th>\n",
       "      <td>2016-01-01</td>\n",
       "      <td>No. 23 Tennessee blasts No. 13 Northwestern</td>\n",
       "      <td>Intel</td>\n",
       "      <td>Reuters</td>\n",
       "    </tr>\n",
       "    <tr>\n",
       "      <th>511158</th>\n",
       "      <td>2016-01-01</td>\n",
       "      <td>Here's what to expect at CES 2016 this week | ...</td>\n",
       "      <td>NaN</td>\n",
       "      <td>The Verge</td>\n",
       "    </tr>\n",
       "    <tr>\n",
       "      <th>...</th>\n",
       "      <td>...</td>\n",
       "      <td>...</td>\n",
       "      <td>...</td>\n",
       "      <td>...</td>\n",
       "    </tr>\n",
       "    <tr>\n",
       "      <th>2683761</th>\n",
       "      <td>2020-04-01</td>\n",
       "      <td>Special teams maven Nate Ebner follows Joe Jud...</td>\n",
       "      <td>NaN</td>\n",
       "      <td>Washington Post</td>\n",
       "    </tr>\n",
       "    <tr>\n",
       "      <th>2683603</th>\n",
       "      <td>2020-04-01</td>\n",
       "      <td>Bon Secours to furlough staff not supporting C...</td>\n",
       "      <td>NaN</td>\n",
       "      <td>Washington Post</td>\n",
       "    </tr>\n",
       "    <tr>\n",
       "      <th>2683635</th>\n",
       "      <td>2020-04-01</td>\n",
       "      <td>San Francisco will pay $369,000 to raided repo...</td>\n",
       "      <td>NaN</td>\n",
       "      <td>Washington Post</td>\n",
       "    </tr>\n",
       "    <tr>\n",
       "      <th>2688877</th>\n",
       "      <td>2020-04-01</td>\n",
       "      <td>Ruth Bader Ginsburg Still Working Out with Tra...</td>\n",
       "      <td>NaN</td>\n",
       "      <td>TMZ</td>\n",
       "    </tr>\n",
       "    <tr>\n",
       "      <th>2688838</th>\n",
       "      <td>2020-04-02</td>\n",
       "      <td>A Man Admitted To Trying To Crash A Train Into...</td>\n",
       "      <td>NaN</td>\n",
       "      <td>Buzzfeed News</td>\n",
       "    </tr>\n",
       "  </tbody>\n",
       "</table>\n",
       "<p>2688878 rows × 4 columns</p>\n",
       "</div>"
      ],
      "text/plain": [
       "               date                                              title  \\\n",
       "211292   2016-01-01  A Brief Overview of the NBA's Most Notable Hai...   \n",
       "606116   2016-01-01  Mark Salling: Glee Star Runs Errand After Post...   \n",
       "243526   2016-01-01                            Utah Jazz - PlayerWatch   \n",
       "1407889  2016-01-01        No. 23 Tennessee blasts No. 13 Northwestern   \n",
       "511158   2016-01-01  Here's what to expect at CES 2016 this week | ...   \n",
       "...             ...                                                ...   \n",
       "2683761  2020-04-01  Special teams maven Nate Ebner follows Joe Jud...   \n",
       "2683603  2020-04-01  Bon Secours to furlough staff not supporting C...   \n",
       "2683635  2020-04-01  San Francisco will pay $369,000 to raided repo...   \n",
       "2688877  2020-04-01  Ruth Bader Ginsburg Still Working Out with Tra...   \n",
       "2688838  2020-04-02  A Man Admitted To Trying To Crash A Train Into...   \n",
       "\n",
       "        section      publication  \n",
       "211292   Sports             Vice  \n",
       "606116    crime           People  \n",
       "243526   US NBA          Reuters  \n",
       "1407889   Intel          Reuters  \n",
       "511158      NaN        The Verge  \n",
       "...         ...              ...  \n",
       "2683761     NaN  Washington Post  \n",
       "2683603     NaN  Washington Post  \n",
       "2683635     NaN  Washington Post  \n",
       "2688877     NaN              TMZ  \n",
       "2688838     NaN    Buzzfeed News  \n",
       "\n",
       "[2688878 rows x 4 columns]"
      ]
     },
     "execution_count": 3,
     "metadata": {},
     "output_type": "execute_result"
    }
   ],
   "source": [
    "news_df_tmp"
   ]
  },
  {
   "cell_type": "markdown",
   "id": "43bd36e6",
   "metadata": {},
   "source": [
    "**We see, that this statemenyt is false. The time period for the news begins at 01.01.2016:**\n",
    "\n",
    "\"The news article dataset contains 2.7 million news articles and essays from 27 American publishers such as the Financial Times, Reuters and Cable News Network (CNN) from 2013 to early 2020.\""
   ]
  },
  {
   "cell_type": "markdown",
   "id": "2f48ffa8",
   "metadata": {},
   "source": [
    "**all the rows without a title are filtered to assure that each entry has a filled title column**"
   ]
  },
  {
   "cell_type": "code",
   "execution_count": 4,
   "id": "85647020",
   "metadata": {},
   "outputs": [],
   "source": [
    "news_df = news_df_tmp[news_df_tmp['title'].notna()]"
   ]
  },
  {
   "cell_type": "code",
   "execution_count": 5,
   "id": "8edc82c2",
   "metadata": {},
   "outputs": [
    {
     "data": {
      "text/html": [
       "<div>\n",
       "<style scoped>\n",
       "    .dataframe tbody tr th:only-of-type {\n",
       "        vertical-align: middle;\n",
       "    }\n",
       "\n",
       "    .dataframe tbody tr th {\n",
       "        vertical-align: top;\n",
       "    }\n",
       "\n",
       "    .dataframe thead th {\n",
       "        text-align: right;\n",
       "    }\n",
       "</style>\n",
       "<table border=\"1\" class=\"dataframe\">\n",
       "  <thead>\n",
       "    <tr style=\"text-align: right;\">\n",
       "      <th></th>\n",
       "      <th>date</th>\n",
       "      <th>title</th>\n",
       "      <th>section</th>\n",
       "      <th>publication</th>\n",
       "    </tr>\n",
       "  </thead>\n",
       "  <tbody>\n",
       "    <tr>\n",
       "      <th>211292</th>\n",
       "      <td>2016-01-01</td>\n",
       "      <td>A Brief Overview of the NBA's Most Notable Hai...</td>\n",
       "      <td>Sports</td>\n",
       "      <td>Vice</td>\n",
       "    </tr>\n",
       "    <tr>\n",
       "      <th>606116</th>\n",
       "      <td>2016-01-01</td>\n",
       "      <td>Mark Salling: Glee Star Runs Errand After Post...</td>\n",
       "      <td>crime</td>\n",
       "      <td>People</td>\n",
       "    </tr>\n",
       "    <tr>\n",
       "      <th>243526</th>\n",
       "      <td>2016-01-01</td>\n",
       "      <td>Utah Jazz - PlayerWatch</td>\n",
       "      <td>US NBA</td>\n",
       "      <td>Reuters</td>\n",
       "    </tr>\n",
       "    <tr>\n",
       "      <th>1407889</th>\n",
       "      <td>2016-01-01</td>\n",
       "      <td>No. 23 Tennessee blasts No. 13 Northwestern</td>\n",
       "      <td>Intel</td>\n",
       "      <td>Reuters</td>\n",
       "    </tr>\n",
       "    <tr>\n",
       "      <th>511158</th>\n",
       "      <td>2016-01-01</td>\n",
       "      <td>Here's what to expect at CES 2016 this week | ...</td>\n",
       "      <td>NaN</td>\n",
       "      <td>The Verge</td>\n",
       "    </tr>\n",
       "    <tr>\n",
       "      <th>...</th>\n",
       "      <td>...</td>\n",
       "      <td>...</td>\n",
       "      <td>...</td>\n",
       "      <td>...</td>\n",
       "    </tr>\n",
       "    <tr>\n",
       "      <th>2683761</th>\n",
       "      <td>2020-04-01</td>\n",
       "      <td>Special teams maven Nate Ebner follows Joe Jud...</td>\n",
       "      <td>NaN</td>\n",
       "      <td>Washington Post</td>\n",
       "    </tr>\n",
       "    <tr>\n",
       "      <th>2683603</th>\n",
       "      <td>2020-04-01</td>\n",
       "      <td>Bon Secours to furlough staff not supporting C...</td>\n",
       "      <td>NaN</td>\n",
       "      <td>Washington Post</td>\n",
       "    </tr>\n",
       "    <tr>\n",
       "      <th>2683635</th>\n",
       "      <td>2020-04-01</td>\n",
       "      <td>San Francisco will pay $369,000 to raided repo...</td>\n",
       "      <td>NaN</td>\n",
       "      <td>Washington Post</td>\n",
       "    </tr>\n",
       "    <tr>\n",
       "      <th>2688877</th>\n",
       "      <td>2020-04-01</td>\n",
       "      <td>Ruth Bader Ginsburg Still Working Out with Tra...</td>\n",
       "      <td>NaN</td>\n",
       "      <td>TMZ</td>\n",
       "    </tr>\n",
       "    <tr>\n",
       "      <th>2688838</th>\n",
       "      <td>2020-04-02</td>\n",
       "      <td>A Man Admitted To Trying To Crash A Train Into...</td>\n",
       "      <td>NaN</td>\n",
       "      <td>Buzzfeed News</td>\n",
       "    </tr>\n",
       "  </tbody>\n",
       "</table>\n",
       "<p>2688841 rows × 4 columns</p>\n",
       "</div>"
      ],
      "text/plain": [
       "               date                                              title  \\\n",
       "211292   2016-01-01  A Brief Overview of the NBA's Most Notable Hai...   \n",
       "606116   2016-01-01  Mark Salling: Glee Star Runs Errand After Post...   \n",
       "243526   2016-01-01                            Utah Jazz - PlayerWatch   \n",
       "1407889  2016-01-01        No. 23 Tennessee blasts No. 13 Northwestern   \n",
       "511158   2016-01-01  Here's what to expect at CES 2016 this week | ...   \n",
       "...             ...                                                ...   \n",
       "2683761  2020-04-01  Special teams maven Nate Ebner follows Joe Jud...   \n",
       "2683603  2020-04-01  Bon Secours to furlough staff not supporting C...   \n",
       "2683635  2020-04-01  San Francisco will pay $369,000 to raided repo...   \n",
       "2688877  2020-04-01  Ruth Bader Ginsburg Still Working Out with Tra...   \n",
       "2688838  2020-04-02  A Man Admitted To Trying To Crash A Train Into...   \n",
       "\n",
       "        section      publication  \n",
       "211292   Sports             Vice  \n",
       "606116    crime           People  \n",
       "243526   US NBA          Reuters  \n",
       "1407889   Intel          Reuters  \n",
       "511158      NaN        The Verge  \n",
       "...         ...              ...  \n",
       "2683761     NaN  Washington Post  \n",
       "2683603     NaN  Washington Post  \n",
       "2683635     NaN  Washington Post  \n",
       "2688877     NaN              TMZ  \n",
       "2688838     NaN    Buzzfeed News  \n",
       "\n",
       "[2688841 rows x 4 columns]"
      ]
     },
     "execution_count": 5,
     "metadata": {},
     "output_type": "execute_result"
    }
   ],
   "source": [
    "news_df"
   ]
  },
  {
   "cell_type": "markdown",
   "id": "5ef44d2b",
   "metadata": {},
   "source": [
    "**this study uses two news article datasets, (1) with all the news articles with a financial or business-related section...**\n",
    "\n",
    "\n",
    "**...and (2) all the news articles with unknown sections combined with dataset 1**\n",
    "\n",
    "\n",
    "**BUT!**\n",
    "\n",
    "When observing Table 3, the bold depicted scores are the highest of its row. With these results **it can be concluded that dataset 1**, containing only the news articles that have a business or financial related section, **performed better than dataset 2**. Moreover, dataset 1 outperformed dataset 2 on four of the seven different feature sets, and on three occasions, both datasets achieved the same score. Therefore, the following sections will only focus on the performance of the sentiment analysis method and models on dataset"
   ]
  },
  {
   "cell_type": "code",
   "execution_count": 6,
   "id": "14b494be",
   "metadata": {
    "scrolled": true
   },
   "outputs": [],
   "source": [
    "valid_section_values_1 = ['Financials', 'Business News']\n",
    "news_df_1 = news_df[news_df['section'].isin(valid_section_values_1)]\n",
    "news_df_1 = news_df_1.reset_index(drop=True)"
   ]
  },
  {
   "cell_type": "code",
   "execution_count": 7,
   "id": "3619cc92",
   "metadata": {},
   "outputs": [
    {
     "data": {
      "text/html": [
       "<div>\n",
       "<style scoped>\n",
       "    .dataframe tbody tr th:only-of-type {\n",
       "        vertical-align: middle;\n",
       "    }\n",
       "\n",
       "    .dataframe tbody tr th {\n",
       "        vertical-align: top;\n",
       "    }\n",
       "\n",
       "    .dataframe thead th {\n",
       "        text-align: right;\n",
       "    }\n",
       "</style>\n",
       "<table border=\"1\" class=\"dataframe\">\n",
       "  <thead>\n",
       "    <tr style=\"text-align: right;\">\n",
       "      <th></th>\n",
       "      <th>date</th>\n",
       "      <th>title</th>\n",
       "      <th>section</th>\n",
       "      <th>publication</th>\n",
       "    </tr>\n",
       "  </thead>\n",
       "  <tbody>\n",
       "    <tr>\n",
       "      <th>0</th>\n",
       "      <td>2016-01-01</td>\n",
       "      <td>Honda confirms ninth death linked to Takata ai...</td>\n",
       "      <td>Business News</td>\n",
       "      <td>Reuters</td>\n",
       "    </tr>\n",
       "    <tr>\n",
       "      <th>1</th>\n",
       "      <td>2016-01-01</td>\n",
       "      <td>China December factory activity shrinks, more ...</td>\n",
       "      <td>Business News</td>\n",
       "      <td>Reuters</td>\n",
       "    </tr>\n",
       "    <tr>\n",
       "      <th>2</th>\n",
       "      <td>2016-01-01</td>\n",
       "      <td>China official December services PMI edges up ...</td>\n",
       "      <td>Business News</td>\n",
       "      <td>Reuters</td>\n",
       "    </tr>\n",
       "    <tr>\n",
       "      <th>3</th>\n",
       "      <td>2016-01-01</td>\n",
       "      <td>Apple to pay Italy 318 million euros, sign tax...</td>\n",
       "      <td>Business News</td>\n",
       "      <td>Reuters</td>\n",
       "    </tr>\n",
       "    <tr>\n",
       "      <th>4</th>\n",
       "      <td>2016-01-01</td>\n",
       "      <td>India's NSE index ends near 2-month high</td>\n",
       "      <td>Financials</td>\n",
       "      <td>Reuters</td>\n",
       "    </tr>\n",
       "    <tr>\n",
       "      <th>...</th>\n",
       "      <td>...</td>\n",
       "      <td>...</td>\n",
       "      <td>...</td>\n",
       "      <td>...</td>\n",
       "    </tr>\n",
       "    <tr>\n",
       "      <th>154235</th>\n",
       "      <td>2020-03-28</td>\n",
       "      <td>S&amp;P cuts DAMAC's rating, puts Emaar Properties...</td>\n",
       "      <td>Financials</td>\n",
       "      <td>Reuters</td>\n",
       "    </tr>\n",
       "    <tr>\n",
       "      <th>154236</th>\n",
       "      <td>2020-03-28</td>\n",
       "      <td>Trump considering 'enforceable' quarantine in ...</td>\n",
       "      <td>Business News</td>\n",
       "      <td>CNBC</td>\n",
       "    </tr>\n",
       "    <tr>\n",
       "      <th>154237</th>\n",
       "      <td>2020-03-28</td>\n",
       "      <td>As virus threatens, U.S. embraces big governme...</td>\n",
       "      <td>Business News</td>\n",
       "      <td>Reuters</td>\n",
       "    </tr>\n",
       "    <tr>\n",
       "      <th>154238</th>\n",
       "      <td>2020-03-28</td>\n",
       "      <td>Irish banks processing over 28,000 coronavirus...</td>\n",
       "      <td>Financials</td>\n",
       "      <td>Reuters</td>\n",
       "    </tr>\n",
       "    <tr>\n",
       "      <th>154239</th>\n",
       "      <td>2020-03-28</td>\n",
       "      <td>Canada's top lenders cut prime rates after cen...</td>\n",
       "      <td>Business News</td>\n",
       "      <td>Reuters</td>\n",
       "    </tr>\n",
       "  </tbody>\n",
       "</table>\n",
       "<p>154240 rows × 4 columns</p>\n",
       "</div>"
      ],
      "text/plain": [
       "              date                                              title  \\\n",
       "0       2016-01-01  Honda confirms ninth death linked to Takata ai...   \n",
       "1       2016-01-01  China December factory activity shrinks, more ...   \n",
       "2       2016-01-01  China official December services PMI edges up ...   \n",
       "3       2016-01-01  Apple to pay Italy 318 million euros, sign tax...   \n",
       "4       2016-01-01           India's NSE index ends near 2-month high   \n",
       "...            ...                                                ...   \n",
       "154235  2020-03-28  S&P cuts DAMAC's rating, puts Emaar Properties...   \n",
       "154236  2020-03-28  Trump considering 'enforceable' quarantine in ...   \n",
       "154237  2020-03-28  As virus threatens, U.S. embraces big governme...   \n",
       "154238  2020-03-28  Irish banks processing over 28,000 coronavirus...   \n",
       "154239  2020-03-28  Canada's top lenders cut prime rates after cen...   \n",
       "\n",
       "              section publication  \n",
       "0       Business News     Reuters  \n",
       "1       Business News     Reuters  \n",
       "2       Business News     Reuters  \n",
       "3       Business News     Reuters  \n",
       "4          Financials     Reuters  \n",
       "...               ...         ...  \n",
       "154235     Financials     Reuters  \n",
       "154236  Business News        CNBC  \n",
       "154237  Business News     Reuters  \n",
       "154238     Financials     Reuters  \n",
       "154239  Business News     Reuters  \n",
       "\n",
       "[154240 rows x 4 columns]"
      ]
     },
     "execution_count": 7,
     "metadata": {},
     "output_type": "execute_result"
    }
   ],
   "source": [
    "news_df_1"
   ]
  },
  {
   "cell_type": "markdown",
   "id": "ab034514",
   "metadata": {},
   "source": [
    "### 1.B. News Articles Sentiment Scores\n",
    "* After preprocessing the news article dataset, some code should be executed to gather the different sentiment score features. As mentioned in Section 3.2 the following sentiment scores are calculated and added to the two news articles datasets: VADER, **TextBlob**, and LM. Hence, each row (news article) has several sentiment score columns. Since the news article and price datasets will be merged on the date columns, a group by date function has been executed. While grouping the rows by the date column, the sentiment scores will be averaged."
   ]
  },
  {
   "cell_type": "code",
   "execution_count": 8,
   "id": "82b54095",
   "metadata": {},
   "outputs": [],
   "source": [
    "def text_blob_sentiment(some_df):\n",
    "    scores = []\n",
    "    sentences = list(some_df['title'])\n",
    "    \n",
    "    for sent in sentences:\n",
    "        testimonial = TextBlob(sent)\n",
    "        scores.append(testimonial.sentiment.polarity)\n",
    "        \n",
    "    some_df['TextBlob_Sentiment'] = scores\n",
    "    return some_df"
   ]
  },
  {
   "cell_type": "code",
   "execution_count": 9,
   "id": "1e7e6306",
   "metadata": {},
   "outputs": [],
   "source": [
    "news_df_1 = text_blob_sentiment(news_df_1)"
   ]
  },
  {
   "cell_type": "code",
   "execution_count": 10,
   "id": "1bb2fe4a",
   "metadata": {
    "scrolled": false
   },
   "outputs": [
    {
     "data": {
      "text/html": [
       "<div>\n",
       "<style scoped>\n",
       "    .dataframe tbody tr th:only-of-type {\n",
       "        vertical-align: middle;\n",
       "    }\n",
       "\n",
       "    .dataframe tbody tr th {\n",
       "        vertical-align: top;\n",
       "    }\n",
       "\n",
       "    .dataframe thead th {\n",
       "        text-align: right;\n",
       "    }\n",
       "</style>\n",
       "<table border=\"1\" class=\"dataframe\">\n",
       "  <thead>\n",
       "    <tr style=\"text-align: right;\">\n",
       "      <th></th>\n",
       "      <th>date</th>\n",
       "      <th>title</th>\n",
       "      <th>section</th>\n",
       "      <th>publication</th>\n",
       "      <th>TextBlob_Sentiment</th>\n",
       "    </tr>\n",
       "  </thead>\n",
       "  <tbody>\n",
       "    <tr>\n",
       "      <th>0</th>\n",
       "      <td>2016-01-01</td>\n",
       "      <td>Honda confirms ninth death linked to Takata ai...</td>\n",
       "      <td>Business News</td>\n",
       "      <td>Reuters</td>\n",
       "      <td>0.000000</td>\n",
       "    </tr>\n",
       "    <tr>\n",
       "      <th>1</th>\n",
       "      <td>2016-01-01</td>\n",
       "      <td>China December factory activity shrinks, more ...</td>\n",
       "      <td>Business News</td>\n",
       "      <td>Reuters</td>\n",
       "      <td>0.500000</td>\n",
       "    </tr>\n",
       "    <tr>\n",
       "      <th>2</th>\n",
       "      <td>2016-01-01</td>\n",
       "      <td>China official December services PMI edges up ...</td>\n",
       "      <td>Business News</td>\n",
       "      <td>Reuters</td>\n",
       "      <td>0.000000</td>\n",
       "    </tr>\n",
       "    <tr>\n",
       "      <th>3</th>\n",
       "      <td>2016-01-01</td>\n",
       "      <td>Apple to pay Italy 318 million euros, sign tax...</td>\n",
       "      <td>Business News</td>\n",
       "      <td>Reuters</td>\n",
       "      <td>0.000000</td>\n",
       "    </tr>\n",
       "    <tr>\n",
       "      <th>4</th>\n",
       "      <td>2016-01-01</td>\n",
       "      <td>India's NSE index ends near 2-month high</td>\n",
       "      <td>Financials</td>\n",
       "      <td>Reuters</td>\n",
       "      <td>0.130000</td>\n",
       "    </tr>\n",
       "    <tr>\n",
       "      <th>...</th>\n",
       "      <td>...</td>\n",
       "      <td>...</td>\n",
       "      <td>...</td>\n",
       "      <td>...</td>\n",
       "      <td>...</td>\n",
       "    </tr>\n",
       "    <tr>\n",
       "      <th>154235</th>\n",
       "      <td>2020-03-28</td>\n",
       "      <td>S&amp;P cuts DAMAC's rating, puts Emaar Properties...</td>\n",
       "      <td>Financials</td>\n",
       "      <td>Reuters</td>\n",
       "      <td>0.000000</td>\n",
       "    </tr>\n",
       "    <tr>\n",
       "      <th>154236</th>\n",
       "      <td>2020-03-28</td>\n",
       "      <td>Trump considering 'enforceable' quarantine in ...</td>\n",
       "      <td>Business News</td>\n",
       "      <td>CNBC</td>\n",
       "      <td>0.136364</td>\n",
       "    </tr>\n",
       "    <tr>\n",
       "      <th>154237</th>\n",
       "      <td>2020-03-28</td>\n",
       "      <td>As virus threatens, U.S. embraces big governme...</td>\n",
       "      <td>Business News</td>\n",
       "      <td>Reuters</td>\n",
       "      <td>0.000000</td>\n",
       "    </tr>\n",
       "    <tr>\n",
       "      <th>154238</th>\n",
       "      <td>2020-03-28</td>\n",
       "      <td>Irish banks processing over 28,000 coronavirus...</td>\n",
       "      <td>Financials</td>\n",
       "      <td>Reuters</td>\n",
       "      <td>0.000000</td>\n",
       "    </tr>\n",
       "    <tr>\n",
       "      <th>154239</th>\n",
       "      <td>2020-03-28</td>\n",
       "      <td>Canada's top lenders cut prime rates after cen...</td>\n",
       "      <td>Business News</td>\n",
       "      <td>Reuters</td>\n",
       "      <td>0.250000</td>\n",
       "    </tr>\n",
       "  </tbody>\n",
       "</table>\n",
       "<p>154240 rows × 5 columns</p>\n",
       "</div>"
      ],
      "text/plain": [
       "              date                                              title  \\\n",
       "0       2016-01-01  Honda confirms ninth death linked to Takata ai...   \n",
       "1       2016-01-01  China December factory activity shrinks, more ...   \n",
       "2       2016-01-01  China official December services PMI edges up ...   \n",
       "3       2016-01-01  Apple to pay Italy 318 million euros, sign tax...   \n",
       "4       2016-01-01           India's NSE index ends near 2-month high   \n",
       "...            ...                                                ...   \n",
       "154235  2020-03-28  S&P cuts DAMAC's rating, puts Emaar Properties...   \n",
       "154236  2020-03-28  Trump considering 'enforceable' quarantine in ...   \n",
       "154237  2020-03-28  As virus threatens, U.S. embraces big governme...   \n",
       "154238  2020-03-28  Irish banks processing over 28,000 coronavirus...   \n",
       "154239  2020-03-28  Canada's top lenders cut prime rates after cen...   \n",
       "\n",
       "              section publication  TextBlob_Sentiment  \n",
       "0       Business News     Reuters            0.000000  \n",
       "1       Business News     Reuters            0.500000  \n",
       "2       Business News     Reuters            0.000000  \n",
       "3       Business News     Reuters            0.000000  \n",
       "4          Financials     Reuters            0.130000  \n",
       "...               ...         ...                 ...  \n",
       "154235     Financials     Reuters            0.000000  \n",
       "154236  Business News        CNBC            0.136364  \n",
       "154237  Business News     Reuters            0.000000  \n",
       "154238     Financials     Reuters            0.000000  \n",
       "154239  Business News     Reuters            0.250000  \n",
       "\n",
       "[154240 rows x 5 columns]"
      ]
     },
     "execution_count": 10,
     "metadata": {},
     "output_type": "execute_result"
    }
   ],
   "source": [
    "news_df_1"
   ]
  },
  {
   "cell_type": "markdown",
   "id": "82a3903b",
   "metadata": {},
   "source": [
    "**drop columns 'title', 'section', 'publication'**"
   ]
  },
  {
   "cell_type": "code",
   "execution_count": 11,
   "id": "13e2ce0e",
   "metadata": {},
   "outputs": [],
   "source": [
    "news_df_1.drop(['title', 'section', 'publication'], axis=1, inplace=True)"
   ]
  },
  {
   "cell_type": "code",
   "execution_count": 12,
   "id": "300cfae7",
   "metadata": {},
   "outputs": [
    {
     "data": {
      "text/html": [
       "<div>\n",
       "<style scoped>\n",
       "    .dataframe tbody tr th:only-of-type {\n",
       "        vertical-align: middle;\n",
       "    }\n",
       "\n",
       "    .dataframe tbody tr th {\n",
       "        vertical-align: top;\n",
       "    }\n",
       "\n",
       "    .dataframe thead th {\n",
       "        text-align: right;\n",
       "    }\n",
       "</style>\n",
       "<table border=\"1\" class=\"dataframe\">\n",
       "  <thead>\n",
       "    <tr style=\"text-align: right;\">\n",
       "      <th></th>\n",
       "      <th>date</th>\n",
       "      <th>TextBlob_Sentiment</th>\n",
       "    </tr>\n",
       "  </thead>\n",
       "  <tbody>\n",
       "    <tr>\n",
       "      <th>0</th>\n",
       "      <td>2016-01-01</td>\n",
       "      <td>0.000000</td>\n",
       "    </tr>\n",
       "    <tr>\n",
       "      <th>1</th>\n",
       "      <td>2016-01-01</td>\n",
       "      <td>0.500000</td>\n",
       "    </tr>\n",
       "    <tr>\n",
       "      <th>2</th>\n",
       "      <td>2016-01-01</td>\n",
       "      <td>0.000000</td>\n",
       "    </tr>\n",
       "    <tr>\n",
       "      <th>3</th>\n",
       "      <td>2016-01-01</td>\n",
       "      <td>0.000000</td>\n",
       "    </tr>\n",
       "    <tr>\n",
       "      <th>4</th>\n",
       "      <td>2016-01-01</td>\n",
       "      <td>0.130000</td>\n",
       "    </tr>\n",
       "    <tr>\n",
       "      <th>...</th>\n",
       "      <td>...</td>\n",
       "      <td>...</td>\n",
       "    </tr>\n",
       "    <tr>\n",
       "      <th>154235</th>\n",
       "      <td>2020-03-28</td>\n",
       "      <td>0.000000</td>\n",
       "    </tr>\n",
       "    <tr>\n",
       "      <th>154236</th>\n",
       "      <td>2020-03-28</td>\n",
       "      <td>0.136364</td>\n",
       "    </tr>\n",
       "    <tr>\n",
       "      <th>154237</th>\n",
       "      <td>2020-03-28</td>\n",
       "      <td>0.000000</td>\n",
       "    </tr>\n",
       "    <tr>\n",
       "      <th>154238</th>\n",
       "      <td>2020-03-28</td>\n",
       "      <td>0.000000</td>\n",
       "    </tr>\n",
       "    <tr>\n",
       "      <th>154239</th>\n",
       "      <td>2020-03-28</td>\n",
       "      <td>0.250000</td>\n",
       "    </tr>\n",
       "  </tbody>\n",
       "</table>\n",
       "<p>154240 rows × 2 columns</p>\n",
       "</div>"
      ],
      "text/plain": [
       "              date  TextBlob_Sentiment\n",
       "0       2016-01-01            0.000000\n",
       "1       2016-01-01            0.500000\n",
       "2       2016-01-01            0.000000\n",
       "3       2016-01-01            0.000000\n",
       "4       2016-01-01            0.130000\n",
       "...            ...                 ...\n",
       "154235  2020-03-28            0.000000\n",
       "154236  2020-03-28            0.136364\n",
       "154237  2020-03-28            0.000000\n",
       "154238  2020-03-28            0.000000\n",
       "154239  2020-03-28            0.250000\n",
       "\n",
       "[154240 rows x 2 columns]"
      ]
     },
     "execution_count": 12,
     "metadata": {},
     "output_type": "execute_result"
    }
   ],
   "source": [
    "news_df_1"
   ]
  },
  {
   "cell_type": "markdown",
   "id": "f19b3e6a",
   "metadata": {},
   "source": [
    "**a group by date function has been executed. While grouping the rows by the date column, the sentiment scores will be averaged.**"
   ]
  },
  {
   "cell_type": "code",
   "execution_count": 13,
   "id": "b94d1b9d",
   "metadata": {},
   "outputs": [],
   "source": [
    "news_df_1 = news_df_1.groupby('date', as_index=False, sort=True)['TextBlob_Sentiment'].mean()"
   ]
  },
  {
   "cell_type": "code",
   "execution_count": 14,
   "id": "42e5fb4f",
   "metadata": {},
   "outputs": [],
   "source": [
    "start = datetime.strptime(\"01-01-2016\", \"%d-%m-%Y\")\n",
    "end   = datetime.strptime(\"31-01-2020\", \"%d-%m-%Y\")\n",
    "\n",
    "# Convert datetime object to date object.\n",
    "start = start.date()\n",
    "end   = end.date()\n",
    "\n",
    "news_df_1 = news_df_1[(news_df_1['date'] >= start) & (news_df_1['date'] <= end)]"
   ]
  },
  {
   "cell_type": "code",
   "execution_count": 15,
   "id": "a2fab761",
   "metadata": {},
   "outputs": [
    {
     "data": {
      "text/html": [
       "<div>\n",
       "<style scoped>\n",
       "    .dataframe tbody tr th:only-of-type {\n",
       "        vertical-align: middle;\n",
       "    }\n",
       "\n",
       "    .dataframe tbody tr th {\n",
       "        vertical-align: top;\n",
       "    }\n",
       "\n",
       "    .dataframe thead th {\n",
       "        text-align: right;\n",
       "    }\n",
       "</style>\n",
       "<table border=\"1\" class=\"dataframe\">\n",
       "  <thead>\n",
       "    <tr style=\"text-align: right;\">\n",
       "      <th></th>\n",
       "      <th>date</th>\n",
       "      <th>TextBlob_Sentiment</th>\n",
       "    </tr>\n",
       "  </thead>\n",
       "  <tbody>\n",
       "    <tr>\n",
       "      <th>0</th>\n",
       "      <td>2016-01-01</td>\n",
       "      <td>0.114318</td>\n",
       "    </tr>\n",
       "    <tr>\n",
       "      <th>1</th>\n",
       "      <td>2016-01-02</td>\n",
       "      <td>0.041667</td>\n",
       "    </tr>\n",
       "    <tr>\n",
       "      <th>2</th>\n",
       "      <td>2016-01-03</td>\n",
       "      <td>-0.066667</td>\n",
       "    </tr>\n",
       "    <tr>\n",
       "      <th>3</th>\n",
       "      <td>2016-01-04</td>\n",
       "      <td>-0.004649</td>\n",
       "    </tr>\n",
       "    <tr>\n",
       "      <th>4</th>\n",
       "      <td>2016-01-05</td>\n",
       "      <td>-0.004303</td>\n",
       "    </tr>\n",
       "    <tr>\n",
       "      <th>...</th>\n",
       "      <td>...</td>\n",
       "      <td>...</td>\n",
       "    </tr>\n",
       "    <tr>\n",
       "      <th>1487</th>\n",
       "      <td>2020-01-27</td>\n",
       "      <td>0.034606</td>\n",
       "    </tr>\n",
       "    <tr>\n",
       "      <th>1488</th>\n",
       "      <td>2020-01-28</td>\n",
       "      <td>0.009579</td>\n",
       "    </tr>\n",
       "    <tr>\n",
       "      <th>1489</th>\n",
       "      <td>2020-01-29</td>\n",
       "      <td>0.017997</td>\n",
       "    </tr>\n",
       "    <tr>\n",
       "      <th>1490</th>\n",
       "      <td>2020-01-30</td>\n",
       "      <td>0.008438</td>\n",
       "    </tr>\n",
       "    <tr>\n",
       "      <th>1491</th>\n",
       "      <td>2020-01-31</td>\n",
       "      <td>-0.001582</td>\n",
       "    </tr>\n",
       "  </tbody>\n",
       "</table>\n",
       "<p>1492 rows × 2 columns</p>\n",
       "</div>"
      ],
      "text/plain": [
       "            date  TextBlob_Sentiment\n",
       "0     2016-01-01            0.114318\n",
       "1     2016-01-02            0.041667\n",
       "2     2016-01-03           -0.066667\n",
       "3     2016-01-04           -0.004649\n",
       "4     2016-01-05           -0.004303\n",
       "...          ...                 ...\n",
       "1487  2020-01-27            0.034606\n",
       "1488  2020-01-28            0.009579\n",
       "1489  2020-01-29            0.017997\n",
       "1490  2020-01-30            0.008438\n",
       "1491  2020-01-31           -0.001582\n",
       "\n",
       "[1492 rows x 2 columns]"
      ]
     },
     "execution_count": 15,
     "metadata": {},
     "output_type": "execute_result"
    }
   ],
   "source": [
    "news_df_1"
   ]
  },
  {
   "cell_type": "markdown",
   "id": "fc58fc70",
   "metadata": {},
   "source": [
    "### 2. S&P 500 preprocessing (YahooFinancials package.xls) (1785 entries before preprocessing, includig keys row)\n",
    "* keep columns: close price, volume, and date\n",
    "* Another column has been added with the movement, this is the binary dependent variable in this study. A 1 is assigned if the stock market value went up or remained the same compared to the day before and 0 if the stock market values went down.\n",
    "* Since it has been decided to use fundamental as well as technical analysis, a column has been added with a technical indicator. Although there are many technical indicators which can be calculated with the features in the S&P 500 dataset, the most common one has been chosen, which is the simple moving average (SMA). To calculate the SMA, all the closing prices are summed up over a given period and divided by the number of periods\n",
    "SMA = (A1 + A2 + ... + An) / n\n",
    "* Since the prediction of a stock for the following day is considered as a short-term prediction, the period should is set on 10 days"
   ]
  },
  {
   "cell_type": "markdown",
   "id": "8fd86ee7",
   "metadata": {},
   "source": [
    "**keep columns: close price, volume, and date**"
   ]
  },
  {
   "cell_type": "code",
   "execution_count": 16,
   "id": "5ceedb2a",
   "metadata": {},
   "outputs": [],
   "source": [
    "fields = ['Date', 'Close*', 'Volume']\n",
    "\n",
    "sandp_df = pd.read_excel('../data/YahooFinancials package.xls', usecols=fields)\n",
    "sandp_df.rename(columns = {'Date':'date'}, inplace = True)\n",
    "sandp_df['date'] = sandp_df['date'].astype('datetime64[ns]')\n",
    "sandp_df['date'] = sandp_df['date'].dt.date"
   ]
  },
  {
   "cell_type": "code",
   "execution_count": 17,
   "id": "73d7e5c6",
   "metadata": {
    "scrolled": true
   },
   "outputs": [
    {
     "data": {
      "text/html": [
       "<div>\n",
       "<style scoped>\n",
       "    .dataframe tbody tr th:only-of-type {\n",
       "        vertical-align: middle;\n",
       "    }\n",
       "\n",
       "    .dataframe tbody tr th {\n",
       "        vertical-align: top;\n",
       "    }\n",
       "\n",
       "    .dataframe thead th {\n",
       "        text-align: right;\n",
       "    }\n",
       "</style>\n",
       "<table border=\"1\" class=\"dataframe\">\n",
       "  <thead>\n",
       "    <tr style=\"text-align: right;\">\n",
       "      <th></th>\n",
       "      <th>date</th>\n",
       "      <th>Close*</th>\n",
       "      <th>Volume</th>\n",
       "    </tr>\n",
       "  </thead>\n",
       "  <tbody>\n",
       "    <tr>\n",
       "      <th>0</th>\n",
       "      <td>2020-01-31</td>\n",
       "      <td>3225.52</td>\n",
       "      <td>4527830000</td>\n",
       "    </tr>\n",
       "    <tr>\n",
       "      <th>1</th>\n",
       "      <td>2020-01-30</td>\n",
       "      <td>3283.66</td>\n",
       "      <td>3787250000</td>\n",
       "    </tr>\n",
       "    <tr>\n",
       "      <th>2</th>\n",
       "      <td>2020-01-29</td>\n",
       "      <td>3273.40</td>\n",
       "      <td>3584500000</td>\n",
       "    </tr>\n",
       "    <tr>\n",
       "      <th>3</th>\n",
       "      <td>2020-01-28</td>\n",
       "      <td>3276.24</td>\n",
       "      <td>3526720000</td>\n",
       "    </tr>\n",
       "    <tr>\n",
       "      <th>4</th>\n",
       "      <td>2020-01-27</td>\n",
       "      <td>3243.63</td>\n",
       "      <td>3823100000</td>\n",
       "    </tr>\n",
       "    <tr>\n",
       "      <th>...</th>\n",
       "      <td>...</td>\n",
       "      <td>...</td>\n",
       "      <td>...</td>\n",
       "    </tr>\n",
       "    <tr>\n",
       "      <th>1779</th>\n",
       "      <td>2013-01-07</td>\n",
       "      <td>1461.89</td>\n",
       "      <td>3304970000</td>\n",
       "    </tr>\n",
       "    <tr>\n",
       "      <th>1780</th>\n",
       "      <td>2013-01-04</td>\n",
       "      <td>1466.47</td>\n",
       "      <td>3424290000</td>\n",
       "    </tr>\n",
       "    <tr>\n",
       "      <th>1781</th>\n",
       "      <td>2013-01-03</td>\n",
       "      <td>1459.37</td>\n",
       "      <td>3829730000</td>\n",
       "    </tr>\n",
       "    <tr>\n",
       "      <th>1782</th>\n",
       "      <td>2013-01-02</td>\n",
       "      <td>1462.42</td>\n",
       "      <td>4202600000</td>\n",
       "    </tr>\n",
       "    <tr>\n",
       "      <th>1783</th>\n",
       "      <td>2012-12-31</td>\n",
       "      <td>1426.19</td>\n",
       "      <td>3204330000</td>\n",
       "    </tr>\n",
       "  </tbody>\n",
       "</table>\n",
       "<p>1784 rows × 3 columns</p>\n",
       "</div>"
      ],
      "text/plain": [
       "            date   Close*      Volume\n",
       "0     2020-01-31  3225.52  4527830000\n",
       "1     2020-01-30  3283.66  3787250000\n",
       "2     2020-01-29  3273.40  3584500000\n",
       "3     2020-01-28  3276.24  3526720000\n",
       "4     2020-01-27  3243.63  3823100000\n",
       "...          ...      ...         ...\n",
       "1779  2013-01-07  1461.89  3304970000\n",
       "1780  2013-01-04  1466.47  3424290000\n",
       "1781  2013-01-03  1459.37  3829730000\n",
       "1782  2013-01-02  1462.42  4202600000\n",
       "1783  2012-12-31  1426.19  3204330000\n",
       "\n",
       "[1784 rows x 3 columns]"
      ]
     },
     "execution_count": 17,
     "metadata": {},
     "output_type": "execute_result"
    }
   ],
   "source": [
    "sandp_df"
   ]
  },
  {
   "cell_type": "markdown",
   "id": "a8d2a692",
   "metadata": {},
   "source": [
    "**Another column has been added with the movement, this is the binary dependent variable in this study. A 1 is assigned if the stock market value went up or remained the same compared to the day before and 0 if the stock market values went down.**"
   ]
  },
  {
   "cell_type": "code",
   "execution_count": 18,
   "id": "20d6b863",
   "metadata": {},
   "outputs": [],
   "source": [
    "def calculate_movement(some_df):\n",
    "    \n",
    "    close_list = list(some_df['Close*'])\n",
    "    \n",
    "    movement = []  \n",
    "    for i in range(len(close_list)-1):\n",
    "        if close_list[i] < close_list[i+1]:\n",
    "            movement.append(0)\n",
    "        else:\n",
    "            movement.append(1)\n",
    "    movement.append(1)   # there is nothing to compare for the first day, set to 1 (remained the same)\n",
    "    some_df['movement'] = movement\n",
    "    return some_df"
   ]
  },
  {
   "cell_type": "code",
   "execution_count": 19,
   "id": "60c43a8a",
   "metadata": {},
   "outputs": [],
   "source": [
    "sandp_df = calculate_movement(sandp_df)"
   ]
  },
  {
   "cell_type": "code",
   "execution_count": 20,
   "id": "d8ea13fc",
   "metadata": {},
   "outputs": [
    {
     "data": {
      "text/html": [
       "<div>\n",
       "<style scoped>\n",
       "    .dataframe tbody tr th:only-of-type {\n",
       "        vertical-align: middle;\n",
       "    }\n",
       "\n",
       "    .dataframe tbody tr th {\n",
       "        vertical-align: top;\n",
       "    }\n",
       "\n",
       "    .dataframe thead th {\n",
       "        text-align: right;\n",
       "    }\n",
       "</style>\n",
       "<table border=\"1\" class=\"dataframe\">\n",
       "  <thead>\n",
       "    <tr style=\"text-align: right;\">\n",
       "      <th></th>\n",
       "      <th>date</th>\n",
       "      <th>Close*</th>\n",
       "      <th>Volume</th>\n",
       "      <th>movement</th>\n",
       "    </tr>\n",
       "  </thead>\n",
       "  <tbody>\n",
       "    <tr>\n",
       "      <th>0</th>\n",
       "      <td>2020-01-31</td>\n",
       "      <td>3225.52</td>\n",
       "      <td>4527830000</td>\n",
       "      <td>0</td>\n",
       "    </tr>\n",
       "    <tr>\n",
       "      <th>1</th>\n",
       "      <td>2020-01-30</td>\n",
       "      <td>3283.66</td>\n",
       "      <td>3787250000</td>\n",
       "      <td>1</td>\n",
       "    </tr>\n",
       "    <tr>\n",
       "      <th>2</th>\n",
       "      <td>2020-01-29</td>\n",
       "      <td>3273.40</td>\n",
       "      <td>3584500000</td>\n",
       "      <td>0</td>\n",
       "    </tr>\n",
       "    <tr>\n",
       "      <th>3</th>\n",
       "      <td>2020-01-28</td>\n",
       "      <td>3276.24</td>\n",
       "      <td>3526720000</td>\n",
       "      <td>1</td>\n",
       "    </tr>\n",
       "    <tr>\n",
       "      <th>4</th>\n",
       "      <td>2020-01-27</td>\n",
       "      <td>3243.63</td>\n",
       "      <td>3823100000</td>\n",
       "      <td>0</td>\n",
       "    </tr>\n",
       "    <tr>\n",
       "      <th>5</th>\n",
       "      <td>2020-01-24</td>\n",
       "      <td>3295.47</td>\n",
       "      <td>3707130000</td>\n",
       "      <td>0</td>\n",
       "    </tr>\n",
       "    <tr>\n",
       "      <th>6</th>\n",
       "      <td>2020-01-23</td>\n",
       "      <td>3325.54</td>\n",
       "      <td>3764860000</td>\n",
       "      <td>1</td>\n",
       "    </tr>\n",
       "    <tr>\n",
       "      <th>7</th>\n",
       "      <td>2020-01-22</td>\n",
       "      <td>3321.75</td>\n",
       "      <td>3619850000</td>\n",
       "      <td>1</td>\n",
       "    </tr>\n",
       "    <tr>\n",
       "      <th>8</th>\n",
       "      <td>2020-01-21</td>\n",
       "      <td>3320.79</td>\n",
       "      <td>4105340000</td>\n",
       "      <td>0</td>\n",
       "    </tr>\n",
       "    <tr>\n",
       "      <th>9</th>\n",
       "      <td>2020-01-17</td>\n",
       "      <td>3329.62</td>\n",
       "      <td>3698170000</td>\n",
       "      <td>1</td>\n",
       "    </tr>\n",
       "    <tr>\n",
       "      <th>10</th>\n",
       "      <td>2020-01-16</td>\n",
       "      <td>3316.81</td>\n",
       "      <td>3535080000</td>\n",
       "      <td>1</td>\n",
       "    </tr>\n",
       "    <tr>\n",
       "      <th>11</th>\n",
       "      <td>2020-01-15</td>\n",
       "      <td>3289.29</td>\n",
       "      <td>3716840000</td>\n",
       "      <td>1</td>\n",
       "    </tr>\n",
       "    <tr>\n",
       "      <th>12</th>\n",
       "      <td>2020-01-14</td>\n",
       "      <td>3283.15</td>\n",
       "      <td>3665130000</td>\n",
       "      <td>0</td>\n",
       "    </tr>\n",
       "    <tr>\n",
       "      <th>13</th>\n",
       "      <td>2020-01-13</td>\n",
       "      <td>3288.13</td>\n",
       "      <td>3456380000</td>\n",
       "      <td>1</td>\n",
       "    </tr>\n",
       "    <tr>\n",
       "      <th>14</th>\n",
       "      <td>2020-01-10</td>\n",
       "      <td>3265.35</td>\n",
       "      <td>3212970000</td>\n",
       "      <td>0</td>\n",
       "    </tr>\n",
       "  </tbody>\n",
       "</table>\n",
       "</div>"
      ],
      "text/plain": [
       "          date   Close*      Volume  movement\n",
       "0   2020-01-31  3225.52  4527830000         0\n",
       "1   2020-01-30  3283.66  3787250000         1\n",
       "2   2020-01-29  3273.40  3584500000         0\n",
       "3   2020-01-28  3276.24  3526720000         1\n",
       "4   2020-01-27  3243.63  3823100000         0\n",
       "5   2020-01-24  3295.47  3707130000         0\n",
       "6   2020-01-23  3325.54  3764860000         1\n",
       "7   2020-01-22  3321.75  3619850000         1\n",
       "8   2020-01-21  3320.79  4105340000         0\n",
       "9   2020-01-17  3329.62  3698170000         1\n",
       "10  2020-01-16  3316.81  3535080000         1\n",
       "11  2020-01-15  3289.29  3716840000         1\n",
       "12  2020-01-14  3283.15  3665130000         0\n",
       "13  2020-01-13  3288.13  3456380000         1\n",
       "14  2020-01-10  3265.35  3212970000         0"
      ]
     },
     "execution_count": 20,
     "metadata": {},
     "output_type": "execute_result"
    }
   ],
   "source": [
    "sandp_df.head(15)"
   ]
  },
  {
   "cell_type": "markdown",
   "id": "67a358fd",
   "metadata": {},
   "source": [
    "**To calculate the SMA, all the closing prices are summed up over a given period and divided by the number of periods SMA = (A1 + A2 + ... + An) / n.**\n",
    "\n",
    "**Since the prediction of a stock for the following day is considered as a short-term prediction, the period should is set on 10 days**"
   ]
  },
  {
   "cell_type": "code",
   "execution_count": 21,
   "id": "c33928ea",
   "metadata": {},
   "outputs": [],
   "source": [
    "def calculate_SMA(some_df):\n",
    "    \n",
    "    close_list = list(some_df['Close*'])\n",
    "   \n",
    "    sma = []\n",
    "    for i in range(len(close_list)-1):\n",
    "        previous = close_list[i+1:i+11]\n",
    "        sma.append( (sum(previous))/len(previous) )\n",
    "\n",
    "    sma.append(close_list[-1])  # there is nothing to compare for the first day, set to current day value  \n",
    "    some_df['SMA'] = sma\n",
    "    return some_df"
   ]
  },
  {
   "cell_type": "code",
   "execution_count": 22,
   "id": "29c13fdf",
   "metadata": {},
   "outputs": [],
   "source": [
    "sandp_df = calculate_SMA(sandp_df)"
   ]
  },
  {
   "cell_type": "code",
   "execution_count": 23,
   "id": "187cb667",
   "metadata": {
    "scrolled": true
   },
   "outputs": [
    {
     "data": {
      "text/html": [
       "<div>\n",
       "<style scoped>\n",
       "    .dataframe tbody tr th:only-of-type {\n",
       "        vertical-align: middle;\n",
       "    }\n",
       "\n",
       "    .dataframe tbody tr th {\n",
       "        vertical-align: top;\n",
       "    }\n",
       "\n",
       "    .dataframe thead th {\n",
       "        text-align: right;\n",
       "    }\n",
       "</style>\n",
       "<table border=\"1\" class=\"dataframe\">\n",
       "  <thead>\n",
       "    <tr style=\"text-align: right;\">\n",
       "      <th></th>\n",
       "      <th>date</th>\n",
       "      <th>Close*</th>\n",
       "      <th>Volume</th>\n",
       "      <th>movement</th>\n",
       "      <th>SMA</th>\n",
       "    </tr>\n",
       "  </thead>\n",
       "  <tbody>\n",
       "    <tr>\n",
       "      <th>0</th>\n",
       "      <td>2020-01-31</td>\n",
       "      <td>3225.52</td>\n",
       "      <td>4527830000</td>\n",
       "      <td>0</td>\n",
       "      <td>3298.691</td>\n",
       "    </tr>\n",
       "    <tr>\n",
       "      <th>1</th>\n",
       "      <td>2020-01-30</td>\n",
       "      <td>3283.66</td>\n",
       "      <td>3787250000</td>\n",
       "      <td>1</td>\n",
       "      <td>3299.254</td>\n",
       "    </tr>\n",
       "    <tr>\n",
       "      <th>2</th>\n",
       "      <td>2020-01-29</td>\n",
       "      <td>3273.40</td>\n",
       "      <td>3584500000</td>\n",
       "      <td>0</td>\n",
       "      <td>3300.229</td>\n",
       "    </tr>\n",
       "  </tbody>\n",
       "</table>\n",
       "</div>"
      ],
      "text/plain": [
       "         date   Close*      Volume  movement       SMA\n",
       "0  2020-01-31  3225.52  4527830000         0  3298.691\n",
       "1  2020-01-30  3283.66  3787250000         1  3299.254\n",
       "2  2020-01-29  3273.40  3584500000         0  3300.229"
      ]
     },
     "execution_count": 23,
     "metadata": {},
     "output_type": "execute_result"
    }
   ],
   "source": [
    "sandp_df.head(3)"
   ]
  },
  {
   "cell_type": "code",
   "execution_count": 24,
   "id": "7ca2089f",
   "metadata": {},
   "outputs": [],
   "source": [
    "sandp_df = sandp_df[(sandp_df['date'] >= start) & (sandp_df['date'] <= end)]\n",
    "sandp_df = sandp_df.sort_values(by='date')\n",
    "sandp_df = sandp_df.reset_index(drop=True)"
   ]
  },
  {
   "cell_type": "code",
   "execution_count": 25,
   "id": "da97c037",
   "metadata": {},
   "outputs": [
    {
     "data": {
      "text/html": [
       "<div>\n",
       "<style scoped>\n",
       "    .dataframe tbody tr th:only-of-type {\n",
       "        vertical-align: middle;\n",
       "    }\n",
       "\n",
       "    .dataframe tbody tr th {\n",
       "        vertical-align: top;\n",
       "    }\n",
       "\n",
       "    .dataframe thead th {\n",
       "        text-align: right;\n",
       "    }\n",
       "</style>\n",
       "<table border=\"1\" class=\"dataframe\">\n",
       "  <thead>\n",
       "    <tr style=\"text-align: right;\">\n",
       "      <th></th>\n",
       "      <th>date</th>\n",
       "      <th>Close*</th>\n",
       "      <th>Volume</th>\n",
       "      <th>movement</th>\n",
       "      <th>SMA</th>\n",
       "    </tr>\n",
       "  </thead>\n",
       "  <tbody>\n",
       "    <tr>\n",
       "      <th>0</th>\n",
       "      <td>2016-01-04</td>\n",
       "      <td>2012.66</td>\n",
       "      <td>4304880000</td>\n",
       "      <td>0</td>\n",
       "      <td>2047.500</td>\n",
       "    </tr>\n",
       "    <tr>\n",
       "      <th>1</th>\n",
       "      <td>2016-01-05</td>\n",
       "      <td>2016.71</td>\n",
       "      <td>3706620000</td>\n",
       "      <td>1</td>\n",
       "      <td>2044.577</td>\n",
       "    </tr>\n",
       "    <tr>\n",
       "      <th>2</th>\n",
       "      <td>2016-01-06</td>\n",
       "      <td>1990.26</td>\n",
       "      <td>4336660000</td>\n",
       "      <td>0</td>\n",
       "      <td>2045.693</td>\n",
       "    </tr>\n",
       "    <tr>\n",
       "      <th>3</th>\n",
       "      <td>2016-01-07</td>\n",
       "      <td>1943.09</td>\n",
       "      <td>5076590000</td>\n",
       "      <td>0</td>\n",
       "      <td>2042.604</td>\n",
       "    </tr>\n",
       "    <tr>\n",
       "      <th>4</th>\n",
       "      <td>2016-01-08</td>\n",
       "      <td>1922.03</td>\n",
       "      <td>4664940000</td>\n",
       "      <td>0</td>\n",
       "      <td>2033.016</td>\n",
       "    </tr>\n",
       "    <tr>\n",
       "      <th>...</th>\n",
       "      <td>...</td>\n",
       "      <td>...</td>\n",
       "      <td>...</td>\n",
       "      <td>...</td>\n",
       "      <td>...</td>\n",
       "    </tr>\n",
       "    <tr>\n",
       "      <th>1022</th>\n",
       "      <td>2020-01-27</td>\n",
       "      <td>3243.63</td>\n",
       "      <td>3823100000</td>\n",
       "      <td>0</td>\n",
       "      <td>3303.590</td>\n",
       "    </tr>\n",
       "    <tr>\n",
       "      <th>1023</th>\n",
       "      <td>2020-01-28</td>\n",
       "      <td>3276.24</td>\n",
       "      <td>3526720000</td>\n",
       "      <td>1</td>\n",
       "      <td>3301.418</td>\n",
       "    </tr>\n",
       "    <tr>\n",
       "      <th>1024</th>\n",
       "      <td>2020-01-29</td>\n",
       "      <td>3273.40</td>\n",
       "      <td>3584500000</td>\n",
       "      <td>0</td>\n",
       "      <td>3300.229</td>\n",
       "    </tr>\n",
       "    <tr>\n",
       "      <th>1025</th>\n",
       "      <td>2020-01-30</td>\n",
       "      <td>3283.66</td>\n",
       "      <td>3787250000</td>\n",
       "      <td>1</td>\n",
       "      <td>3299.254</td>\n",
       "    </tr>\n",
       "    <tr>\n",
       "      <th>1026</th>\n",
       "      <td>2020-01-31</td>\n",
       "      <td>3225.52</td>\n",
       "      <td>4527830000</td>\n",
       "      <td>0</td>\n",
       "      <td>3298.691</td>\n",
       "    </tr>\n",
       "  </tbody>\n",
       "</table>\n",
       "<p>1027 rows × 5 columns</p>\n",
       "</div>"
      ],
      "text/plain": [
       "            date   Close*      Volume  movement       SMA\n",
       "0     2016-01-04  2012.66  4304880000         0  2047.500\n",
       "1     2016-01-05  2016.71  3706620000         1  2044.577\n",
       "2     2016-01-06  1990.26  4336660000         0  2045.693\n",
       "3     2016-01-07  1943.09  5076590000         0  2042.604\n",
       "4     2016-01-08  1922.03  4664940000         0  2033.016\n",
       "...          ...      ...         ...       ...       ...\n",
       "1022  2020-01-27  3243.63  3823100000         0  3303.590\n",
       "1023  2020-01-28  3276.24  3526720000         1  3301.418\n",
       "1024  2020-01-29  3273.40  3584500000         0  3300.229\n",
       "1025  2020-01-30  3283.66  3787250000         1  3299.254\n",
       "1026  2020-01-31  3225.52  4527830000         0  3298.691\n",
       "\n",
       "[1027 rows x 5 columns]"
      ]
     },
     "execution_count": 25,
     "metadata": {},
     "output_type": "execute_result"
    }
   ],
   "source": [
    "sandp_df"
   ]
  },
  {
   "cell_type": "markdown",
   "id": "aa59ba4c",
   "metadata": {},
   "source": [
    "### 3. Merge Datasets:\n",
    "* After the datasets are preprocessed, the price dataset has been left joined to the news article datasets to create two datasets that will be used as input and output for the machine and deep learning models. \n",
    "* The datasets are merged on the column date. Thus, the two dataset which will be used for this research are fully preprocessed and both contains 1,096 rows. Because both datasets consist of the same features only one table has been created to give an overview of all the features in the datasets.\n",
    "* The dependent variables have 589 entries that the stock market movement directionality went down, and 480 entries where the stock market price went up or remained the same.\n",
    "* One small adjustment has been made to the final datasets, which is known as standardization. This method may help to minimize dataset dissimilarities. Rescaling the features to give them the characteristics of a regular normal distribution is known as standardization (or Z-score normalization) (formula on page 20)"
   ]
  },
  {
   "cell_type": "code",
   "execution_count": 26,
   "id": "d9c23217",
   "metadata": {},
   "outputs": [],
   "source": [
    "merge_1 = news_df_1.merge(sandp_df, how='left', on='date')\n",
    "merge_1 = merge_1[merge_1['Close*'].notna()]\n",
    "merge_1['movement'] = merge_1['movement'].astype('int')\n",
    "merge_1 = merge_1.sort_values(by='date')\n",
    "merge_1 = merge_1.reset_index(drop=True)"
   ]
  },
  {
   "cell_type": "code",
   "execution_count": 27,
   "id": "c756f610",
   "metadata": {
    "scrolled": true
   },
   "outputs": [
    {
     "data": {
      "text/html": [
       "<div>\n",
       "<style scoped>\n",
       "    .dataframe tbody tr th:only-of-type {\n",
       "        vertical-align: middle;\n",
       "    }\n",
       "\n",
       "    .dataframe tbody tr th {\n",
       "        vertical-align: top;\n",
       "    }\n",
       "\n",
       "    .dataframe thead th {\n",
       "        text-align: right;\n",
       "    }\n",
       "</style>\n",
       "<table border=\"1\" class=\"dataframe\">\n",
       "  <thead>\n",
       "    <tr style=\"text-align: right;\">\n",
       "      <th></th>\n",
       "      <th>date</th>\n",
       "      <th>TextBlob_Sentiment</th>\n",
       "      <th>Close*</th>\n",
       "      <th>Volume</th>\n",
       "      <th>movement</th>\n",
       "      <th>SMA</th>\n",
       "    </tr>\n",
       "  </thead>\n",
       "  <tbody>\n",
       "    <tr>\n",
       "      <th>0</th>\n",
       "      <td>2016-01-04</td>\n",
       "      <td>-0.004649</td>\n",
       "      <td>2012.66</td>\n",
       "      <td>4.304880e+09</td>\n",
       "      <td>0</td>\n",
       "      <td>2047.500</td>\n",
       "    </tr>\n",
       "    <tr>\n",
       "      <th>1</th>\n",
       "      <td>2016-01-05</td>\n",
       "      <td>-0.004303</td>\n",
       "      <td>2016.71</td>\n",
       "      <td>3.706620e+09</td>\n",
       "      <td>1</td>\n",
       "      <td>2044.577</td>\n",
       "    </tr>\n",
       "    <tr>\n",
       "      <th>2</th>\n",
       "      <td>2016-01-06</td>\n",
       "      <td>0.037939</td>\n",
       "      <td>1990.26</td>\n",
       "      <td>4.336660e+09</td>\n",
       "      <td>0</td>\n",
       "      <td>2045.693</td>\n",
       "    </tr>\n",
       "    <tr>\n",
       "      <th>3</th>\n",
       "      <td>2016-01-07</td>\n",
       "      <td>-0.005610</td>\n",
       "      <td>1943.09</td>\n",
       "      <td>5.076590e+09</td>\n",
       "      <td>0</td>\n",
       "      <td>2042.604</td>\n",
       "    </tr>\n",
       "    <tr>\n",
       "      <th>4</th>\n",
       "      <td>2016-01-08</td>\n",
       "      <td>-0.092329</td>\n",
       "      <td>1922.03</td>\n",
       "      <td>4.664940e+09</td>\n",
       "      <td>0</td>\n",
       "      <td>2033.016</td>\n",
       "    </tr>\n",
       "    <tr>\n",
       "      <th>...</th>\n",
       "      <td>...</td>\n",
       "      <td>...</td>\n",
       "      <td>...</td>\n",
       "      <td>...</td>\n",
       "      <td>...</td>\n",
       "      <td>...</td>\n",
       "    </tr>\n",
       "    <tr>\n",
       "      <th>1022</th>\n",
       "      <td>2020-01-27</td>\n",
       "      <td>0.034606</td>\n",
       "      <td>3243.63</td>\n",
       "      <td>3.823100e+09</td>\n",
       "      <td>0</td>\n",
       "      <td>3303.590</td>\n",
       "    </tr>\n",
       "    <tr>\n",
       "      <th>1023</th>\n",
       "      <td>2020-01-28</td>\n",
       "      <td>0.009579</td>\n",
       "      <td>3276.24</td>\n",
       "      <td>3.526720e+09</td>\n",
       "      <td>1</td>\n",
       "      <td>3301.418</td>\n",
       "    </tr>\n",
       "    <tr>\n",
       "      <th>1024</th>\n",
       "      <td>2020-01-29</td>\n",
       "      <td>0.017997</td>\n",
       "      <td>3273.40</td>\n",
       "      <td>3.584500e+09</td>\n",
       "      <td>0</td>\n",
       "      <td>3300.229</td>\n",
       "    </tr>\n",
       "    <tr>\n",
       "      <th>1025</th>\n",
       "      <td>2020-01-30</td>\n",
       "      <td>0.008438</td>\n",
       "      <td>3283.66</td>\n",
       "      <td>3.787250e+09</td>\n",
       "      <td>1</td>\n",
       "      <td>3299.254</td>\n",
       "    </tr>\n",
       "    <tr>\n",
       "      <th>1026</th>\n",
       "      <td>2020-01-31</td>\n",
       "      <td>-0.001582</td>\n",
       "      <td>3225.52</td>\n",
       "      <td>4.527830e+09</td>\n",
       "      <td>0</td>\n",
       "      <td>3298.691</td>\n",
       "    </tr>\n",
       "  </tbody>\n",
       "</table>\n",
       "<p>1027 rows × 6 columns</p>\n",
       "</div>"
      ],
      "text/plain": [
       "            date  TextBlob_Sentiment   Close*        Volume  movement  \\\n",
       "0     2016-01-04           -0.004649  2012.66  4.304880e+09         0   \n",
       "1     2016-01-05           -0.004303  2016.71  3.706620e+09         1   \n",
       "2     2016-01-06            0.037939  1990.26  4.336660e+09         0   \n",
       "3     2016-01-07           -0.005610  1943.09  5.076590e+09         0   \n",
       "4     2016-01-08           -0.092329  1922.03  4.664940e+09         0   \n",
       "...          ...                 ...      ...           ...       ...   \n",
       "1022  2020-01-27            0.034606  3243.63  3.823100e+09         0   \n",
       "1023  2020-01-28            0.009579  3276.24  3.526720e+09         1   \n",
       "1024  2020-01-29            0.017997  3273.40  3.584500e+09         0   \n",
       "1025  2020-01-30            0.008438  3283.66  3.787250e+09         1   \n",
       "1026  2020-01-31           -0.001582  3225.52  4.527830e+09         0   \n",
       "\n",
       "           SMA  \n",
       "0     2047.500  \n",
       "1     2044.577  \n",
       "2     2045.693  \n",
       "3     2042.604  \n",
       "4     2033.016  \n",
       "...        ...  \n",
       "1022  3303.590  \n",
       "1023  3301.418  \n",
       "1024  3300.229  \n",
       "1025  3299.254  \n",
       "1026  3298.691  \n",
       "\n",
       "[1027 rows x 6 columns]"
      ]
     },
     "execution_count": 27,
     "metadata": {},
     "output_type": "execute_result"
    }
   ],
   "source": [
    "merge_1"
   ]
  },
  {
   "cell_type": "markdown",
   "id": "d7a7a876",
   "metadata": {},
   "source": [
    "**The author says on page 20: \"The dependent variables have 589 entries that the stock market movement directionality went down, and 480 entries where the stock market price went up or remained the same.\"**\n",
    "\n",
    "So, he would have 589 + 480 = 1069 entries\n",
    "\n",
    "**On page 19 the author talks about 1096 entries. There is some inconsistency or this is a typo.**\n",
    "\n",
    "This number of samples could not be reproduced. The data pre-processing and merging of the two datasets provides **only 1027 samples (569 up or same and 458 down)**, which have filled walues in all features. Maybe, the author forgot to throw out saturdays and sundays in the news dataset. News are printed everyday, while the stock market is open only MO-FR. So, there is no data for the S&P500 parameters for weekends.\n",
    "\n",
    "My approach now has a weakness. News from saturdays and sundays are not considered. If the author uses the sentiment from news from weekends, he missed to describe how he is handling the missing open, close, volume etc. data for these days. One approach could be to fill these values for each saturday and sunday with the same data, as from the previous friday.\n",
    "\n",
    "I will not follow this approach at this point. So, the last 10 days for sentiment and technical data for a Monday will be MO-FR from the two previous weeks.\n",
    "\n"
   ]
  },
  {
   "cell_type": "code",
   "execution_count": 28,
   "id": "1343bc43",
   "metadata": {
    "scrolled": false
   },
   "outputs": [
    {
     "data": {
      "text/plain": [
       "1    569\n",
       "0    458\n",
       "Name: movement, dtype: int64"
      ]
     },
     "execution_count": 28,
     "metadata": {},
     "output_type": "execute_result"
    }
   ],
   "source": [
    "merge_1['movement'].value_counts()"
   ]
  },
  {
   "cell_type": "markdown",
   "id": "69b9a7c4",
   "metadata": {},
   "source": [
    "**accortding to the table 1 on page 20, date should be of type \"date\", movement should be of type \"int\" and the rest should be of type \"float64\"**"
   ]
  },
  {
   "cell_type": "code",
   "execution_count": 29,
   "id": "a6839af0",
   "metadata": {},
   "outputs": [
    {
     "data": {
      "text/plain": [
       "date                   object\n",
       "TextBlob_Sentiment    float64\n",
       "Close*                float64\n",
       "Volume                float64\n",
       "movement                int32\n",
       "SMA                   float64\n",
       "dtype: object"
      ]
     },
     "execution_count": 29,
     "metadata": {},
     "output_type": "execute_result"
    }
   ],
   "source": [
    "merge_1.dtypes"
   ]
  },
  {
   "cell_type": "markdown",
   "id": "b7cf9845",
   "metadata": {},
   "source": [
    "## My understanding of the task:\n",
    "* movement is the target value for the binary classification\n",
    "* Technical Analysis (TA) represents the volume, close price and the SMA (from paper).\n",
    "* SVM + TextBlob will use columns: 'TextBlob_Sentiment', 'movement'\n",
    "* SVM + TextBlob + TA will use columns: 'TextBlob_Sentiment', 'Close*', 'Volume', SMA, 'movement'"
   ]
  },
  {
   "cell_type": "code",
   "execution_count": 30,
   "id": "609afb88",
   "metadata": {},
   "outputs": [],
   "source": [
    "svm_textblob = merge_1[['TextBlob_Sentiment']]\n",
    "svm_textblob_ta = merge_1[['TextBlob_Sentiment', 'Close*', 'Volume', 'SMA']]\n",
    "y = list(merge_1['movement'])"
   ]
  },
  {
   "cell_type": "markdown",
   "id": "f87e1bd0",
   "metadata": {},
   "source": [
    "**One small adjustment has been made to the final datasets, which is known as standardization. This method may help to minimize dataset dissimilarities. Rescaling the features to give them the characteristics of a regular normal distribution is known as standardization (or Z-score normalization)**"
   ]
  },
  {
   "cell_type": "code",
   "execution_count": 31,
   "id": "585735d5",
   "metadata": {},
   "outputs": [],
   "source": [
    "svm_textblob = svm_textblob.apply(zscore)\n",
    "svm_textblob_ta = svm_textblob_ta.apply(zscore)"
   ]
  },
  {
   "cell_type": "code",
   "execution_count": 32,
   "id": "eacc174b",
   "metadata": {},
   "outputs": [
    {
     "data": {
      "text/html": [
       "<div>\n",
       "<style scoped>\n",
       "    .dataframe tbody tr th:only-of-type {\n",
       "        vertical-align: middle;\n",
       "    }\n",
       "\n",
       "    .dataframe tbody tr th {\n",
       "        vertical-align: top;\n",
       "    }\n",
       "\n",
       "    .dataframe thead th {\n",
       "        text-align: right;\n",
       "    }\n",
       "</style>\n",
       "<table border=\"1\" class=\"dataframe\">\n",
       "  <thead>\n",
       "    <tr style=\"text-align: right;\">\n",
       "      <th></th>\n",
       "      <th>TextBlob_Sentiment</th>\n",
       "    </tr>\n",
       "  </thead>\n",
       "  <tbody>\n",
       "    <tr>\n",
       "      <th>0</th>\n",
       "      <td>-1.481421</td>\n",
       "    </tr>\n",
       "    <tr>\n",
       "      <th>1</th>\n",
       "      <td>-1.463648</td>\n",
       "    </tr>\n",
       "    <tr>\n",
       "      <th>2</th>\n",
       "      <td>0.706539</td>\n",
       "    </tr>\n",
       "  </tbody>\n",
       "</table>\n",
       "</div>"
      ],
      "text/plain": [
       "   TextBlob_Sentiment\n",
       "0           -1.481421\n",
       "1           -1.463648\n",
       "2            0.706539"
      ]
     },
     "execution_count": 32,
     "metadata": {},
     "output_type": "execute_result"
    }
   ],
   "source": [
    "svm_textblob.head(3)"
   ]
  },
  {
   "cell_type": "code",
   "execution_count": 33,
   "id": "7c683a6a",
   "metadata": {},
   "outputs": [
    {
     "data": {
      "text/html": [
       "<div>\n",
       "<style scoped>\n",
       "    .dataframe tbody tr th:only-of-type {\n",
       "        vertical-align: middle;\n",
       "    }\n",
       "\n",
       "    .dataframe tbody tr th {\n",
       "        vertical-align: top;\n",
       "    }\n",
       "\n",
       "    .dataframe thead th {\n",
       "        text-align: right;\n",
       "    }\n",
       "</style>\n",
       "<table border=\"1\" class=\"dataframe\">\n",
       "  <thead>\n",
       "    <tr style=\"text-align: right;\">\n",
       "      <th></th>\n",
       "      <th>TextBlob_Sentiment</th>\n",
       "      <th>Close*</th>\n",
       "      <th>Volume</th>\n",
       "      <th>SMA</th>\n",
       "    </tr>\n",
       "  </thead>\n",
       "  <tbody>\n",
       "    <tr>\n",
       "      <th>0</th>\n",
       "      <td>-1.481421</td>\n",
       "      <td>-1.601418</td>\n",
       "      <td>1.020934</td>\n",
       "      <td>-1.494152</td>\n",
       "    </tr>\n",
       "    <tr>\n",
       "      <th>1</th>\n",
       "      <td>-1.463648</td>\n",
       "      <td>-1.589688</td>\n",
       "      <td>0.130415</td>\n",
       "      <td>-1.502689</td>\n",
       "    </tr>\n",
       "    <tr>\n",
       "      <th>2</th>\n",
       "      <td>0.706539</td>\n",
       "      <td>-1.666292</td>\n",
       "      <td>1.068239</td>\n",
       "      <td>-1.499429</td>\n",
       "    </tr>\n",
       "  </tbody>\n",
       "</table>\n",
       "</div>"
      ],
      "text/plain": [
       "   TextBlob_Sentiment    Close*    Volume       SMA\n",
       "0           -1.481421 -1.601418  1.020934 -1.494152\n",
       "1           -1.463648 -1.589688  0.130415 -1.502689\n",
       "2            0.706539 -1.666292  1.068239 -1.499429"
      ]
     },
     "execution_count": 33,
     "metadata": {},
     "output_type": "execute_result"
    }
   ],
   "source": [
    "svm_textblob_ta.head(3)"
   ]
  },
  {
   "cell_type": "markdown",
   "id": "84871ba7",
   "metadata": {},
   "source": [
    "### 4/5. Training, Validation, and Test Set\n",
    "* dataset for this study has been divided into two parts, 80% for training and 20% for testing the models. \n",
    "* Hence, the training data contains 855 observations, and the test data consists of 214 observations.\n",
    "* Real-world datasets should use a stratified 10-fold cross-validation (Kohavi, 1995). The cross-validation method ensures that the training and test sets include the same proportions of both target groups, which are in this study the upwards and downwards movement of the S&P 500 index price. Cross-validation guarantees the model's validity and reliability; see Section 4.3 for a more comprehensive explanation. The validation set was used as part of a grid search, covered in more detail in Subsection 4.2.3.\n",
    "* Each of these algorithms was used to create models, and a grid search was applied to find the best model settings, as described in the following subsection. Subsequently, the models were evaluated, and the best performing model for predicting daily S&P 500 movements was selected.\n",
    "* automated hyperparameter optimization (HPO) has been used in this study. Grid search, also known as full factorial design, is a commonly used HPO tool which automatically finds the best hyperparameters for an algorithm"
   ]
  },
  {
   "cell_type": "code",
   "execution_count": 34,
   "id": "7d4285e9",
   "metadata": {},
   "outputs": [],
   "source": [
    "svm_textblob_train = svm_textblob[:int(len(svm_textblob)*0.8)]\n",
    "svm_textblob_test = svm_textblob[int(len(svm_textblob)*0.8):]\n",
    "\n",
    "svm_textblob_ta_train = svm_textblob_ta[:int(len(svm_textblob_ta)*0.8)]\n",
    "svm_textblob_ta_test  = svm_textblob_ta[int(len(svm_textblob_ta)*0.8):]\n",
    "\n",
    "y_train = y[:int(len(svm_textblob)*0.8)]\n",
    "y_test  = y[int(len(svm_textblob_ta)*0.8):]"
   ]
  },
  {
   "cell_type": "code",
   "execution_count": 35,
   "id": "9a80c5a1",
   "metadata": {
    "scrolled": true
   },
   "outputs": [
    {
     "name": "stdout",
     "output_type": "stream",
     "text": [
      "821\n",
      "206\n",
      "821\n",
      "206\n",
      "821\n",
      "206\n"
     ]
    }
   ],
   "source": [
    "print(len(svm_textblob_train))\n",
    "print(len(svm_textblob_test))\n",
    "print(len(svm_textblob_ta_train))\n",
    "print(len(svm_textblob_ta_test))\n",
    "print(len(y_train))\n",
    "print(len(y_test))"
   ]
  },
  {
   "cell_type": "markdown",
   "id": "9220bcd3",
   "metadata": {},
   "source": [
    "**The best performing model that made use of the SVM algorithm was optimized by a grid search to discover the best model settings. These best settings/hyperparameters that are revealed through a grid search are presented in Table 5 on page 25**\n",
    "\n",
    "* C = 100\n",
    "* Gamma = 0.001\n",
    "* Kernel = rbf"
   ]
  },
  {
   "cell_type": "code",
   "execution_count": 36,
   "id": "ff8fe364",
   "metadata": {
    "scrolled": false
   },
   "outputs": [
    {
     "name": "stdout",
     "output_type": "stream",
     "text": [
      "1027\n",
      "1027\n",
      "1027\n"
     ]
    }
   ],
   "source": [
    "# check dimensions\n",
    "print(len(svm_textblob))\n",
    "print(len(svm_textblob_ta))\n",
    "print(len(y))"
   ]
  },
  {
   "cell_type": "code",
   "execution_count": 37,
   "id": "f6cd6b48",
   "metadata": {
    "scrolled": false
   },
   "outputs": [
    {
     "name": "stdout",
     "output_type": "stream",
     "text": [
      "371\n",
      "450\n",
      "87\n",
      "119\n"
     ]
    }
   ],
   "source": [
    "print(y_train.count(0))\n",
    "print(y_train.count(1))\n",
    "print(y_test.count(0))\n",
    "print(y_test.count(1))"
   ]
  },
  {
   "cell_type": "markdown",
   "id": "11047462",
   "metadata": {},
   "source": [
    "**SVM + TextBlob with SVM with default hyperparameters**"
   ]
  },
  {
   "cell_type": "code",
   "execution_count": 38,
   "id": "73162475",
   "metadata": {},
   "outputs": [
    {
     "name": "stdout",
     "output_type": "stream",
     "text": [
      "0.587378640776699\n"
     ]
    }
   ],
   "source": [
    "clf = svm.SVC()\n",
    "clf.fit(svm_textblob_train, y_train)\n",
    "predictions = clf.predict(svm_textblob_test)\n",
    "print(accuracy_score(y_test, predictions))"
   ]
  },
  {
   "cell_type": "code",
   "execution_count": 39,
   "id": "8a3d8f7c",
   "metadata": {
    "scrolled": true
   },
   "outputs": [
    {
     "data": {
      "text/plain": [
       "<AxesSubplot:>"
      ]
     },
     "execution_count": 39,
     "metadata": {},
     "output_type": "execute_result"
    },
    {
     "data": {
      "image/png": "[encoded data removed]",
      "text/plain": [
       "<Figure size 216x144 with 2 Axes>"
      ]
     },
     "metadata": {
      "needs_background": "light"
     },
     "output_type": "display_data"
    }
   ],
   "source": [
    "cf_matrix_0 = pd.DataFrame(confusion_matrix(y_test, predictions))\n",
    "plt.figure(figsize = (3,2))\n",
    "sn.heatmap(cf_matrix_0, annot=True, fmt='g')"
   ]
  },
  {
   "cell_type": "markdown",
   "id": "be58ef1e",
   "metadata": {},
   "source": [
    "**SVM + TextBlob with SVM with own optimal hyperparameters from grid search**"
   ]
  },
  {
   "cell_type": "code",
   "execution_count": 40,
   "id": "6259a9ea",
   "metadata": {},
   "outputs": [
    {
     "name": "stdout",
     "output_type": "stream",
     "text": [
      "Fitting 5 folds for each of 32 candidates, totalling 160 fits\n",
      "[CV] END ........................C=1, gamma=1, kernel=linear; total time=   0.0s\n",
      "[CV] END ........................C=1, gamma=1, kernel=linear; total time=   0.0s\n",
      "[CV] END ........................C=1, gamma=1, kernel=linear; total time=   0.0s\n",
      "[CV] END ........................C=1, gamma=1, kernel=linear; total time=   0.0s\n",
      "[CV] END ........................C=1, gamma=1, kernel=linear; total time=   0.0s\n",
      "[CV] END ...........................C=1, gamma=1, kernel=rbf; total time=   0.0s\n",
      "[CV] END ...........................C=1, gamma=1, kernel=rbf; total time=   0.0s\n",
      "[CV] END ...........................C=1, gamma=1, kernel=rbf; total time=   0.0s\n",
      "[CV] END ...........................C=1, gamma=1, kernel=rbf; total time=   0.0s\n",
      "[CV] END ...........................C=1, gamma=1, kernel=rbf; total time=   0.0s\n",
      "[CV] END ......................C=1, gamma=0.1, kernel=linear; total time=   0.0s\n",
      "[CV] END ......................C=1, gamma=0.1, kernel=linear; total time=   0.0s\n",
      "[CV] END ......................C=1, gamma=0.1, kernel=linear; total time=   0.0s\n",
      "[CV] END ......................C=1, gamma=0.1, kernel=linear; total time=   0.0s\n",
      "[CV] END ......................C=1, gamma=0.1, kernel=linear; total time=   0.0s\n",
      "[CV] END .........................C=1, gamma=0.1, kernel=rbf; total time=   0.0s\n",
      "[CV] END .........................C=1, gamma=0.1, kernel=rbf; total time=   0.0s\n",
      "[CV] END .........................C=1, gamma=0.1, kernel=rbf; total time=   0.0s\n",
      "[CV] END .........................C=1, gamma=0.1, kernel=rbf; total time=   0.0s\n",
      "[CV] END .........................C=1, gamma=0.1, kernel=rbf; total time=   0.0s\n",
      "[CV] END ....................C=1, gamma=0.001, kernel=linear; total time=   0.0s\n",
      "[CV] END ....................C=1, gamma=0.001, kernel=linear; total time=   0.0s\n",
      "[CV] END ....................C=1, gamma=0.001, kernel=linear; total time=   0.0s\n",
      "[CV] END ....................C=1, gamma=0.001, kernel=linear; total time=   0.0s\n",
      "[CV] END ....................C=1, gamma=0.001, kernel=linear; total time=   0.0s\n",
      "[CV] END .......................C=1, gamma=0.001, kernel=rbf; total time=   0.0s\n",
      "[CV] END .......................C=1, gamma=0.001, kernel=rbf; total time=   0.0s\n",
      "[CV] END .......................C=1, gamma=0.001, kernel=rbf; total time=   0.0s\n",
      "[CV] END .......................C=1, gamma=0.001, kernel=rbf; total time=   0.0s\n",
      "[CV] END .......................C=1, gamma=0.001, kernel=rbf; total time=   0.0s\n",
      "[CV] END ...................C=1, gamma=0.0001, kernel=linear; total time=   0.0s\n",
      "[CV] END ...................C=1, gamma=0.0001, kernel=linear; total time=   0.0s\n",
      "[CV] END ...................C=1, gamma=0.0001, kernel=linear; total time=   0.0s\n",
      "[CV] END ...................C=1, gamma=0.0001, kernel=linear; total time=   0.0s\n",
      "[CV] END ...................C=1, gamma=0.0001, kernel=linear; total time=   0.0s\n",
      "[CV] END ......................C=1, gamma=0.0001, kernel=rbf; total time=   0.0s\n",
      "[CV] END ......................C=1, gamma=0.0001, kernel=rbf; total time=   0.0s\n",
      "[CV] END ......................C=1, gamma=0.0001, kernel=rbf; total time=   0.0s\n",
      "[CV] END ......................C=1, gamma=0.0001, kernel=rbf; total time=   0.0s\n",
      "[CV] END ......................C=1, gamma=0.0001, kernel=rbf; total time=   0.0s\n",
      "[CV] END .......................C=10, gamma=1, kernel=linear; total time=   0.0s\n",
      "[CV] END .......................C=10, gamma=1, kernel=linear; total time=   0.0s\n",
      "[CV] END .......................C=10, gamma=1, kernel=linear; total time=   0.0s\n",
      "[CV] END .......................C=10, gamma=1, kernel=linear; total time=   0.0s\n",
      "[CV] END .......................C=10, gamma=1, kernel=linear; total time=   0.0s\n",
      "[CV] END ..........................C=10, gamma=1, kernel=rbf; total time=   0.0s\n",
      "[CV] END ..........................C=10, gamma=1, kernel=rbf; total time=   0.0s\n",
      "[CV] END ..........................C=10, gamma=1, kernel=rbf; total time=   0.0s\n",
      "[CV] END ..........................C=10, gamma=1, kernel=rbf; total time=   0.0s\n",
      "[CV] END ..........................C=10, gamma=1, kernel=rbf; total time=   0.0s\n",
      "[CV] END .....................C=10, gamma=0.1, kernel=linear; total time=   0.0s\n",
      "[CV] END .....................C=10, gamma=0.1, kernel=linear; total time=   0.0s\n",
      "[CV] END .....................C=10, gamma=0.1, kernel=linear; total time=   0.0s\n",
      "[CV] END .....................C=10, gamma=0.1, kernel=linear; total time=   0.0s\n",
      "[CV] END .....................C=10, gamma=0.1, kernel=linear; total time=   0.0s\n",
      "[CV] END ........................C=10, gamma=0.1, kernel=rbf; total time=   0.0s\n",
      "[CV] END ........................C=10, gamma=0.1, kernel=rbf; total time=   0.0s\n",
      "[CV] END ........................C=10, gamma=0.1, kernel=rbf; total time=   0.0s\n",
      "[CV] END ........................C=10, gamma=0.1, kernel=rbf; total time=   0.0s\n",
      "[CV] END ........................C=10, gamma=0.1, kernel=rbf; total time=   0.0s\n",
      "[CV] END ...................C=10, gamma=0.001, kernel=linear; total time=   0.0s\n",
      "[CV] END ...................C=10, gamma=0.001, kernel=linear; total time=   0.0s\n",
      "[CV] END ...................C=10, gamma=0.001, kernel=linear; total time=   0.0s\n",
      "[CV] END ...................C=10, gamma=0.001, kernel=linear; total time=   0.0s\n",
      "[CV] END ...................C=10, gamma=0.001, kernel=linear; total time=   0.0s\n",
      "[CV] END ......................C=10, gamma=0.001, kernel=rbf; total time=   0.0s\n",
      "[CV] END ......................C=10, gamma=0.001, kernel=rbf; total time=   0.0s\n",
      "[CV] END ......................C=10, gamma=0.001, kernel=rbf; total time=   0.0s\n",
      "[CV] END ......................C=10, gamma=0.001, kernel=rbf; total time=   0.0s\n",
      "[CV] END ......................C=10, gamma=0.001, kernel=rbf; total time=   0.0s\n",
      "[CV] END ..................C=10, gamma=0.0001, kernel=linear; total time=   0.0s\n",
      "[CV] END ..................C=10, gamma=0.0001, kernel=linear; total time=   0.0s\n",
      "[CV] END ..................C=10, gamma=0.0001, kernel=linear; total time=   0.0s\n",
      "[CV] END ..................C=10, gamma=0.0001, kernel=linear; total time=   0.0s\n",
      "[CV] END ..................C=10, gamma=0.0001, kernel=linear; total time=   0.0s\n",
      "[CV] END .....................C=10, gamma=0.0001, kernel=rbf; total time=   0.0s\n",
      "[CV] END .....................C=10, gamma=0.0001, kernel=rbf; total time=   0.0s\n",
      "[CV] END .....................C=10, gamma=0.0001, kernel=rbf; total time=   0.0s\n",
      "[CV] END .....................C=10, gamma=0.0001, kernel=rbf; total time=   0.0s\n",
      "[CV] END .....................C=10, gamma=0.0001, kernel=rbf; total time=   0.0s\n",
      "[CV] END ......................C=100, gamma=1, kernel=linear; total time=   0.0s\n",
      "[CV] END ......................C=100, gamma=1, kernel=linear; total time=   0.0s\n",
      "[CV] END ......................C=100, gamma=1, kernel=linear; total time=   0.0s\n",
      "[CV] END ......................C=100, gamma=1, kernel=linear; total time=   0.0s\n",
      "[CV] END ......................C=100, gamma=1, kernel=linear; total time=   0.0s\n",
      "[CV] END .........................C=100, gamma=1, kernel=rbf; total time=   0.0s\n",
      "[CV] END .........................C=100, gamma=1, kernel=rbf; total time=   0.1s\n",
      "[CV] END .........................C=100, gamma=1, kernel=rbf; total time=   0.0s\n",
      "[CV] END .........................C=100, gamma=1, kernel=rbf; total time=   0.0s\n",
      "[CV] END .........................C=100, gamma=1, kernel=rbf; total time=   0.0s\n",
      "[CV] END ....................C=100, gamma=0.1, kernel=linear; total time=   0.0s\n",
      "[CV] END ....................C=100, gamma=0.1, kernel=linear; total time=   0.0s\n",
      "[CV] END ....................C=100, gamma=0.1, kernel=linear; total time=   0.0s\n",
      "[CV] END ....................C=100, gamma=0.1, kernel=linear; total time=   0.0s\n",
      "[CV] END ....................C=100, gamma=0.1, kernel=linear; total time=   0.0s\n",
      "[CV] END .......................C=100, gamma=0.1, kernel=rbf; total time=   0.0s\n",
      "[CV] END .......................C=100, gamma=0.1, kernel=rbf; total time=   0.0s\n",
      "[CV] END .......................C=100, gamma=0.1, kernel=rbf; total time=   0.0s\n",
      "[CV] END .......................C=100, gamma=0.1, kernel=rbf; total time=   0.0s\n",
      "[CV] END .......................C=100, gamma=0.1, kernel=rbf; total time=   0.0s\n",
      "[CV] END ..................C=100, gamma=0.001, kernel=linear; total time=   0.0s\n",
      "[CV] END ..................C=100, gamma=0.001, kernel=linear; total time=   0.0s\n",
      "[CV] END ..................C=100, gamma=0.001, kernel=linear; total time=   0.0s\n",
      "[CV] END ..................C=100, gamma=0.001, kernel=linear; total time=   0.0s\n",
      "[CV] END ..................C=100, gamma=0.001, kernel=linear; total time=   0.0s\n",
      "[CV] END .....................C=100, gamma=0.001, kernel=rbf; total time=   0.0s\n",
      "[CV] END .....................C=100, gamma=0.001, kernel=rbf; total time=   0.0s\n",
      "[CV] END .....................C=100, gamma=0.001, kernel=rbf; total time=   0.0s\n",
      "[CV] END .....................C=100, gamma=0.001, kernel=rbf; total time=   0.0s\n"
     ]
    },
    {
     "name": "stdout",
     "output_type": "stream",
     "text": [
      "[CV] END .....................C=100, gamma=0.001, kernel=rbf; total time=   0.0s\n",
      "[CV] END .................C=100, gamma=0.0001, kernel=linear; total time=   0.0s\n",
      "[CV] END .................C=100, gamma=0.0001, kernel=linear; total time=   0.0s\n",
      "[CV] END .................C=100, gamma=0.0001, kernel=linear; total time=   0.0s\n",
      "[CV] END .................C=100, gamma=0.0001, kernel=linear; total time=   0.0s\n",
      "[CV] END .................C=100, gamma=0.0001, kernel=linear; total time=   0.0s\n",
      "[CV] END ....................C=100, gamma=0.0001, kernel=rbf; total time=   0.0s\n",
      "[CV] END ....................C=100, gamma=0.0001, kernel=rbf; total time=   0.0s\n",
      "[CV] END ....................C=100, gamma=0.0001, kernel=rbf; total time=   0.0s\n",
      "[CV] END ....................C=100, gamma=0.0001, kernel=rbf; total time=   0.0s\n",
      "[CV] END ....................C=100, gamma=0.0001, kernel=rbf; total time=   0.0s\n",
      "[CV] END .....................C=1000, gamma=1, kernel=linear; total time=  54.1s\n",
      "[CV] END .....................C=1000, gamma=1, kernel=linear; total time=  17.0s\n",
      "[CV] END .....................C=1000, gamma=1, kernel=linear; total time=  13.1s\n",
      "[CV] END .....................C=1000, gamma=1, kernel=linear; total time=  29.3s\n",
      "[CV] END .....................C=1000, gamma=1, kernel=linear; total time=  20.7s\n",
      "[CV] END ........................C=1000, gamma=1, kernel=rbf; total time=   0.0s\n",
      "[CV] END ........................C=1000, gamma=1, kernel=rbf; total time=   0.2s\n",
      "[CV] END ........................C=1000, gamma=1, kernel=rbf; total time=   0.0s\n",
      "[CV] END ........................C=1000, gamma=1, kernel=rbf; total time=   0.1s\n",
      "[CV] END ........................C=1000, gamma=1, kernel=rbf; total time=   0.5s\n",
      "[CV] END ...................C=1000, gamma=0.1, kernel=linear; total time=  54.4s\n",
      "[CV] END ...................C=1000, gamma=0.1, kernel=linear; total time=  18.8s\n",
      "[CV] END ...................C=1000, gamma=0.1, kernel=linear; total time=  13.1s\n",
      "[CV] END ...................C=1000, gamma=0.1, kernel=linear; total time=  28.0s\n",
      "[CV] END ...................C=1000, gamma=0.1, kernel=linear; total time=  19.4s\n",
      "[CV] END ......................C=1000, gamma=0.1, kernel=rbf; total time=   0.2s\n",
      "[CV] END ......................C=1000, gamma=0.1, kernel=rbf; total time=   0.1s\n",
      "[CV] END ......................C=1000, gamma=0.1, kernel=rbf; total time=   0.1s\n",
      "[CV] END ......................C=1000, gamma=0.1, kernel=rbf; total time=   0.1s\n",
      "[CV] END ......................C=1000, gamma=0.1, kernel=rbf; total time=   0.3s\n",
      "[CV] END .................C=1000, gamma=0.001, kernel=linear; total time=  54.9s\n",
      "[CV] END .................C=1000, gamma=0.001, kernel=linear; total time=  18.8s\n",
      "[CV] END .................C=1000, gamma=0.001, kernel=linear; total time=  15.5s\n",
      "[CV] END .................C=1000, gamma=0.001, kernel=linear; total time=  31.4s\n",
      "[CV] END .................C=1000, gamma=0.001, kernel=linear; total time=  21.2s\n",
      "[CV] END ....................C=1000, gamma=0.001, kernel=rbf; total time=   0.0s\n",
      "[CV] END ....................C=1000, gamma=0.001, kernel=rbf; total time=   0.0s\n",
      "[CV] END ....................C=1000, gamma=0.001, kernel=rbf; total time=   0.0s\n",
      "[CV] END ....................C=1000, gamma=0.001, kernel=rbf; total time=   0.0s\n",
      "[CV] END ....................C=1000, gamma=0.001, kernel=rbf; total time=   0.0s\n",
      "[CV] END ................C=1000, gamma=0.0001, kernel=linear; total time=  54.1s\n",
      "[CV] END ................C=1000, gamma=0.0001, kernel=linear; total time=  17.4s\n",
      "[CV] END ................C=1000, gamma=0.0001, kernel=linear; total time=  12.6s\n",
      "[CV] END ................C=1000, gamma=0.0001, kernel=linear; total time=  26.9s\n",
      "[CV] END ................C=1000, gamma=0.0001, kernel=linear; total time=  19.1s\n",
      "[CV] END ...................C=1000, gamma=0.0001, kernel=rbf; total time=   0.0s\n",
      "[CV] END ...................C=1000, gamma=0.0001, kernel=rbf; total time=   0.0s\n",
      "[CV] END ...................C=1000, gamma=0.0001, kernel=rbf; total time=   0.0s\n",
      "[CV] END ...................C=1000, gamma=0.0001, kernel=rbf; total time=   0.0s\n",
      "[CV] END ...................C=1000, gamma=0.0001, kernel=rbf; total time=   0.0s\n"
     ]
    },
    {
     "data": {
      "text/html": [
       "<style>#sk-container-id-1 {color: black;background-color: white;}#sk-container-id-1 pre{padding: 0;}#sk-container-id-1 div.sk-toggleable {background-color: white;}#sk-container-id-1 label.sk-toggleable__label {cursor: pointer;display: block;width: 100%;margin-bottom: 0;padding: 0.3em;box-sizing: border-box;text-align: center;}#sk-container-id-1 label.sk-toggleable__label-arrow:before {content: \"▸\";float: left;margin-right: 0.25em;color: #696969;}#sk-container-id-1 label.sk-toggleable__label-arrow:hover:before {color: black;}#sk-container-id-1 div.sk-estimator:hover label.sk-toggleable__label-arrow:before {color: black;}#sk-container-id-1 div.sk-toggleable__content {max-height: 0;max-width: 0;overflow: hidden;text-align: left;background-color: #f0f8ff;}#sk-container-id-1 div.sk-toggleable__content pre {margin: 0.2em;color: black;border-radius: 0.25em;background-color: #f0f8ff;}#sk-container-id-1 input.sk-toggleable__control:checked~div.sk-toggleable__content {max-height: 200px;max-width: 100%;overflow: auto;}#sk-container-id-1 input.sk-toggleable__control:checked~label.sk-toggleable__label-arrow:before {content: \"▾\";}#sk-container-id-1 div.sk-estimator input.sk-toggleable__control:checked~label.sk-toggleable__label {background-color: #d4ebff;}#sk-container-id-1 div.sk-label input.sk-toggleable__control:checked~label.sk-toggleable__label {background-color: #d4ebff;}#sk-container-id-1 input.sk-hidden--visually {border: 0;clip: rect(1px 1px 1px 1px);clip: rect(1px, 1px, 1px, 1px);height: 1px;margin: -1px;overflow: hidden;padding: 0;position: absolute;width: 1px;}#sk-container-id-1 div.sk-estimator {font-family: monospace;background-color: #f0f8ff;border: 1px dotted black;border-radius: 0.25em;box-sizing: border-box;margin-bottom: 0.5em;}#sk-container-id-1 div.sk-estimator:hover {background-color: #d4ebff;}#sk-container-id-1 div.sk-parallel-item::after {content: \"\";width: 100%;border-bottom: 1px solid gray;flex-grow: 1;}#sk-container-id-1 div.sk-label:hover label.sk-toggleable__label {background-color: #d4ebff;}#sk-container-id-1 div.sk-serial::before {content: \"\";position: absolute;border-left: 1px solid gray;box-sizing: border-box;top: 0;bottom: 0;left: 50%;z-index: 0;}#sk-container-id-1 div.sk-serial {display: flex;flex-direction: column;align-items: center;background-color: white;padding-right: 0.2em;padding-left: 0.2em;position: relative;}#sk-container-id-1 div.sk-item {position: relative;z-index: 1;}#sk-container-id-1 div.sk-parallel {display: flex;align-items: stretch;justify-content: center;background-color: white;position: relative;}#sk-container-id-1 div.sk-item::before, #sk-container-id-1 div.sk-parallel-item::before {content: \"\";position: absolute;border-left: 1px solid gray;box-sizing: border-box;top: 0;bottom: 0;left: 50%;z-index: -1;}#sk-container-id-1 div.sk-parallel-item {display: flex;flex-direction: column;z-index: 1;position: relative;background-color: white;}#sk-container-id-1 div.sk-parallel-item:first-child::after {align-self: flex-end;width: 50%;}#sk-container-id-1 div.sk-parallel-item:last-child::after {align-self: flex-start;width: 50%;}#sk-container-id-1 div.sk-parallel-item:only-child::after {width: 0;}#sk-container-id-1 div.sk-dashed-wrapped {border: 1px dashed gray;margin: 0 0.4em 0.5em 0.4em;box-sizing: border-box;padding-bottom: 0.4em;background-color: white;}#sk-container-id-1 div.sk-label label {font-family: monospace;font-weight: bold;display: inline-block;line-height: 1.2em;}#sk-container-id-1 div.sk-label-container {text-align: center;}#sk-container-id-1 div.sk-container {/* jupyter's `normalize.less` sets `[hidden] { display: none; }` but bootstrap.min.css set `[hidden] { display: none !important; }` so we also need the `!important` here to be able to override the default hidden behavior on the sphinx rendered scikit-learn.org. See: https://github.com/scikit-learn/scikit-learn/issues/21755 */display: inline-block !important;position: relative;}#sk-container-id-1 div.sk-text-repr-fallback {display: none;}</style><div id=\"sk-container-id-1\" class=\"sk-top-container\"><div class=\"sk-text-repr-fallback\"><pre>GridSearchCV(estimator=SVC(),\n",
       "             param_grid={&#x27;C&#x27;: [1, 10, 100, 1000],\n",
       "                         &#x27;gamma&#x27;: [1, 0.1, 0.001, 0.0001],\n",
       "                         &#x27;kernel&#x27;: [&#x27;linear&#x27;, &#x27;rbf&#x27;]},\n",
       "             verbose=2)</pre><b>In a Jupyter environment, please rerun this cell to show the HTML representation or trust the notebook. <br />On GitHub, the HTML representation is unable to render, please try loading this page with nbviewer.org.</b></div><div class=\"sk-container\" hidden><div class=\"sk-item sk-dashed-wrapped\"><div class=\"sk-label-container\"><div class=\"sk-label sk-toggleable\"><input class=\"sk-toggleable__control sk-hidden--visually\" id=\"sk-estimator-id-1\" type=\"checkbox\" ><label for=\"sk-estimator-id-1\" class=\"sk-toggleable__label sk-toggleable__label-arrow\">GridSearchCV</label><div class=\"sk-toggleable__content\"><pre>GridSearchCV(estimator=SVC(),\n",
       "             param_grid={&#x27;C&#x27;: [1, 10, 100, 1000],\n",
       "                         &#x27;gamma&#x27;: [1, 0.1, 0.001, 0.0001],\n",
       "                         &#x27;kernel&#x27;: [&#x27;linear&#x27;, &#x27;rbf&#x27;]},\n",
       "             verbose=2)</pre></div></div></div><div class=\"sk-parallel\"><div class=\"sk-parallel-item\"><div class=\"sk-item\"><div class=\"sk-label-container\"><div class=\"sk-label sk-toggleable\"><input class=\"sk-toggleable__control sk-hidden--visually\" id=\"sk-estimator-id-2\" type=\"checkbox\" ><label for=\"sk-estimator-id-2\" class=\"sk-toggleable__label sk-toggleable__label-arrow\">estimator: SVC</label><div class=\"sk-toggleable__content\"><pre>SVC()</pre></div></div></div><div class=\"sk-serial\"><div class=\"sk-item\"><div class=\"sk-estimator sk-toggleable\"><input class=\"sk-toggleable__control sk-hidden--visually\" id=\"sk-estimator-id-3\" type=\"checkbox\" ><label for=\"sk-estimator-id-3\" class=\"sk-toggleable__label sk-toggleable__label-arrow\">SVC</label><div class=\"sk-toggleable__content\"><pre>SVC()</pre></div></div></div></div></div></div></div></div></div></div>"
      ],
      "text/plain": [
       "GridSearchCV(estimator=SVC(),\n",
       "             param_grid={'C': [1, 10, 100, 1000],\n",
       "                         'gamma': [1, 0.1, 0.001, 0.0001],\n",
       "                         'kernel': ['linear', 'rbf']},\n",
       "             verbose=2)"
      ]
     },
     "execution_count": 40,
     "metadata": {},
     "output_type": "execute_result"
    }
   ],
   "source": [
    "param_grid = {'C':[1,10,100,1000],'gamma':[1,0.1,0.001,0.0001], 'kernel':['linear','rbf']}\n",
    "# grid = GridSearchCV(clf, param_grid,refit = True, verbose=2)\n",
    "grid = GridSearchCV(clf, param_grid,refit = True, verbose=2)\n",
    "grid.fit(svm_textblob_train, y_train)"
   ]
  },
  {
   "cell_type": "code",
   "execution_count": 41,
   "id": "5703b79e",
   "metadata": {},
   "outputs": [
    {
     "data": {
      "text/plain": [
       "{'C': 1, 'gamma': 1, 'kernel': 'linear'}"
      ]
     },
     "execution_count": 41,
     "metadata": {},
     "output_type": "execute_result"
    }
   ],
   "source": [
    "grid.best_params_"
   ]
  },
  {
   "cell_type": "code",
   "execution_count": 42,
   "id": "55989d7d",
   "metadata": {
    "scrolled": true
   },
   "outputs": [
    {
     "name": "stdout",
     "output_type": "stream",
     "text": [
      "0.5776699029126213\n"
     ]
    }
   ],
   "source": [
    "predictions = grid.predict(svm_textblob_test)\n",
    "print(accuracy_score(y_test, predictions))"
   ]
  },
  {
   "cell_type": "code",
   "execution_count": 43,
   "id": "41f09c73",
   "metadata": {
    "scrolled": true
   },
   "outputs": [
    {
     "data": {
      "text/plain": [
       "<AxesSubplot:>"
      ]
     },
     "execution_count": 43,
     "metadata": {},
     "output_type": "execute_result"
    },
    {
     "data": {
      "image/png": "[encoded data removed]",
      "text/plain": [
       "<Figure size 216x144 with 2 Axes>"
      ]
     },
     "metadata": {
      "needs_background": "light"
     },
     "output_type": "display_data"
    }
   ],
   "source": [
    "cf_matrix_0 = pd.DataFrame(confusion_matrix(y_test, predictions))\n",
    "plt.figure(figsize = (3,2))\n",
    "sn.heatmap(cf_matrix_0, annot=True, fmt='g')"
   ]
  },
  {
   "cell_type": "markdown",
   "id": "213944cd",
   "metadata": {},
   "source": [
    "**SVM + TextBlob with hyperparameters from paper**"
   ]
  },
  {
   "cell_type": "code",
   "execution_count": 44,
   "id": "709a1f8e",
   "metadata": {},
   "outputs": [
    {
     "data": {
      "text/html": [
       "<style>#sk-container-id-2 {color: black;background-color: white;}#sk-container-id-2 pre{padding: 0;}#sk-container-id-2 div.sk-toggleable {background-color: white;}#sk-container-id-2 label.sk-toggleable__label {cursor: pointer;display: block;width: 100%;margin-bottom: 0;padding: 0.3em;box-sizing: border-box;text-align: center;}#sk-container-id-2 label.sk-toggleable__label-arrow:before {content: \"▸\";float: left;margin-right: 0.25em;color: #696969;}#sk-container-id-2 label.sk-toggleable__label-arrow:hover:before {color: black;}#sk-container-id-2 div.sk-estimator:hover label.sk-toggleable__label-arrow:before {color: black;}#sk-container-id-2 div.sk-toggleable__content {max-height: 0;max-width: 0;overflow: hidden;text-align: left;background-color: #f0f8ff;}#sk-container-id-2 div.sk-toggleable__content pre {margin: 0.2em;color: black;border-radius: 0.25em;background-color: #f0f8ff;}#sk-container-id-2 input.sk-toggleable__control:checked~div.sk-toggleable__content {max-height: 200px;max-width: 100%;overflow: auto;}#sk-container-id-2 input.sk-toggleable__control:checked~label.sk-toggleable__label-arrow:before {content: \"▾\";}#sk-container-id-2 div.sk-estimator input.sk-toggleable__control:checked~label.sk-toggleable__label {background-color: #d4ebff;}#sk-container-id-2 div.sk-label input.sk-toggleable__control:checked~label.sk-toggleable__label {background-color: #d4ebff;}#sk-container-id-2 input.sk-hidden--visually {border: 0;clip: rect(1px 1px 1px 1px);clip: rect(1px, 1px, 1px, 1px);height: 1px;margin: -1px;overflow: hidden;padding: 0;position: absolute;width: 1px;}#sk-container-id-2 div.sk-estimator {font-family: monospace;background-color: #f0f8ff;border: 1px dotted black;border-radius: 0.25em;box-sizing: border-box;margin-bottom: 0.5em;}#sk-container-id-2 div.sk-estimator:hover {background-color: #d4ebff;}#sk-container-id-2 div.sk-parallel-item::after {content: \"\";width: 100%;border-bottom: 1px solid gray;flex-grow: 1;}#sk-container-id-2 div.sk-label:hover label.sk-toggleable__label {background-color: #d4ebff;}#sk-container-id-2 div.sk-serial::before {content: \"\";position: absolute;border-left: 1px solid gray;box-sizing: border-box;top: 0;bottom: 0;left: 50%;z-index: 0;}#sk-container-id-2 div.sk-serial {display: flex;flex-direction: column;align-items: center;background-color: white;padding-right: 0.2em;padding-left: 0.2em;position: relative;}#sk-container-id-2 div.sk-item {position: relative;z-index: 1;}#sk-container-id-2 div.sk-parallel {display: flex;align-items: stretch;justify-content: center;background-color: white;position: relative;}#sk-container-id-2 div.sk-item::before, #sk-container-id-2 div.sk-parallel-item::before {content: \"\";position: absolute;border-left: 1px solid gray;box-sizing: border-box;top: 0;bottom: 0;left: 50%;z-index: -1;}#sk-container-id-2 div.sk-parallel-item {display: flex;flex-direction: column;z-index: 1;position: relative;background-color: white;}#sk-container-id-2 div.sk-parallel-item:first-child::after {align-self: flex-end;width: 50%;}#sk-container-id-2 div.sk-parallel-item:last-child::after {align-self: flex-start;width: 50%;}#sk-container-id-2 div.sk-parallel-item:only-child::after {width: 0;}#sk-container-id-2 div.sk-dashed-wrapped {border: 1px dashed gray;margin: 0 0.4em 0.5em 0.4em;box-sizing: border-box;padding-bottom: 0.4em;background-color: white;}#sk-container-id-2 div.sk-label label {font-family: monospace;font-weight: bold;display: inline-block;line-height: 1.2em;}#sk-container-id-2 div.sk-label-container {text-align: center;}#sk-container-id-2 div.sk-container {/* jupyter's `normalize.less` sets `[hidden] { display: none; }` but bootstrap.min.css set `[hidden] { display: none !important; }` so we also need the `!important` here to be able to override the default hidden behavior on the sphinx rendered scikit-learn.org. See: https://github.com/scikit-learn/scikit-learn/issues/21755 */display: inline-block !important;position: relative;}#sk-container-id-2 div.sk-text-repr-fallback {display: none;}</style><div id=\"sk-container-id-2\" class=\"sk-top-container\"><div class=\"sk-text-repr-fallback\"><pre>SVC(C=100, gamma=0.001)</pre><b>In a Jupyter environment, please rerun this cell to show the HTML representation or trust the notebook. <br />On GitHub, the HTML representation is unable to render, please try loading this page with nbviewer.org.</b></div><div class=\"sk-container\" hidden><div class=\"sk-item\"><div class=\"sk-estimator sk-toggleable\"><input class=\"sk-toggleable__control sk-hidden--visually\" id=\"sk-estimator-id-4\" type=\"checkbox\" checked><label for=\"sk-estimator-id-4\" class=\"sk-toggleable__label sk-toggleable__label-arrow\">SVC</label><div class=\"sk-toggleable__content\"><pre>SVC(C=100, gamma=0.001)</pre></div></div></div></div></div>"
      ],
      "text/plain": [
       "SVC(C=100, gamma=0.001)"
      ]
     },
     "execution_count": 44,
     "metadata": {},
     "output_type": "execute_result"
    }
   ],
   "source": [
    "clf = svm.SVC(kernel='rbf', C=100, gamma=0.001)\n",
    "clf.fit(svm_textblob_train, y_train)"
   ]
  },
  {
   "cell_type": "code",
   "execution_count": 45,
   "id": "09e50404",
   "metadata": {},
   "outputs": [
    {
     "name": "stdout",
     "output_type": "stream",
     "text": [
      "0.5776699029126213\n"
     ]
    }
   ],
   "source": [
    "predictions = clf.predict(svm_textblob_test)\n",
    "print(accuracy_score(y_test, predictions))"
   ]
  },
  {
   "cell_type": "code",
   "execution_count": 46,
   "id": "17b294ab",
   "metadata": {},
   "outputs": [
    {
     "data": {
      "text/plain": [
       "<AxesSubplot:>"
      ]
     },
     "execution_count": 46,
     "metadata": {},
     "output_type": "execute_result"
    },
    {
     "data": {
      "image/png": "[encoded data removed]",
      "text/plain": [
       "<Figure size 216x144 with 2 Axes>"
      ]
     },
     "metadata": {
      "needs_background": "light"
     },
     "output_type": "display_data"
    }
   ],
   "source": [
    "cf_matrix_1 = pd.DataFrame(confusion_matrix(y_test, predictions))\n",
    "plt.figure(figsize = (3,2))\n",
    "sn.heatmap(cf_matrix_1, annot=True, fmt='g')"
   ]
  },
  {
   "cell_type": "code",
   "execution_count": null,
   "id": "9efe4e93",
   "metadata": {},
   "outputs": [],
   "source": []
  },
  {
   "cell_type": "code",
   "execution_count": null,
   "id": "a1849250",
   "metadata": {},
   "outputs": [],
   "source": []
  },
  {
   "cell_type": "code",
   "execution_count": null,
   "id": "b111c956",
   "metadata": {},
   "outputs": [],
   "source": []
  },
  {
   "cell_type": "markdown",
   "id": "a1aa2b15",
   "metadata": {},
   "source": [
    "**SVM + TextBlob + TA with SVM with default hyperparameters**"
   ]
  },
  {
   "cell_type": "code",
   "execution_count": 47,
   "id": "37ed4799",
   "metadata": {},
   "outputs": [
    {
     "name": "stdout",
     "output_type": "stream",
     "text": [
      "0.5388349514563107\n"
     ]
    }
   ],
   "source": [
    "clf = svm.SVC()\n",
    "clf.fit(svm_textblob_ta_train, y_train)\n",
    "predictions = clf.predict(svm_textblob_ta_test)\n",
    "print(accuracy_score(y_test, predictions))"
   ]
  },
  {
   "cell_type": "code",
   "execution_count": 48,
   "id": "67f8fe71",
   "metadata": {},
   "outputs": [
    {
     "data": {
      "text/plain": [
       "<AxesSubplot:>"
      ]
     },
     "execution_count": 48,
     "metadata": {},
     "output_type": "execute_result"
    },
    {
     "data": {
      "image/png": "[encoded data removed]",
      "text/plain": [
       "<Figure size 216x144 with 2 Axes>"
      ]
     },
     "metadata": {
      "needs_background": "light"
     },
     "output_type": "display_data"
    }
   ],
   "source": [
    "cf_matrix_0 = pd.DataFrame(confusion_matrix(y_test, predictions))\n",
    "plt.figure(figsize = (3,2))\n",
    "sn.heatmap(cf_matrix_0, annot=True, fmt='g')"
   ]
  },
  {
   "cell_type": "markdown",
   "id": "69c9fab4",
   "metadata": {},
   "source": [
    "**SVM + TextBlob + TA with SVM with own optimal hyperparameters from grid search**"
   ]
  },
  {
   "cell_type": "code",
   "execution_count": 49,
   "id": "a504bbdc",
   "metadata": {},
   "outputs": [
    {
     "name": "stdout",
     "output_type": "stream",
     "text": [
      "Fitting 5 folds for each of 32 candidates, totalling 160 fits\n",
      "[CV] END ........................C=1, gamma=1, kernel=linear; total time=   0.0s\n",
      "[CV] END ........................C=1, gamma=1, kernel=linear; total time=   0.0s\n",
      "[CV] END ........................C=1, gamma=1, kernel=linear; total time=   0.0s\n",
      "[CV] END ........................C=1, gamma=1, kernel=linear; total time=   0.0s\n",
      "[CV] END ........................C=1, gamma=1, kernel=linear; total time=   0.0s\n",
      "[CV] END ...........................C=1, gamma=1, kernel=rbf; total time=   0.0s\n",
      "[CV] END ...........................C=1, gamma=1, kernel=rbf; total time=   0.0s\n",
      "[CV] END ...........................C=1, gamma=1, kernel=rbf; total time=   0.0s\n",
      "[CV] END ...........................C=1, gamma=1, kernel=rbf; total time=   0.0s\n",
      "[CV] END ...........................C=1, gamma=1, kernel=rbf; total time=   0.0s\n",
      "[CV] END ......................C=1, gamma=0.1, kernel=linear; total time=   0.0s\n",
      "[CV] END ......................C=1, gamma=0.1, kernel=linear; total time=   0.0s\n",
      "[CV] END ......................C=1, gamma=0.1, kernel=linear; total time=   0.0s\n",
      "[CV] END ......................C=1, gamma=0.1, kernel=linear; total time=   0.0s\n",
      "[CV] END ......................C=1, gamma=0.1, kernel=linear; total time=   0.0s\n",
      "[CV] END .........................C=1, gamma=0.1, kernel=rbf; total time=   0.0s\n",
      "[CV] END .........................C=1, gamma=0.1, kernel=rbf; total time=   0.0s\n",
      "[CV] END .........................C=1, gamma=0.1, kernel=rbf; total time=   0.0s\n",
      "[CV] END .........................C=1, gamma=0.1, kernel=rbf; total time=   0.0s\n",
      "[CV] END .........................C=1, gamma=0.1, kernel=rbf; total time=   0.0s\n",
      "[CV] END ....................C=1, gamma=0.001, kernel=linear; total time=   0.0s\n",
      "[CV] END ....................C=1, gamma=0.001, kernel=linear; total time=   0.0s\n",
      "[CV] END ....................C=1, gamma=0.001, kernel=linear; total time=   0.0s\n",
      "[CV] END ....................C=1, gamma=0.001, kernel=linear; total time=   0.0s\n",
      "[CV] END ....................C=1, gamma=0.001, kernel=linear; total time=   0.0s\n",
      "[CV] END .......................C=1, gamma=0.001, kernel=rbf; total time=   0.0s\n",
      "[CV] END .......................C=1, gamma=0.001, kernel=rbf; total time=   0.0s\n",
      "[CV] END .......................C=1, gamma=0.001, kernel=rbf; total time=   0.0s\n",
      "[CV] END .......................C=1, gamma=0.001, kernel=rbf; total time=   0.0s\n",
      "[CV] END .......................C=1, gamma=0.001, kernel=rbf; total time=   0.0s\n",
      "[CV] END ...................C=1, gamma=0.0001, kernel=linear; total time=   0.0s\n",
      "[CV] END ...................C=1, gamma=0.0001, kernel=linear; total time=   0.0s\n",
      "[CV] END ...................C=1, gamma=0.0001, kernel=linear; total time=   0.0s\n",
      "[CV] END ...................C=1, gamma=0.0001, kernel=linear; total time=   0.0s\n",
      "[CV] END ...................C=1, gamma=0.0001, kernel=linear; total time=   0.0s\n",
      "[CV] END ......................C=1, gamma=0.0001, kernel=rbf; total time=   0.0s\n",
      "[CV] END ......................C=1, gamma=0.0001, kernel=rbf; total time=   0.0s\n",
      "[CV] END ......................C=1, gamma=0.0001, kernel=rbf; total time=   0.0s\n",
      "[CV] END ......................C=1, gamma=0.0001, kernel=rbf; total time=   0.0s\n",
      "[CV] END ......................C=1, gamma=0.0001, kernel=rbf; total time=   0.0s\n",
      "[CV] END .......................C=10, gamma=1, kernel=linear; total time=   0.0s\n",
      "[CV] END .......................C=10, gamma=1, kernel=linear; total time=   0.0s\n",
      "[CV] END .......................C=10, gamma=1, kernel=linear; total time=   0.0s\n",
      "[CV] END .......................C=10, gamma=1, kernel=linear; total time=   0.0s\n",
      "[CV] END .......................C=10, gamma=1, kernel=linear; total time=   0.0s\n",
      "[CV] END ..........................C=10, gamma=1, kernel=rbf; total time=   0.0s\n",
      "[CV] END ..........................C=10, gamma=1, kernel=rbf; total time=   0.0s\n",
      "[CV] END ..........................C=10, gamma=1, kernel=rbf; total time=   0.0s\n",
      "[CV] END ..........................C=10, gamma=1, kernel=rbf; total time=   0.0s\n",
      "[CV] END ..........................C=10, gamma=1, kernel=rbf; total time=   0.0s\n",
      "[CV] END .....................C=10, gamma=0.1, kernel=linear; total time=   0.0s\n",
      "[CV] END .....................C=10, gamma=0.1, kernel=linear; total time=   0.0s\n",
      "[CV] END .....................C=10, gamma=0.1, kernel=linear; total time=   0.0s\n",
      "[CV] END .....................C=10, gamma=0.1, kernel=linear; total time=   0.0s\n",
      "[CV] END .....................C=10, gamma=0.1, kernel=linear; total time=   0.0s\n",
      "[CV] END ........................C=10, gamma=0.1, kernel=rbf; total time=   0.0s\n",
      "[CV] END ........................C=10, gamma=0.1, kernel=rbf; total time=   0.0s\n",
      "[CV] END ........................C=10, gamma=0.1, kernel=rbf; total time=   0.0s\n",
      "[CV] END ........................C=10, gamma=0.1, kernel=rbf; total time=   0.0s\n",
      "[CV] END ........................C=10, gamma=0.1, kernel=rbf; total time=   0.0s\n",
      "[CV] END ...................C=10, gamma=0.001, kernel=linear; total time=   0.0s\n",
      "[CV] END ...................C=10, gamma=0.001, kernel=linear; total time=   0.0s\n",
      "[CV] END ...................C=10, gamma=0.001, kernel=linear; total time=   0.0s\n",
      "[CV] END ...................C=10, gamma=0.001, kernel=linear; total time=   0.0s\n",
      "[CV] END ...................C=10, gamma=0.001, kernel=linear; total time=   0.0s\n",
      "[CV] END ......................C=10, gamma=0.001, kernel=rbf; total time=   0.0s\n",
      "[CV] END ......................C=10, gamma=0.001, kernel=rbf; total time=   0.0s\n",
      "[CV] END ......................C=10, gamma=0.001, kernel=rbf; total time=   0.0s\n",
      "[CV] END ......................C=10, gamma=0.001, kernel=rbf; total time=   0.0s\n",
      "[CV] END ......................C=10, gamma=0.001, kernel=rbf; total time=   0.0s\n",
      "[CV] END ..................C=10, gamma=0.0001, kernel=linear; total time=   0.0s\n",
      "[CV] END ..................C=10, gamma=0.0001, kernel=linear; total time=   0.0s\n",
      "[CV] END ..................C=10, gamma=0.0001, kernel=linear; total time=   0.0s\n",
      "[CV] END ..................C=10, gamma=0.0001, kernel=linear; total time=   0.0s\n",
      "[CV] END ..................C=10, gamma=0.0001, kernel=linear; total time=   0.0s\n",
      "[CV] END .....................C=10, gamma=0.0001, kernel=rbf; total time=   0.0s\n",
      "[CV] END .....................C=10, gamma=0.0001, kernel=rbf; total time=   0.0s\n",
      "[CV] END .....................C=10, gamma=0.0001, kernel=rbf; total time=   0.0s\n",
      "[CV] END .....................C=10, gamma=0.0001, kernel=rbf; total time=   0.0s\n",
      "[CV] END .....................C=10, gamma=0.0001, kernel=rbf; total time=   0.0s\n",
      "[CV] END ......................C=100, gamma=1, kernel=linear; total time=   0.0s\n",
      "[CV] END ......................C=100, gamma=1, kernel=linear; total time=   0.0s\n",
      "[CV] END ......................C=100, gamma=1, kernel=linear; total time=   0.1s\n",
      "[CV] END ......................C=100, gamma=1, kernel=linear; total time=   0.0s\n",
      "[CV] END ......................C=100, gamma=1, kernel=linear; total time=   0.0s\n",
      "[CV] END .........................C=100, gamma=1, kernel=rbf; total time=   0.0s\n",
      "[CV] END .........................C=100, gamma=1, kernel=rbf; total time=   0.0s\n",
      "[CV] END .........................C=100, gamma=1, kernel=rbf; total time=   0.0s\n",
      "[CV] END .........................C=100, gamma=1, kernel=rbf; total time=   0.0s\n",
      "[CV] END .........................C=100, gamma=1, kernel=rbf; total time=   0.0s\n",
      "[CV] END ....................C=100, gamma=0.1, kernel=linear; total time=   0.0s\n",
      "[CV] END ....................C=100, gamma=0.1, kernel=linear; total time=   0.0s\n",
      "[CV] END ....................C=100, gamma=0.1, kernel=linear; total time=   0.1s\n",
      "[CV] END ....................C=100, gamma=0.1, kernel=linear; total time=   0.0s\n",
      "[CV] END ....................C=100, gamma=0.1, kernel=linear; total time=   0.0s\n",
      "[CV] END .......................C=100, gamma=0.1, kernel=rbf; total time=   0.0s\n",
      "[CV] END .......................C=100, gamma=0.1, kernel=rbf; total time=   0.0s\n",
      "[CV] END .......................C=100, gamma=0.1, kernel=rbf; total time=   0.0s\n",
      "[CV] END .......................C=100, gamma=0.1, kernel=rbf; total time=   0.0s\n",
      "[CV] END .......................C=100, gamma=0.1, kernel=rbf; total time=   0.0s\n",
      "[CV] END ..................C=100, gamma=0.001, kernel=linear; total time=   0.0s\n",
      "[CV] END ..................C=100, gamma=0.001, kernel=linear; total time=   0.0s\n"
     ]
    },
    {
     "name": "stdout",
     "output_type": "stream",
     "text": [
      "[CV] END ..................C=100, gamma=0.001, kernel=linear; total time=   0.1s\n",
      "[CV] END ..................C=100, gamma=0.001, kernel=linear; total time=   0.0s\n",
      "[CV] END ..................C=100, gamma=0.001, kernel=linear; total time=   0.0s\n",
      "[CV] END .....................C=100, gamma=0.001, kernel=rbf; total time=   0.0s\n",
      "[CV] END .....................C=100, gamma=0.001, kernel=rbf; total time=   0.0s\n",
      "[CV] END .....................C=100, gamma=0.001, kernel=rbf; total time=   0.0s\n",
      "[CV] END .....................C=100, gamma=0.001, kernel=rbf; total time=   0.0s\n",
      "[CV] END .....................C=100, gamma=0.001, kernel=rbf; total time=   0.0s\n",
      "[CV] END .................C=100, gamma=0.0001, kernel=linear; total time=   0.0s\n",
      "[CV] END .................C=100, gamma=0.0001, kernel=linear; total time=   0.0s\n",
      "[CV] END .................C=100, gamma=0.0001, kernel=linear; total time=   0.0s\n",
      "[CV] END .................C=100, gamma=0.0001, kernel=linear; total time=   0.0s\n",
      "[CV] END .................C=100, gamma=0.0001, kernel=linear; total time=   0.0s\n",
      "[CV] END ....................C=100, gamma=0.0001, kernel=rbf; total time=   0.0s\n",
      "[CV] END ....................C=100, gamma=0.0001, kernel=rbf; total time=   0.0s\n",
      "[CV] END ....................C=100, gamma=0.0001, kernel=rbf; total time=   0.0s\n",
      "[CV] END ....................C=100, gamma=0.0001, kernel=rbf; total time=   0.0s\n",
      "[CV] END ....................C=100, gamma=0.0001, kernel=rbf; total time=   0.0s\n",
      "[CV] END .....................C=1000, gamma=1, kernel=linear; total time=   0.5s\n",
      "[CV] END .....................C=1000, gamma=1, kernel=linear; total time=   1.1s\n",
      "[CV] END .....................C=1000, gamma=1, kernel=linear; total time=   0.8s\n",
      "[CV] END .....................C=1000, gamma=1, kernel=linear; total time=   0.9s\n",
      "[CV] END .....................C=1000, gamma=1, kernel=linear; total time=   0.6s\n",
      "[CV] END ........................C=1000, gamma=1, kernel=rbf; total time=   0.3s\n",
      "[CV] END ........................C=1000, gamma=1, kernel=rbf; total time=   0.3s\n",
      "[CV] END ........................C=1000, gamma=1, kernel=rbf; total time=   0.3s\n",
      "[CV] END ........................C=1000, gamma=1, kernel=rbf; total time=   0.3s\n",
      "[CV] END ........................C=1000, gamma=1, kernel=rbf; total time=   0.3s\n",
      "[CV] END ...................C=1000, gamma=0.1, kernel=linear; total time=   0.5s\n",
      "[CV] END ...................C=1000, gamma=0.1, kernel=linear; total time=   1.0s\n",
      "[CV] END ...................C=1000, gamma=0.1, kernel=linear; total time=   0.8s\n",
      "[CV] END ...................C=1000, gamma=0.1, kernel=linear; total time=   0.9s\n",
      "[CV] END ...................C=1000, gamma=0.1, kernel=linear; total time=   0.6s\n",
      "[CV] END ......................C=1000, gamma=0.1, kernel=rbf; total time=   0.1s\n",
      "[CV] END ......................C=1000, gamma=0.1, kernel=rbf; total time=   0.1s\n",
      "[CV] END ......................C=1000, gamma=0.1, kernel=rbf; total time=   0.1s\n",
      "[CV] END ......................C=1000, gamma=0.1, kernel=rbf; total time=   0.1s\n",
      "[CV] END ......................C=1000, gamma=0.1, kernel=rbf; total time=   0.1s\n",
      "[CV] END .................C=1000, gamma=0.001, kernel=linear; total time=   0.5s\n",
      "[CV] END .................C=1000, gamma=0.001, kernel=linear; total time=   1.1s\n",
      "[CV] END .................C=1000, gamma=0.001, kernel=linear; total time=   0.8s\n",
      "[CV] END .................C=1000, gamma=0.001, kernel=linear; total time=   0.9s\n",
      "[CV] END .................C=1000, gamma=0.001, kernel=linear; total time=   0.6s\n",
      "[CV] END ....................C=1000, gamma=0.001, kernel=rbf; total time=   0.0s\n",
      "[CV] END ....................C=1000, gamma=0.001, kernel=rbf; total time=   0.0s\n",
      "[CV] END ....................C=1000, gamma=0.001, kernel=rbf; total time=   0.0s\n",
      "[CV] END ....................C=1000, gamma=0.001, kernel=rbf; total time=   0.0s\n",
      "[CV] END ....................C=1000, gamma=0.001, kernel=rbf; total time=   0.0s\n",
      "[CV] END ................C=1000, gamma=0.0001, kernel=linear; total time=   0.5s\n",
      "[CV] END ................C=1000, gamma=0.0001, kernel=linear; total time=   1.1s\n",
      "[CV] END ................C=1000, gamma=0.0001, kernel=linear; total time=   0.8s\n",
      "[CV] END ................C=1000, gamma=0.0001, kernel=linear; total time=   0.9s\n",
      "[CV] END ................C=1000, gamma=0.0001, kernel=linear; total time=   0.6s\n",
      "[CV] END ...................C=1000, gamma=0.0001, kernel=rbf; total time=   0.0s\n",
      "[CV] END ...................C=1000, gamma=0.0001, kernel=rbf; total time=   0.0s\n",
      "[CV] END ...................C=1000, gamma=0.0001, kernel=rbf; total time=   0.0s\n",
      "[CV] END ...................C=1000, gamma=0.0001, kernel=rbf; total time=   0.0s\n",
      "[CV] END ...................C=1000, gamma=0.0001, kernel=rbf; total time=   0.0s\n"
     ]
    },
    {
     "data": {
      "text/html": [
       "<style>#sk-container-id-3 {color: black;background-color: white;}#sk-container-id-3 pre{padding: 0;}#sk-container-id-3 div.sk-toggleable {background-color: white;}#sk-container-id-3 label.sk-toggleable__label {cursor: pointer;display: block;width: 100%;margin-bottom: 0;padding: 0.3em;box-sizing: border-box;text-align: center;}#sk-container-id-3 label.sk-toggleable__label-arrow:before {content: \"▸\";float: left;margin-right: 0.25em;color: #696969;}#sk-container-id-3 label.sk-toggleable__label-arrow:hover:before {color: black;}#sk-container-id-3 div.sk-estimator:hover label.sk-toggleable__label-arrow:before {color: black;}#sk-container-id-3 div.sk-toggleable__content {max-height: 0;max-width: 0;overflow: hidden;text-align: left;background-color: #f0f8ff;}#sk-container-id-3 div.sk-toggleable__content pre {margin: 0.2em;color: black;border-radius: 0.25em;background-color: #f0f8ff;}#sk-container-id-3 input.sk-toggleable__control:checked~div.sk-toggleable__content {max-height: 200px;max-width: 100%;overflow: auto;}#sk-container-id-3 input.sk-toggleable__control:checked~label.sk-toggleable__label-arrow:before {content: \"▾\";}#sk-container-id-3 div.sk-estimator input.sk-toggleable__control:checked~label.sk-toggleable__label {background-color: #d4ebff;}#sk-container-id-3 div.sk-label input.sk-toggleable__control:checked~label.sk-toggleable__label {background-color: #d4ebff;}#sk-container-id-3 input.sk-hidden--visually {border: 0;clip: rect(1px 1px 1px 1px);clip: rect(1px, 1px, 1px, 1px);height: 1px;margin: -1px;overflow: hidden;padding: 0;position: absolute;width: 1px;}#sk-container-id-3 div.sk-estimator {font-family: monospace;background-color: #f0f8ff;border: 1px dotted black;border-radius: 0.25em;box-sizing: border-box;margin-bottom: 0.5em;}#sk-container-id-3 div.sk-estimator:hover {background-color: #d4ebff;}#sk-container-id-3 div.sk-parallel-item::after {content: \"\";width: 100%;border-bottom: 1px solid gray;flex-grow: 1;}#sk-container-id-3 div.sk-label:hover label.sk-toggleable__label {background-color: #d4ebff;}#sk-container-id-3 div.sk-serial::before {content: \"\";position: absolute;border-left: 1px solid gray;box-sizing: border-box;top: 0;bottom: 0;left: 50%;z-index: 0;}#sk-container-id-3 div.sk-serial {display: flex;flex-direction: column;align-items: center;background-color: white;padding-right: 0.2em;padding-left: 0.2em;position: relative;}#sk-container-id-3 div.sk-item {position: relative;z-index: 1;}#sk-container-id-3 div.sk-parallel {display: flex;align-items: stretch;justify-content: center;background-color: white;position: relative;}#sk-container-id-3 div.sk-item::before, #sk-container-id-3 div.sk-parallel-item::before {content: \"\";position: absolute;border-left: 1px solid gray;box-sizing: border-box;top: 0;bottom: 0;left: 50%;z-index: -1;}#sk-container-id-3 div.sk-parallel-item {display: flex;flex-direction: column;z-index: 1;position: relative;background-color: white;}#sk-container-id-3 div.sk-parallel-item:first-child::after {align-self: flex-end;width: 50%;}#sk-container-id-3 div.sk-parallel-item:last-child::after {align-self: flex-start;width: 50%;}#sk-container-id-3 div.sk-parallel-item:only-child::after {width: 0;}#sk-container-id-3 div.sk-dashed-wrapped {border: 1px dashed gray;margin: 0 0.4em 0.5em 0.4em;box-sizing: border-box;padding-bottom: 0.4em;background-color: white;}#sk-container-id-3 div.sk-label label {font-family: monospace;font-weight: bold;display: inline-block;line-height: 1.2em;}#sk-container-id-3 div.sk-label-container {text-align: center;}#sk-container-id-3 div.sk-container {/* jupyter's `normalize.less` sets `[hidden] { display: none; }` but bootstrap.min.css set `[hidden] { display: none !important; }` so we also need the `!important` here to be able to override the default hidden behavior on the sphinx rendered scikit-learn.org. See: https://github.com/scikit-learn/scikit-learn/issues/21755 */display: inline-block !important;position: relative;}#sk-container-id-3 div.sk-text-repr-fallback {display: none;}</style><div id=\"sk-container-id-3\" class=\"sk-top-container\"><div class=\"sk-text-repr-fallback\"><pre>GridSearchCV(estimator=SVC(),\n",
       "             param_grid={&#x27;C&#x27;: [1, 10, 100, 1000],\n",
       "                         &#x27;gamma&#x27;: [1, 0.1, 0.001, 0.0001],\n",
       "                         &#x27;kernel&#x27;: [&#x27;linear&#x27;, &#x27;rbf&#x27;]},\n",
       "             verbose=2)</pre><b>In a Jupyter environment, please rerun this cell to show the HTML representation or trust the notebook. <br />On GitHub, the HTML representation is unable to render, please try loading this page with nbviewer.org.</b></div><div class=\"sk-container\" hidden><div class=\"sk-item sk-dashed-wrapped\"><div class=\"sk-label-container\"><div class=\"sk-label sk-toggleable\"><input class=\"sk-toggleable__control sk-hidden--visually\" id=\"sk-estimator-id-5\" type=\"checkbox\" ><label for=\"sk-estimator-id-5\" class=\"sk-toggleable__label sk-toggleable__label-arrow\">GridSearchCV</label><div class=\"sk-toggleable__content\"><pre>GridSearchCV(estimator=SVC(),\n",
       "             param_grid={&#x27;C&#x27;: [1, 10, 100, 1000],\n",
       "                         &#x27;gamma&#x27;: [1, 0.1, 0.001, 0.0001],\n",
       "                         &#x27;kernel&#x27;: [&#x27;linear&#x27;, &#x27;rbf&#x27;]},\n",
       "             verbose=2)</pre></div></div></div><div class=\"sk-parallel\"><div class=\"sk-parallel-item\"><div class=\"sk-item\"><div class=\"sk-label-container\"><div class=\"sk-label sk-toggleable\"><input class=\"sk-toggleable__control sk-hidden--visually\" id=\"sk-estimator-id-6\" type=\"checkbox\" ><label for=\"sk-estimator-id-6\" class=\"sk-toggleable__label sk-toggleable__label-arrow\">estimator: SVC</label><div class=\"sk-toggleable__content\"><pre>SVC()</pre></div></div></div><div class=\"sk-serial\"><div class=\"sk-item\"><div class=\"sk-estimator sk-toggleable\"><input class=\"sk-toggleable__control sk-hidden--visually\" id=\"sk-estimator-id-7\" type=\"checkbox\" ><label for=\"sk-estimator-id-7\" class=\"sk-toggleable__label sk-toggleable__label-arrow\">SVC</label><div class=\"sk-toggleable__content\"><pre>SVC()</pre></div></div></div></div></div></div></div></div></div></div>"
      ],
      "text/plain": [
       "GridSearchCV(estimator=SVC(),\n",
       "             param_grid={'C': [1, 10, 100, 1000],\n",
       "                         'gamma': [1, 0.1, 0.001, 0.0001],\n",
       "                         'kernel': ['linear', 'rbf']},\n",
       "             verbose=2)"
      ]
     },
     "execution_count": 49,
     "metadata": {},
     "output_type": "execute_result"
    }
   ],
   "source": [
    "param_grid = {'C':[1,10,100,1000],'gamma':[1,0.1,0.001,0.0001], 'kernel':['linear','rbf']}\n",
    "grid = GridSearchCV(clf, param_grid,refit = True, verbose=2)\n",
    "grid.fit(svm_textblob_ta_train, y_train)"
   ]
  },
  {
   "cell_type": "code",
   "execution_count": 50,
   "id": "90b2cae9",
   "metadata": {},
   "outputs": [
    {
     "data": {
      "text/plain": [
       "{'C': 100, 'gamma': 1, 'kernel': 'linear'}"
      ]
     },
     "execution_count": 50,
     "metadata": {},
     "output_type": "execute_result"
    }
   ],
   "source": [
    "grid.best_params_"
   ]
  },
  {
   "cell_type": "code",
   "execution_count": 51,
   "id": "9f23b0b6",
   "metadata": {},
   "outputs": [
    {
     "name": "stdout",
     "output_type": "stream",
     "text": [
      "0.6699029126213593\n"
     ]
    }
   ],
   "source": [
    "predictions = grid.predict(svm_textblob_ta_test)\n",
    "print(accuracy_score(y_test, predictions))"
   ]
  },
  {
   "cell_type": "code",
   "execution_count": 52,
   "id": "77bb2a87",
   "metadata": {},
   "outputs": [
    {
     "data": {
      "text/plain": [
       "<AxesSubplot:>"
      ]
     },
     "execution_count": 52,
     "metadata": {},
     "output_type": "execute_result"
    },
    {
     "data": {
      "image/png": "[encoded data removed]",
      "text/plain": [
       "<Figure size 216x144 with 2 Axes>"
      ]
     },
     "metadata": {
      "needs_background": "light"
     },
     "output_type": "display_data"
    }
   ],
   "source": [
    "cf_matrix_0 = pd.DataFrame(confusion_matrix(y_test, predictions))\n",
    "plt.figure(figsize = (3,2))\n",
    "sn.heatmap(cf_matrix_0, annot=True, fmt='g')"
   ]
  },
  {
   "cell_type": "markdown",
   "id": "f97dc364",
   "metadata": {},
   "source": [
    "**SVM + TextBlob + TA with hyperparameters from paper**"
   ]
  },
  {
   "cell_type": "code",
   "execution_count": 53,
   "id": "de46f832",
   "metadata": {},
   "outputs": [
    {
     "data": {
      "text/html": [
       "<style>#sk-container-id-4 {color: black;background-color: white;}#sk-container-id-4 pre{padding: 0;}#sk-container-id-4 div.sk-toggleable {background-color: white;}#sk-container-id-4 label.sk-toggleable__label {cursor: pointer;display: block;width: 100%;margin-bottom: 0;padding: 0.3em;box-sizing: border-box;text-align: center;}#sk-container-id-4 label.sk-toggleable__label-arrow:before {content: \"▸\";float: left;margin-right: 0.25em;color: #696969;}#sk-container-id-4 label.sk-toggleable__label-arrow:hover:before {color: black;}#sk-container-id-4 div.sk-estimator:hover label.sk-toggleable__label-arrow:before {color: black;}#sk-container-id-4 div.sk-toggleable__content {max-height: 0;max-width: 0;overflow: hidden;text-align: left;background-color: #f0f8ff;}#sk-container-id-4 div.sk-toggleable__content pre {margin: 0.2em;color: black;border-radius: 0.25em;background-color: #f0f8ff;}#sk-container-id-4 input.sk-toggleable__control:checked~div.sk-toggleable__content {max-height: 200px;max-width: 100%;overflow: auto;}#sk-container-id-4 input.sk-toggleable__control:checked~label.sk-toggleable__label-arrow:before {content: \"▾\";}#sk-container-id-4 div.sk-estimator input.sk-toggleable__control:checked~label.sk-toggleable__label {background-color: #d4ebff;}#sk-container-id-4 div.sk-label input.sk-toggleable__control:checked~label.sk-toggleable__label {background-color: #d4ebff;}#sk-container-id-4 input.sk-hidden--visually {border: 0;clip: rect(1px 1px 1px 1px);clip: rect(1px, 1px, 1px, 1px);height: 1px;margin: -1px;overflow: hidden;padding: 0;position: absolute;width: 1px;}#sk-container-id-4 div.sk-estimator {font-family: monospace;background-color: #f0f8ff;border: 1px dotted black;border-radius: 0.25em;box-sizing: border-box;margin-bottom: 0.5em;}#sk-container-id-4 div.sk-estimator:hover {background-color: #d4ebff;}#sk-container-id-4 div.sk-parallel-item::after {content: \"\";width: 100%;border-bottom: 1px solid gray;flex-grow: 1;}#sk-container-id-4 div.sk-label:hover label.sk-toggleable__label {background-color: #d4ebff;}#sk-container-id-4 div.sk-serial::before {content: \"\";position: absolute;border-left: 1px solid gray;box-sizing: border-box;top: 0;bottom: 0;left: 50%;z-index: 0;}#sk-container-id-4 div.sk-serial {display: flex;flex-direction: column;align-items: center;background-color: white;padding-right: 0.2em;padding-left: 0.2em;position: relative;}#sk-container-id-4 div.sk-item {position: relative;z-index: 1;}#sk-container-id-4 div.sk-parallel {display: flex;align-items: stretch;justify-content: center;background-color: white;position: relative;}#sk-container-id-4 div.sk-item::before, #sk-container-id-4 div.sk-parallel-item::before {content: \"\";position: absolute;border-left: 1px solid gray;box-sizing: border-box;top: 0;bottom: 0;left: 50%;z-index: -1;}#sk-container-id-4 div.sk-parallel-item {display: flex;flex-direction: column;z-index: 1;position: relative;background-color: white;}#sk-container-id-4 div.sk-parallel-item:first-child::after {align-self: flex-end;width: 50%;}#sk-container-id-4 div.sk-parallel-item:last-child::after {align-self: flex-start;width: 50%;}#sk-container-id-4 div.sk-parallel-item:only-child::after {width: 0;}#sk-container-id-4 div.sk-dashed-wrapped {border: 1px dashed gray;margin: 0 0.4em 0.5em 0.4em;box-sizing: border-box;padding-bottom: 0.4em;background-color: white;}#sk-container-id-4 div.sk-label label {font-family: monospace;font-weight: bold;display: inline-block;line-height: 1.2em;}#sk-container-id-4 div.sk-label-container {text-align: center;}#sk-container-id-4 div.sk-container {/* jupyter's `normalize.less` sets `[hidden] { display: none; }` but bootstrap.min.css set `[hidden] { display: none !important; }` so we also need the `!important` here to be able to override the default hidden behavior on the sphinx rendered scikit-learn.org. See: https://github.com/scikit-learn/scikit-learn/issues/21755 */display: inline-block !important;position: relative;}#sk-container-id-4 div.sk-text-repr-fallback {display: none;}</style><div id=\"sk-container-id-4\" class=\"sk-top-container\"><div class=\"sk-text-repr-fallback\"><pre>SVC(C=100, gamma=0.001)</pre><b>In a Jupyter environment, please rerun this cell to show the HTML representation or trust the notebook. <br />On GitHub, the HTML representation is unable to render, please try loading this page with nbviewer.org.</b></div><div class=\"sk-container\" hidden><div class=\"sk-item\"><div class=\"sk-estimator sk-toggleable\"><input class=\"sk-toggleable__control sk-hidden--visually\" id=\"sk-estimator-id-8\" type=\"checkbox\" checked><label for=\"sk-estimator-id-8\" class=\"sk-toggleable__label sk-toggleable__label-arrow\">SVC</label><div class=\"sk-toggleable__content\"><pre>SVC(C=100, gamma=0.001)</pre></div></div></div></div></div>"
      ],
      "text/plain": [
       "SVC(C=100, gamma=0.001)"
      ]
     },
     "execution_count": 53,
     "metadata": {},
     "output_type": "execute_result"
    }
   ],
   "source": [
    "clf = svm.SVC(kernel='rbf', C=100, gamma=0.001)\n",
    "clf.fit(svm_textblob_ta_train, y_train)"
   ]
  },
  {
   "cell_type": "code",
   "execution_count": 54,
   "id": "0f4252c8",
   "metadata": {},
   "outputs": [
    {
     "name": "stdout",
     "output_type": "stream",
     "text": [
      "0.5922330097087378\n"
     ]
    }
   ],
   "source": [
    "predictions = clf.predict(svm_textblob_ta_test)\n",
    "print(accuracy_score(y_test, predictions))"
   ]
  },
  {
   "cell_type": "code",
   "execution_count": 55,
   "id": "bb26668c",
   "metadata": {},
   "outputs": [
    {
     "data": {
      "text/plain": [
       "<AxesSubplot:>"
      ]
     },
     "execution_count": 55,
     "metadata": {},
     "output_type": "execute_result"
    },
    {
     "data": {
      "image/png": "[encoded data removed]",
      "text/plain": [
       "<Figure size 216x144 with 2 Axes>"
      ]
     },
     "metadata": {
      "needs_background": "light"
     },
     "output_type": "display_data"
    }
   ],
   "source": [
    "cf_matrix_2 = pd.DataFrame(confusion_matrix(y_test, predictions))\n",
    "plt.figure(figsize = (3,2))\n",
    "sn.heatmap(cf_matrix_2, annot=True, fmt='g')"
   ]
  },
  {
   "cell_type": "code",
   "execution_count": null,
   "id": "8d024dbf",
   "metadata": {},
   "outputs": [],
   "source": []
  }
 ],
 "metadata": {
  "kernelspec": {
   "display_name": "venv",
   "language": "python",
   "name": "venv"
  },
  "language_info": {
   "codemirror_mode": {
    "name": "ipython",
    "version": 3
   },
   "file_extension": ".py",
   "mimetype": "text/x-python",
   "name": "python",
   "nbconvert_exporter": "python",
   "pygments_lexer": "ipython3",
   "version": "3.8.10"
  }
 },
 "nbformat": 4,
 "nbformat_minor": 5
}
